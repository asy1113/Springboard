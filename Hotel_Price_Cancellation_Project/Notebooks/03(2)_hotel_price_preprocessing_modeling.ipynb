{
 "cells": [
  {
   "cell_type": "markdown",
   "metadata": {},
   "source": [
    "# Preprocessing and Training Data"
   ]
  },
  {
   "cell_type": "code",
   "execution_count": 1,
   "metadata": {},
   "outputs": [],
   "source": [
    "# import necessary packages and load dataset\n",
    "\n",
    "import pandas as pd\n",
    "import numpy as np\n",
    "\n",
    "from sklearn.model_selection import train_test_split, cross_validate, GridSearchCV, RandomizedSearchCV\n",
    "from sklearn.preprocessing import StandardScaler\n",
    "from sklearn.linear_model import LinearRegression\n",
    "from sklearn.neighbors import KNeighborsRegressor\n",
    "from sklearn.svm import LinearSVR\n",
    "from sklearn.tree import DecisionTreeRegressor\n",
    "from sklearn.ensemble import GradientBoostingRegressor\n",
    "from sklearn.ensemble import RandomForestRegressor\n",
    "\n",
    "from sklearn.metrics import r2_score, mean_squared_error, mean_absolute_error\n",
    "from tabulate import tabulate\n",
    "\n",
    "import shap"
   ]
  },
  {
   "cell_type": "code",
   "execution_count": 2,
   "metadata": {},
   "outputs": [],
   "source": [
    "df = pd.read_csv('../data/hotel_data_cleaned.csv')"
   ]
  },
  {
   "cell_type": "code",
   "execution_count": 3,
   "metadata": {},
   "outputs": [
    {
     "data": {
      "text/html": [
       "<div>\n",
       "<style scoped>\n",
       "    .dataframe tbody tr th:only-of-type {\n",
       "        vertical-align: middle;\n",
       "    }\n",
       "\n",
       "    .dataframe tbody tr th {\n",
       "        vertical-align: top;\n",
       "    }\n",
       "\n",
       "    .dataframe thead th {\n",
       "        text-align: right;\n",
       "    }\n",
       "</style>\n",
       "<table border=\"1\" class=\"dataframe\">\n",
       "  <thead>\n",
       "    <tr style=\"text-align: right;\">\n",
       "      <th></th>\n",
       "      <th>hotel</th>\n",
       "      <th>is_canceled</th>\n",
       "      <th>lead_time</th>\n",
       "      <th>arrival_date_year</th>\n",
       "      <th>arrival_date_month</th>\n",
       "      <th>arrival_date_week_number</th>\n",
       "      <th>arrival_date_day</th>\n",
       "      <th>stays_in_weekend_nights</th>\n",
       "      <th>stays_in_week_nights</th>\n",
       "      <th>adults</th>\n",
       "      <th>...</th>\n",
       "      <th>customer_type</th>\n",
       "      <th>adr</th>\n",
       "      <th>required_car_parking_spaces</th>\n",
       "      <th>total_of_special_requests</th>\n",
       "      <th>reservation_status</th>\n",
       "      <th>reservation_status_date_year</th>\n",
       "      <th>reservation_status_date_month</th>\n",
       "      <th>reservation_status_date_day</th>\n",
       "      <th>reservation_status_day_of_week</th>\n",
       "      <th>arrival_date_day_of_week</th>\n",
       "    </tr>\n",
       "  </thead>\n",
       "  <tbody>\n",
       "    <tr>\n",
       "      <th>0</th>\n",
       "      <td>Resort Hotel</td>\n",
       "      <td>0</td>\n",
       "      <td>7</td>\n",
       "      <td>2015</td>\n",
       "      <td>7</td>\n",
       "      <td>27</td>\n",
       "      <td>1</td>\n",
       "      <td>0</td>\n",
       "      <td>1</td>\n",
       "      <td>1</td>\n",
       "      <td>...</td>\n",
       "      <td>Transient</td>\n",
       "      <td>75.0</td>\n",
       "      <td>0</td>\n",
       "      <td>0</td>\n",
       "      <td>Check-Out</td>\n",
       "      <td>2015</td>\n",
       "      <td>7</td>\n",
       "      <td>2</td>\n",
       "      <td>Thursday</td>\n",
       "      <td>Wednesday</td>\n",
       "    </tr>\n",
       "    <tr>\n",
       "      <th>1</th>\n",
       "      <td>Resort Hotel</td>\n",
       "      <td>0</td>\n",
       "      <td>13</td>\n",
       "      <td>2015</td>\n",
       "      <td>7</td>\n",
       "      <td>27</td>\n",
       "      <td>1</td>\n",
       "      <td>0</td>\n",
       "      <td>1</td>\n",
       "      <td>1</td>\n",
       "      <td>...</td>\n",
       "      <td>Transient</td>\n",
       "      <td>75.0</td>\n",
       "      <td>0</td>\n",
       "      <td>0</td>\n",
       "      <td>Check-Out</td>\n",
       "      <td>2015</td>\n",
       "      <td>7</td>\n",
       "      <td>2</td>\n",
       "      <td>Thursday</td>\n",
       "      <td>Wednesday</td>\n",
       "    </tr>\n",
       "    <tr>\n",
       "      <th>2</th>\n",
       "      <td>Resort Hotel</td>\n",
       "      <td>0</td>\n",
       "      <td>14</td>\n",
       "      <td>2015</td>\n",
       "      <td>7</td>\n",
       "      <td>27</td>\n",
       "      <td>1</td>\n",
       "      <td>0</td>\n",
       "      <td>2</td>\n",
       "      <td>2</td>\n",
       "      <td>...</td>\n",
       "      <td>Transient</td>\n",
       "      <td>98.0</td>\n",
       "      <td>0</td>\n",
       "      <td>1</td>\n",
       "      <td>Check-Out</td>\n",
       "      <td>2015</td>\n",
       "      <td>7</td>\n",
       "      <td>3</td>\n",
       "      <td>Friday</td>\n",
       "      <td>Wednesday</td>\n",
       "    </tr>\n",
       "    <tr>\n",
       "      <th>3</th>\n",
       "      <td>Resort Hotel</td>\n",
       "      <td>0</td>\n",
       "      <td>14</td>\n",
       "      <td>2015</td>\n",
       "      <td>7</td>\n",
       "      <td>27</td>\n",
       "      <td>1</td>\n",
       "      <td>0</td>\n",
       "      <td>2</td>\n",
       "      <td>2</td>\n",
       "      <td>...</td>\n",
       "      <td>Transient</td>\n",
       "      <td>98.0</td>\n",
       "      <td>0</td>\n",
       "      <td>1</td>\n",
       "      <td>Check-Out</td>\n",
       "      <td>2015</td>\n",
       "      <td>7</td>\n",
       "      <td>3</td>\n",
       "      <td>Friday</td>\n",
       "      <td>Wednesday</td>\n",
       "    </tr>\n",
       "    <tr>\n",
       "      <th>4</th>\n",
       "      <td>Resort Hotel</td>\n",
       "      <td>0</td>\n",
       "      <td>0</td>\n",
       "      <td>2015</td>\n",
       "      <td>7</td>\n",
       "      <td>27</td>\n",
       "      <td>1</td>\n",
       "      <td>0</td>\n",
       "      <td>2</td>\n",
       "      <td>2</td>\n",
       "      <td>...</td>\n",
       "      <td>Transient</td>\n",
       "      <td>107.0</td>\n",
       "      <td>0</td>\n",
       "      <td>0</td>\n",
       "      <td>Check-Out</td>\n",
       "      <td>2015</td>\n",
       "      <td>7</td>\n",
       "      <td>3</td>\n",
       "      <td>Friday</td>\n",
       "      <td>Wednesday</td>\n",
       "    </tr>\n",
       "  </tbody>\n",
       "</table>\n",
       "<p>5 rows × 35 columns</p>\n",
       "</div>"
      ],
      "text/plain": [
       "          hotel  is_canceled  lead_time  arrival_date_year  \\\n",
       "0  Resort Hotel            0          7               2015   \n",
       "1  Resort Hotel            0         13               2015   \n",
       "2  Resort Hotel            0         14               2015   \n",
       "3  Resort Hotel            0         14               2015   \n",
       "4  Resort Hotel            0          0               2015   \n",
       "\n",
       "   arrival_date_month  arrival_date_week_number  arrival_date_day  \\\n",
       "0                   7                        27                 1   \n",
       "1                   7                        27                 1   \n",
       "2                   7                        27                 1   \n",
       "3                   7                        27                 1   \n",
       "4                   7                        27                 1   \n",
       "\n",
       "   stays_in_weekend_nights  stays_in_week_nights  adults  ...  customer_type  \\\n",
       "0                        0                     1       1  ...      Transient   \n",
       "1                        0                     1       1  ...      Transient   \n",
       "2                        0                     2       2  ...      Transient   \n",
       "3                        0                     2       2  ...      Transient   \n",
       "4                        0                     2       2  ...      Transient   \n",
       "\n",
       "     adr required_car_parking_spaces total_of_special_requests  \\\n",
       "0   75.0                           0                         0   \n",
       "1   75.0                           0                         0   \n",
       "2   98.0                           0                         1   \n",
       "3   98.0                           0                         1   \n",
       "4  107.0                           0                         0   \n",
       "\n",
       "  reservation_status reservation_status_date_year  \\\n",
       "0          Check-Out                         2015   \n",
       "1          Check-Out                         2015   \n",
       "2          Check-Out                         2015   \n",
       "3          Check-Out                         2015   \n",
       "4          Check-Out                         2015   \n",
       "\n",
       "   reservation_status_date_month  reservation_status_date_day  \\\n",
       "0                              7                            2   \n",
       "1                              7                            2   \n",
       "2                              7                            3   \n",
       "3                              7                            3   \n",
       "4                              7                            3   \n",
       "\n",
       "   reservation_status_day_of_week arrival_date_day_of_week  \n",
       "0                        Thursday                Wednesday  \n",
       "1                        Thursday                Wednesday  \n",
       "2                          Friday                Wednesday  \n",
       "3                          Friday                Wednesday  \n",
       "4                          Friday                Wednesday  \n",
       "\n",
       "[5 rows x 35 columns]"
      ]
     },
     "execution_count": 3,
     "metadata": {},
     "output_type": "execute_result"
    }
   ],
   "source": [
    "df.head()"
   ]
  },
  {
   "cell_type": "code",
   "execution_count": 4,
   "metadata": {},
   "outputs": [
    {
     "data": {
      "text/plain": [
       "hotel                              object\n",
       "is_canceled                         int64\n",
       "lead_time                           int64\n",
       "arrival_date_year                   int64\n",
       "arrival_date_month                  int64\n",
       "arrival_date_week_number            int64\n",
       "arrival_date_day                    int64\n",
       "stays_in_weekend_nights             int64\n",
       "stays_in_week_nights                int64\n",
       "adults                              int64\n",
       "children                          float64\n",
       "babies                              int64\n",
       "meal                               object\n",
       "country                            object\n",
       "market_segment                     object\n",
       "distribution_channel               object\n",
       "is_repeated_guest                   int64\n",
       "previous_cancellations              int64\n",
       "previous_bookings_not_canceled      int64\n",
       "reserved_room_type                 object\n",
       "assigned_room_type                 object\n",
       "booking_changes                     int64\n",
       "deposit_type                       object\n",
       "agent                             float64\n",
       "days_in_waiting_list                int64\n",
       "customer_type                      object\n",
       "adr                               float64\n",
       "required_car_parking_spaces         int64\n",
       "total_of_special_requests           int64\n",
       "reservation_status                 object\n",
       "reservation_status_date_year        int64\n",
       "reservation_status_date_month       int64\n",
       "reservation_status_date_day         int64\n",
       "reservation_status_day_of_week     object\n",
       "arrival_date_day_of_week           object\n",
       "dtype: object"
      ]
     },
     "execution_count": 4,
     "metadata": {},
     "output_type": "execute_result"
    }
   ],
   "source": [
    "df.dtypes"
   ]
  },
  {
   "cell_type": "code",
   "execution_count": 5,
   "metadata": {},
   "outputs": [],
   "source": [
    "df=df.drop(columns='reservation_status')"
   ]
  },
  {
   "cell_type": "markdown",
   "metadata": {},
   "source": [
    "## Transform categorical, text data"
   ]
  },
  {
   "cell_type": "code",
   "execution_count": 6,
   "metadata": {},
   "outputs": [
    {
     "data": {
      "text/plain": [
       "(116951, 260)"
      ]
     },
     "execution_count": 6,
     "metadata": {},
     "output_type": "execute_result"
    }
   ],
   "source": [
    "df1= pd.get_dummies(df, columns=['hotel','arrival_date_day_of_week','meal', 'country', \n",
    "                                 'market_segment', 'distribution_channel', 'reserved_room_type', \n",
    "                                 'assigned_room_type', 'deposit_type', 'customer_type',\n",
    "                                 'reservation_status_day_of_week'], drop_first=False)\n",
    "df1.shape"
   ]
  },
  {
   "cell_type": "markdown",
   "metadata": {},
   "source": [
    "## Train/Test Split (Churn)"
   ]
  },
  {
   "cell_type": "code",
   "execution_count": 7,
   "metadata": {},
   "outputs": [
    {
     "data": {
      "text/plain": [
       "(81865.7, 35085.299999999996)"
      ]
     },
     "execution_count": 7,
     "metadata": {},
     "output_type": "execute_result"
    }
   ],
   "source": [
    "len(df1) * .7, len(df1) * .3"
   ]
  },
  {
   "cell_type": "code",
   "execution_count": 8,
   "metadata": {},
   "outputs": [],
   "source": [
    "X_train, X_test, y_train, y_test = train_test_split(df1.drop(columns='adr'), \n",
    "                                                    df1.adr, test_size=0.3, \n",
    "                                                    random_state=46)"
   ]
  },
  {
   "cell_type": "code",
   "execution_count": 9,
   "metadata": {},
   "outputs": [
    {
     "data": {
      "text/plain": [
       "((81865, 259), (35086, 259))"
      ]
     },
     "execution_count": 9,
     "metadata": {},
     "output_type": "execute_result"
    }
   ],
   "source": [
    "X_train.shape, X_test.shape"
   ]
  },
  {
   "cell_type": "code",
   "execution_count": 10,
   "metadata": {},
   "outputs": [
    {
     "data": {
      "text/plain": [
       "((81865,), (35086,))"
      ]
     },
     "execution_count": 10,
     "metadata": {},
     "output_type": "execute_result"
    }
   ],
   "source": [
    "y_train.shape, y_test.shape"
   ]
  },
  {
   "cell_type": "code",
   "execution_count": 25,
   "metadata": {},
   "outputs": [
    {
     "data": {
      "text/plain": [
       "array(['lead_time', 'arrival_date_year', 'arrival_date_month',\n",
       "       'arrival_date_week_number', 'arrival_date_day',\n",
       "       'stays_in_weekend_nights', 'stays_in_week_nights', 'adults',\n",
       "       'children', 'babies', 'is_repeated_guest',\n",
       "       'previous_cancellations', 'previous_bookings_not_canceled',\n",
       "       'booking_changes', 'agent', 'days_in_waiting_list',\n",
       "       'required_car_parking_spaces', 'total_of_special_requests',\n",
       "       'reservation_status_date_year', 'reservation_status_date_month',\n",
       "       'reservation_status_date_day'], dtype=object)"
      ]
     },
     "execution_count": 25,
     "metadata": {},
     "output_type": "execute_result"
    }
   ],
   "source": [
    "# columns with numeric values to scale\n",
    "\n",
    "num_cols = df.drop(columns=['adr','is_canceled']).select_dtypes([np.number]).columns.values\n",
    "num_cols"
   ]
  },
  {
   "cell_type": "code",
   "execution_count": 12,
   "metadata": {},
   "outputs": [],
   "source": [
    "X_tr_num = X_train[num_cols]\n",
    "X_te_num = X_test[num_cols]"
   ]
  },
  {
   "cell_type": "code",
   "execution_count": 13,
   "metadata": {},
   "outputs": [
    {
     "data": {
      "text/html": [
       "<div>\n",
       "<style scoped>\n",
       "    .dataframe tbody tr th:only-of-type {\n",
       "        vertical-align: middle;\n",
       "    }\n",
       "\n",
       "    .dataframe tbody tr th {\n",
       "        vertical-align: top;\n",
       "    }\n",
       "\n",
       "    .dataframe thead th {\n",
       "        text-align: right;\n",
       "    }\n",
       "</style>\n",
       "<table border=\"1\" class=\"dataframe\">\n",
       "  <thead>\n",
       "    <tr style=\"text-align: right;\">\n",
       "      <th></th>\n",
       "      <th>lead_time</th>\n",
       "      <th>arrival_date_year</th>\n",
       "      <th>arrival_date_month</th>\n",
       "      <th>arrival_date_week_number</th>\n",
       "      <th>arrival_date_day</th>\n",
       "      <th>stays_in_weekend_nights</th>\n",
       "      <th>stays_in_week_nights</th>\n",
       "      <th>adults</th>\n",
       "      <th>children</th>\n",
       "      <th>babies</th>\n",
       "      <th>...</th>\n",
       "      <th>previous_cancellations</th>\n",
       "      <th>previous_bookings_not_canceled</th>\n",
       "      <th>booking_changes</th>\n",
       "      <th>agent</th>\n",
       "      <th>days_in_waiting_list</th>\n",
       "      <th>required_car_parking_spaces</th>\n",
       "      <th>total_of_special_requests</th>\n",
       "      <th>reservation_status_date_year</th>\n",
       "      <th>reservation_status_date_month</th>\n",
       "      <th>reservation_status_date_day</th>\n",
       "    </tr>\n",
       "  </thead>\n",
       "  <tbody>\n",
       "    <tr>\n",
       "      <th>60587</th>\n",
       "      <td>41</td>\n",
       "      <td>2016</td>\n",
       "      <td>12</td>\n",
       "      <td>53</td>\n",
       "      <td>27</td>\n",
       "      <td>1</td>\n",
       "      <td>5</td>\n",
       "      <td>2</td>\n",
       "      <td>0.0</td>\n",
       "      <td>0</td>\n",
       "      <td>...</td>\n",
       "      <td>0</td>\n",
       "      <td>0</td>\n",
       "      <td>1</td>\n",
       "      <td>220.0</td>\n",
       "      <td>0</td>\n",
       "      <td>0</td>\n",
       "      <td>0</td>\n",
       "      <td>2016</td>\n",
       "      <td>12</td>\n",
       "      <td>27</td>\n",
       "    </tr>\n",
       "    <tr>\n",
       "      <th>40867</th>\n",
       "      <td>11</td>\n",
       "      <td>2015</td>\n",
       "      <td>8</td>\n",
       "      <td>35</td>\n",
       "      <td>28</td>\n",
       "      <td>0</td>\n",
       "      <td>2</td>\n",
       "      <td>2</td>\n",
       "      <td>0.0</td>\n",
       "      <td>0</td>\n",
       "      <td>...</td>\n",
       "      <td>0</td>\n",
       "      <td>0</td>\n",
       "      <td>0</td>\n",
       "      <td>9.0</td>\n",
       "      <td>0</td>\n",
       "      <td>0</td>\n",
       "      <td>2</td>\n",
       "      <td>2015</td>\n",
       "      <td>8</td>\n",
       "      <td>30</td>\n",
       "    </tr>\n",
       "    <tr>\n",
       "      <th>37114</th>\n",
       "      <td>170</td>\n",
       "      <td>2017</td>\n",
       "      <td>7</td>\n",
       "      <td>27</td>\n",
       "      <td>4</td>\n",
       "      <td>0</td>\n",
       "      <td>5</td>\n",
       "      <td>2</td>\n",
       "      <td>0.0</td>\n",
       "      <td>0</td>\n",
       "      <td>...</td>\n",
       "      <td>0</td>\n",
       "      <td>0</td>\n",
       "      <td>0</td>\n",
       "      <td>241.0</td>\n",
       "      <td>0</td>\n",
       "      <td>0</td>\n",
       "      <td>0</td>\n",
       "      <td>2017</td>\n",
       "      <td>7</td>\n",
       "      <td>9</td>\n",
       "    </tr>\n",
       "    <tr>\n",
       "      <th>62255</th>\n",
       "      <td>61</td>\n",
       "      <td>2017</td>\n",
       "      <td>2</td>\n",
       "      <td>7</td>\n",
       "      <td>13</td>\n",
       "      <td>1</td>\n",
       "      <td>2</td>\n",
       "      <td>2</td>\n",
       "      <td>0.0</td>\n",
       "      <td>0</td>\n",
       "      <td>...</td>\n",
       "      <td>0</td>\n",
       "      <td>0</td>\n",
       "      <td>0</td>\n",
       "      <td>9.0</td>\n",
       "      <td>0</td>\n",
       "      <td>0</td>\n",
       "      <td>0</td>\n",
       "      <td>2016</td>\n",
       "      <td>12</td>\n",
       "      <td>14</td>\n",
       "    </tr>\n",
       "    <tr>\n",
       "      <th>30397</th>\n",
       "      <td>4</td>\n",
       "      <td>2016</td>\n",
       "      <td>12</td>\n",
       "      <td>51</td>\n",
       "      <td>17</td>\n",
       "      <td>0</td>\n",
       "      <td>1</td>\n",
       "      <td>2</td>\n",
       "      <td>0.0</td>\n",
       "      <td>0</td>\n",
       "      <td>...</td>\n",
       "      <td>0</td>\n",
       "      <td>0</td>\n",
       "      <td>0</td>\n",
       "      <td>241.0</td>\n",
       "      <td>0</td>\n",
       "      <td>0</td>\n",
       "      <td>1</td>\n",
       "      <td>2016</td>\n",
       "      <td>12</td>\n",
       "      <td>18</td>\n",
       "    </tr>\n",
       "    <tr>\n",
       "      <th>...</th>\n",
       "      <td>...</td>\n",
       "      <td>...</td>\n",
       "      <td>...</td>\n",
       "      <td>...</td>\n",
       "      <td>...</td>\n",
       "      <td>...</td>\n",
       "      <td>...</td>\n",
       "      <td>...</td>\n",
       "      <td>...</td>\n",
       "      <td>...</td>\n",
       "      <td>...</td>\n",
       "      <td>...</td>\n",
       "      <td>...</td>\n",
       "      <td>...</td>\n",
       "      <td>...</td>\n",
       "      <td>...</td>\n",
       "      <td>...</td>\n",
       "      <td>...</td>\n",
       "      <td>...</td>\n",
       "      <td>...</td>\n",
       "      <td>...</td>\n",
       "    </tr>\n",
       "    <tr>\n",
       "      <th>84410</th>\n",
       "      <td>11</td>\n",
       "      <td>2016</td>\n",
       "      <td>3</td>\n",
       "      <td>13</td>\n",
       "      <td>26</td>\n",
       "      <td>2</td>\n",
       "      <td>2</td>\n",
       "      <td>2</td>\n",
       "      <td>0.0</td>\n",
       "      <td>0</td>\n",
       "      <td>...</td>\n",
       "      <td>0</td>\n",
       "      <td>0</td>\n",
       "      <td>1</td>\n",
       "      <td>9.0</td>\n",
       "      <td>0</td>\n",
       "      <td>0</td>\n",
       "      <td>1</td>\n",
       "      <td>2016</td>\n",
       "      <td>3</td>\n",
       "      <td>30</td>\n",
       "    </tr>\n",
       "    <tr>\n",
       "      <th>56692</th>\n",
       "      <td>285</td>\n",
       "      <td>2016</td>\n",
       "      <td>10</td>\n",
       "      <td>41</td>\n",
       "      <td>3</td>\n",
       "      <td>1</td>\n",
       "      <td>3</td>\n",
       "      <td>2</td>\n",
       "      <td>0.0</td>\n",
       "      <td>0</td>\n",
       "      <td>...</td>\n",
       "      <td>0</td>\n",
       "      <td>0</td>\n",
       "      <td>0</td>\n",
       "      <td>31.0</td>\n",
       "      <td>24</td>\n",
       "      <td>0</td>\n",
       "      <td>0</td>\n",
       "      <td>2016</td>\n",
       "      <td>1</td>\n",
       "      <td>16</td>\n",
       "    </tr>\n",
       "    <tr>\n",
       "      <th>30248</th>\n",
       "      <td>34</td>\n",
       "      <td>2016</td>\n",
       "      <td>12</td>\n",
       "      <td>50</td>\n",
       "      <td>7</td>\n",
       "      <td>1</td>\n",
       "      <td>4</td>\n",
       "      <td>2</td>\n",
       "      <td>0.0</td>\n",
       "      <td>0</td>\n",
       "      <td>...</td>\n",
       "      <td>0</td>\n",
       "      <td>0</td>\n",
       "      <td>3</td>\n",
       "      <td>240.0</td>\n",
       "      <td>0</td>\n",
       "      <td>0</td>\n",
       "      <td>1</td>\n",
       "      <td>2016</td>\n",
       "      <td>12</td>\n",
       "      <td>12</td>\n",
       "    </tr>\n",
       "    <tr>\n",
       "      <th>88901</th>\n",
       "      <td>113</td>\n",
       "      <td>2016</td>\n",
       "      <td>6</td>\n",
       "      <td>24</td>\n",
       "      <td>9</td>\n",
       "      <td>0</td>\n",
       "      <td>3</td>\n",
       "      <td>2</td>\n",
       "      <td>0.0</td>\n",
       "      <td>0</td>\n",
       "      <td>...</td>\n",
       "      <td>0</td>\n",
       "      <td>0</td>\n",
       "      <td>0</td>\n",
       "      <td>7.0</td>\n",
       "      <td>0</td>\n",
       "      <td>0</td>\n",
       "      <td>0</td>\n",
       "      <td>2016</td>\n",
       "      <td>6</td>\n",
       "      <td>12</td>\n",
       "    </tr>\n",
       "    <tr>\n",
       "      <th>81085</th>\n",
       "      <td>68</td>\n",
       "      <td>2016</td>\n",
       "      <td>2</td>\n",
       "      <td>8</td>\n",
       "      <td>17</td>\n",
       "      <td>0</td>\n",
       "      <td>2</td>\n",
       "      <td>2</td>\n",
       "      <td>0.0</td>\n",
       "      <td>0</td>\n",
       "      <td>...</td>\n",
       "      <td>1</td>\n",
       "      <td>0</td>\n",
       "      <td>0</td>\n",
       "      <td>37.0</td>\n",
       "      <td>0</td>\n",
       "      <td>0</td>\n",
       "      <td>0</td>\n",
       "      <td>2016</td>\n",
       "      <td>1</td>\n",
       "      <td>6</td>\n",
       "    </tr>\n",
       "  </tbody>\n",
       "</table>\n",
       "<p>81865 rows × 21 columns</p>\n",
       "</div>"
      ],
      "text/plain": [
       "       lead_time  arrival_date_year  arrival_date_month  \\\n",
       "60587         41               2016                  12   \n",
       "40867         11               2015                   8   \n",
       "37114        170               2017                   7   \n",
       "62255         61               2017                   2   \n",
       "30397          4               2016                  12   \n",
       "...          ...                ...                 ...   \n",
       "84410         11               2016                   3   \n",
       "56692        285               2016                  10   \n",
       "30248         34               2016                  12   \n",
       "88901        113               2016                   6   \n",
       "81085         68               2016                   2   \n",
       "\n",
       "       arrival_date_week_number  arrival_date_day  stays_in_weekend_nights  \\\n",
       "60587                        53                27                        1   \n",
       "40867                        35                28                        0   \n",
       "37114                        27                 4                        0   \n",
       "62255                         7                13                        1   \n",
       "30397                        51                17                        0   \n",
       "...                         ...               ...                      ...   \n",
       "84410                        13                26                        2   \n",
       "56692                        41                 3                        1   \n",
       "30248                        50                 7                        1   \n",
       "88901                        24                 9                        0   \n",
       "81085                         8                17                        0   \n",
       "\n",
       "       stays_in_week_nights  adults  children  babies  ...  \\\n",
       "60587                     5       2       0.0       0  ...   \n",
       "40867                     2       2       0.0       0  ...   \n",
       "37114                     5       2       0.0       0  ...   \n",
       "62255                     2       2       0.0       0  ...   \n",
       "30397                     1       2       0.0       0  ...   \n",
       "...                     ...     ...       ...     ...  ...   \n",
       "84410                     2       2       0.0       0  ...   \n",
       "56692                     3       2       0.0       0  ...   \n",
       "30248                     4       2       0.0       0  ...   \n",
       "88901                     3       2       0.0       0  ...   \n",
       "81085                     2       2       0.0       0  ...   \n",
       "\n",
       "       previous_cancellations  previous_bookings_not_canceled  \\\n",
       "60587                       0                               0   \n",
       "40867                       0                               0   \n",
       "37114                       0                               0   \n",
       "62255                       0                               0   \n",
       "30397                       0                               0   \n",
       "...                       ...                             ...   \n",
       "84410                       0                               0   \n",
       "56692                       0                               0   \n",
       "30248                       0                               0   \n",
       "88901                       0                               0   \n",
       "81085                       1                               0   \n",
       "\n",
       "       booking_changes  agent  days_in_waiting_list  \\\n",
       "60587                1  220.0                     0   \n",
       "40867                0    9.0                     0   \n",
       "37114                0  241.0                     0   \n",
       "62255                0    9.0                     0   \n",
       "30397                0  241.0                     0   \n",
       "...                ...    ...                   ...   \n",
       "84410                1    9.0                     0   \n",
       "56692                0   31.0                    24   \n",
       "30248                3  240.0                     0   \n",
       "88901                0    7.0                     0   \n",
       "81085                0   37.0                     0   \n",
       "\n",
       "       required_car_parking_spaces  total_of_special_requests  \\\n",
       "60587                            0                          0   \n",
       "40867                            0                          2   \n",
       "37114                            0                          0   \n",
       "62255                            0                          0   \n",
       "30397                            0                          1   \n",
       "...                            ...                        ...   \n",
       "84410                            0                          1   \n",
       "56692                            0                          0   \n",
       "30248                            0                          1   \n",
       "88901                            0                          0   \n",
       "81085                            0                          0   \n",
       "\n",
       "       reservation_status_date_year  reservation_status_date_month  \\\n",
       "60587                          2016                             12   \n",
       "40867                          2015                              8   \n",
       "37114                          2017                              7   \n",
       "62255                          2016                             12   \n",
       "30397                          2016                             12   \n",
       "...                             ...                            ...   \n",
       "84410                          2016                              3   \n",
       "56692                          2016                              1   \n",
       "30248                          2016                             12   \n",
       "88901                          2016                              6   \n",
       "81085                          2016                              1   \n",
       "\n",
       "       reservation_status_date_day  \n",
       "60587                           27  \n",
       "40867                           30  \n",
       "37114                            9  \n",
       "62255                           14  \n",
       "30397                           18  \n",
       "...                            ...  \n",
       "84410                           30  \n",
       "56692                           16  \n",
       "30248                           12  \n",
       "88901                           12  \n",
       "81085                            6  \n",
       "\n",
       "[81865 rows x 21 columns]"
      ]
     },
     "execution_count": 13,
     "metadata": {},
     "output_type": "execute_result"
    }
   ],
   "source": [
    "X_tr_num"
   ]
  },
  {
   "cell_type": "code",
   "execution_count": 14,
   "metadata": {},
   "outputs": [],
   "source": [
    "scaler = StandardScaler()\n",
    "scaler.fit(X_tr_num)\n",
    "X_tr_scaled = scaler.transform(X_tr_num)\n",
    "X_te_scaled = scaler.transform(X_te_num)\n"
   ]
  },
  {
   "cell_type": "code",
   "execution_count": 15,
   "metadata": {},
   "outputs": [],
   "source": [
    "X_train_scaled = X_train\n",
    "X_train_scaled.loc[:, num_cols]=X_tr_scaled\n",
    "\n",
    "X_test_scaled = X_test\n",
    "X_test_scaled.loc[:, num_cols]=X_te_scaled"
   ]
  },
  {
   "cell_type": "code",
   "execution_count": 16,
   "metadata": {},
   "outputs": [
    {
     "data": {
      "text/html": [
       "<div>\n",
       "<style scoped>\n",
       "    .dataframe tbody tr th:only-of-type {\n",
       "        vertical-align: middle;\n",
       "    }\n",
       "\n",
       "    .dataframe tbody tr th {\n",
       "        vertical-align: top;\n",
       "    }\n",
       "\n",
       "    .dataframe thead th {\n",
       "        text-align: right;\n",
       "    }\n",
       "</style>\n",
       "<table border=\"1\" class=\"dataframe\">\n",
       "  <thead>\n",
       "    <tr style=\"text-align: right;\">\n",
       "      <th></th>\n",
       "      <th>is_canceled</th>\n",
       "      <th>lead_time</th>\n",
       "      <th>arrival_date_year</th>\n",
       "      <th>arrival_date_month</th>\n",
       "      <th>arrival_date_week_number</th>\n",
       "      <th>arrival_date_day</th>\n",
       "      <th>stays_in_weekend_nights</th>\n",
       "      <th>stays_in_week_nights</th>\n",
       "      <th>adults</th>\n",
       "      <th>children</th>\n",
       "      <th>...</th>\n",
       "      <th>customer_type_Group</th>\n",
       "      <th>customer_type_Transient</th>\n",
       "      <th>customer_type_Transient-Party</th>\n",
       "      <th>reservation_status_day_of_week_Friday</th>\n",
       "      <th>reservation_status_day_of_week_Monday</th>\n",
       "      <th>reservation_status_day_of_week_Saturday</th>\n",
       "      <th>reservation_status_day_of_week_Sunday</th>\n",
       "      <th>reservation_status_day_of_week_Thursday</th>\n",
       "      <th>reservation_status_day_of_week_Tuesday</th>\n",
       "      <th>reservation_status_day_of_week_Wednesday</th>\n",
       "    </tr>\n",
       "  </thead>\n",
       "  <tbody>\n",
       "    <tr>\n",
       "      <th>60587</th>\n",
       "      <td>1</td>\n",
       "      <td>-0.601039</td>\n",
       "      <td>-0.227628</td>\n",
       "      <td>1.768720</td>\n",
       "      <td>1.904861</td>\n",
       "      <td>1.273930</td>\n",
       "      <td>0.067879</td>\n",
       "      <td>1.320450</td>\n",
       "      <td>0.28817</td>\n",
       "      <td>-0.26135</td>\n",
       "      <td>...</td>\n",
       "      <td>0</td>\n",
       "      <td>0</td>\n",
       "      <td>1</td>\n",
       "      <td>0</td>\n",
       "      <td>0</td>\n",
       "      <td>0</td>\n",
       "      <td>0</td>\n",
       "      <td>0</td>\n",
       "      <td>1</td>\n",
       "      <td>0</td>\n",
       "    </tr>\n",
       "    <tr>\n",
       "      <th>40867</th>\n",
       "      <td>0</td>\n",
       "      <td>-0.882236</td>\n",
       "      <td>-1.642786</td>\n",
       "      <td>0.471472</td>\n",
       "      <td>0.579049</td>\n",
       "      <td>1.387756</td>\n",
       "      <td>-0.940825</td>\n",
       "      <td>-0.277555</td>\n",
       "      <td>0.28817</td>\n",
       "      <td>-0.26135</td>\n",
       "      <td>...</td>\n",
       "      <td>0</td>\n",
       "      <td>0</td>\n",
       "      <td>0</td>\n",
       "      <td>0</td>\n",
       "      <td>0</td>\n",
       "      <td>0</td>\n",
       "      <td>1</td>\n",
       "      <td>0</td>\n",
       "      <td>0</td>\n",
       "      <td>0</td>\n",
       "    </tr>\n",
       "    <tr>\n",
       "      <th>37114</th>\n",
       "      <td>0</td>\n",
       "      <td>0.608109</td>\n",
       "      <td>1.187529</td>\n",
       "      <td>0.147160</td>\n",
       "      <td>-0.010200</td>\n",
       "      <td>-1.344086</td>\n",
       "      <td>-0.940825</td>\n",
       "      <td>1.320450</td>\n",
       "      <td>0.28817</td>\n",
       "      <td>-0.26135</td>\n",
       "      <td>...</td>\n",
       "      <td>0</td>\n",
       "      <td>1</td>\n",
       "      <td>0</td>\n",
       "      <td>0</td>\n",
       "      <td>0</td>\n",
       "      <td>0</td>\n",
       "      <td>1</td>\n",
       "      <td>0</td>\n",
       "      <td>0</td>\n",
       "      <td>0</td>\n",
       "    </tr>\n",
       "    <tr>\n",
       "      <th>62255</th>\n",
       "      <td>1</td>\n",
       "      <td>-0.413574</td>\n",
       "      <td>1.187529</td>\n",
       "      <td>-1.474400</td>\n",
       "      <td>-1.483324</td>\n",
       "      <td>-0.319645</td>\n",
       "      <td>0.067879</td>\n",
       "      <td>-0.277555</td>\n",
       "      <td>0.28817</td>\n",
       "      <td>-0.26135</td>\n",
       "      <td>...</td>\n",
       "      <td>0</td>\n",
       "      <td>1</td>\n",
       "      <td>0</td>\n",
       "      <td>0</td>\n",
       "      <td>0</td>\n",
       "      <td>0</td>\n",
       "      <td>0</td>\n",
       "      <td>0</td>\n",
       "      <td>0</td>\n",
       "      <td>1</td>\n",
       "    </tr>\n",
       "    <tr>\n",
       "      <th>30397</th>\n",
       "      <td>0</td>\n",
       "      <td>-0.947849</td>\n",
       "      <td>-0.227628</td>\n",
       "      <td>1.768720</td>\n",
       "      <td>1.757548</td>\n",
       "      <td>0.135662</td>\n",
       "      <td>-0.940825</td>\n",
       "      <td>-0.810223</td>\n",
       "      <td>0.28817</td>\n",
       "      <td>-0.26135</td>\n",
       "      <td>...</td>\n",
       "      <td>0</td>\n",
       "      <td>1</td>\n",
       "      <td>0</td>\n",
       "      <td>0</td>\n",
       "      <td>0</td>\n",
       "      <td>0</td>\n",
       "      <td>1</td>\n",
       "      <td>0</td>\n",
       "      <td>0</td>\n",
       "      <td>0</td>\n",
       "    </tr>\n",
       "  </tbody>\n",
       "</table>\n",
       "<p>5 rows × 259 columns</p>\n",
       "</div>"
      ],
      "text/plain": [
       "       is_canceled  lead_time  arrival_date_year  arrival_date_month  \\\n",
       "60587            1  -0.601039          -0.227628            1.768720   \n",
       "40867            0  -0.882236          -1.642786            0.471472   \n",
       "37114            0   0.608109           1.187529            0.147160   \n",
       "62255            1  -0.413574           1.187529           -1.474400   \n",
       "30397            0  -0.947849          -0.227628            1.768720   \n",
       "\n",
       "       arrival_date_week_number  arrival_date_day  stays_in_weekend_nights  \\\n",
       "60587                  1.904861          1.273930                 0.067879   \n",
       "40867                  0.579049          1.387756                -0.940825   \n",
       "37114                 -0.010200         -1.344086                -0.940825   \n",
       "62255                 -1.483324         -0.319645                 0.067879   \n",
       "30397                  1.757548          0.135662                -0.940825   \n",
       "\n",
       "       stays_in_week_nights   adults  children  ...  customer_type_Group  \\\n",
       "60587              1.320450  0.28817  -0.26135  ...                    0   \n",
       "40867             -0.277555  0.28817  -0.26135  ...                    0   \n",
       "37114              1.320450  0.28817  -0.26135  ...                    0   \n",
       "62255             -0.277555  0.28817  -0.26135  ...                    0   \n",
       "30397             -0.810223  0.28817  -0.26135  ...                    0   \n",
       "\n",
       "       customer_type_Transient  customer_type_Transient-Party  \\\n",
       "60587                        0                              1   \n",
       "40867                        0                              0   \n",
       "37114                        1                              0   \n",
       "62255                        1                              0   \n",
       "30397                        1                              0   \n",
       "\n",
       "       reservation_status_day_of_week_Friday  \\\n",
       "60587                                      0   \n",
       "40867                                      0   \n",
       "37114                                      0   \n",
       "62255                                      0   \n",
       "30397                                      0   \n",
       "\n",
       "       reservation_status_day_of_week_Monday  \\\n",
       "60587                                      0   \n",
       "40867                                      0   \n",
       "37114                                      0   \n",
       "62255                                      0   \n",
       "30397                                      0   \n",
       "\n",
       "       reservation_status_day_of_week_Saturday  \\\n",
       "60587                                        0   \n",
       "40867                                        0   \n",
       "37114                                        0   \n",
       "62255                                        0   \n",
       "30397                                        0   \n",
       "\n",
       "       reservation_status_day_of_week_Sunday  \\\n",
       "60587                                      0   \n",
       "40867                                      1   \n",
       "37114                                      1   \n",
       "62255                                      0   \n",
       "30397                                      1   \n",
       "\n",
       "       reservation_status_day_of_week_Thursday  \\\n",
       "60587                                        0   \n",
       "40867                                        0   \n",
       "37114                                        0   \n",
       "62255                                        0   \n",
       "30397                                        0   \n",
       "\n",
       "       reservation_status_day_of_week_Tuesday  \\\n",
       "60587                                       1   \n",
       "40867                                       0   \n",
       "37114                                       0   \n",
       "62255                                       0   \n",
       "30397                                       0   \n",
       "\n",
       "       reservation_status_day_of_week_Wednesday  \n",
       "60587                                         0  \n",
       "40867                                         0  \n",
       "37114                                         0  \n",
       "62255                                         1  \n",
       "30397                                         0  \n",
       "\n",
       "[5 rows x 259 columns]"
      ]
     },
     "execution_count": 16,
     "metadata": {},
     "output_type": "execute_result"
    }
   ],
   "source": [
    "X_train_scaled.head()"
   ]
  },
  {
   "cell_type": "markdown",
   "metadata": {},
   "source": [
    "# Regression Models \n",
    "\n",
    "1. Linear Regression\n",
    "2. KNN Regression\n",
    "3. SVM Regression\n",
    "4. Decision Tree Regression\n",
    "5. Gradient Boosting Regression\n",
    "6. Random Forest Regression\n"
   ]
  },
  {
   "cell_type": "code",
   "execution_count": 20,
   "metadata": {},
   "outputs": [
    {
     "data": {
      "text/plain": [
       "array([[-0.60103925, -0.2276283 ,  1.76871951, ..., -0.13571078,\n",
       "         1.69746969,  1.29176763],\n",
       "       [-0.88223647, -1.64278559,  0.47147155, ..., -1.53406991,\n",
       "         0.50042299,  1.63333515],\n",
       "       [ 0.60810882,  1.18752898,  0.14715956, ...,  1.26264835,\n",
       "         0.20116131, -0.7576375 ],\n",
       "       ...,\n",
       "       [-0.66665193, -0.2276283 ,  1.76871951, ..., -0.13571078,\n",
       "         1.69746969, -0.41606998],\n",
       "       [ 0.07383409, -0.2276283 , -0.17715243, ..., -0.13571078,\n",
       "        -0.09810036, -0.41606998],\n",
       "       [-0.34796174, -0.2276283 , -1.47440039, ..., -0.13571078,\n",
       "        -1.59440874, -1.09920502]])"
      ]
     },
     "execution_count": 20,
     "metadata": {},
     "output_type": "execute_result"
    }
   ],
   "source": [
    "X_tr_scaled"
   ]
  },
  {
   "cell_type": "markdown",
   "metadata": {},
   "source": [
    "### Linear Regression"
   ]
  },
  {
   "cell_type": "code",
   "execution_count": 18,
   "metadata": {},
   "outputs": [],
   "source": [
    "linreg= LinearRegression()\n",
    "\n",
    "linreg.fit(X_train_scaled, y_train)\n",
    "y_pred_lr = linreg.predict(X_test_scaled)"
   ]
  },
  {
   "cell_type": "code",
   "execution_count": 19,
   "metadata": {},
   "outputs": [
    {
     "name": "stdout",
     "output_type": "stream",
     "text": [
      "R2: -4538919097154.504\n",
      "Root Mean Squared Error: 99213625.48559132\n",
      "Mean Absolute Error: 1156328.6430559894\n"
     ]
    }
   ],
   "source": [
    "print('R2:',r2_score(y_test, y_pred_lr))\n",
    "print('Root Mean Squared Error:', np.sqrt(mean_squared_error(y_test, y_pred_lr)))\n",
    "print('Mean Absolute Error:',mean_absolute_error(y_test, y_pred_lr))"
   ]
  },
  {
   "cell_type": "markdown",
   "metadata": {},
   "source": [
    "### KNN Regression"
   ]
  },
  {
   "cell_type": "code",
   "execution_count": 20,
   "metadata": {},
   "outputs": [],
   "source": [
    "knn = KNeighborsRegressor(n_neighbors=5)\n",
    "\n",
    "knn.fit(X_train_scaled, y_train)\n",
    "y_pred_knn = knn.predict(X_test_scaled)"
   ]
  },
  {
   "cell_type": "code",
   "execution_count": 21,
   "metadata": {},
   "outputs": [
    {
     "name": "stdout",
     "output_type": "stream",
     "text": [
      "R2: 0.7427542356430072\n",
      "Root Mean Squared Error: 23.61941927025236\n",
      "Mean Absolute Error: 14.272897622983526\n"
     ]
    }
   ],
   "source": [
    "print('R2:',r2_score(y_test, y_pred_knn))\n",
    "print('Root Mean Squared Error:', np.sqrt(mean_squared_error(y_test, y_pred_knn)))\n",
    "print('Mean Absolute Error:',mean_absolute_error(y_test, y_pred_knn))"
   ]
  },
  {
   "cell_type": "markdown",
   "metadata": {},
   "source": [
    "### Linear SVM"
   ]
  },
  {
   "cell_type": "code",
   "execution_count": 22,
   "metadata": {},
   "outputs": [],
   "source": [
    "svm_reg = LinearSVR()\n",
    "\n",
    "svm_reg.fit(X_train_scaled, y_train)\n",
    "y_pred_svm = svm_reg.predict(X_test_scaled)\n"
   ]
  },
  {
   "cell_type": "code",
   "execution_count": 23,
   "metadata": {},
   "outputs": [
    {
     "name": "stdout",
     "output_type": "stream",
     "text": [
      "R2: 0.4684636595648617\n",
      "Mean Squared Error: 33.95170432447404\n",
      "Mean Absolute Error: 23.219194313146115\n"
     ]
    }
   ],
   "source": [
    "print('R2:',r2_score(y_test, y_pred_svm))\n",
    "print('Mean Squared Error:', np.sqrt(mean_squared_error(y_test, y_pred_svm)))\n",
    "print('Mean Absolute Error:',mean_absolute_error(y_test, y_pred_svm))"
   ]
  },
  {
   "cell_type": "markdown",
   "metadata": {},
   "source": [
    "### Decision Tree"
   ]
  },
  {
   "cell_type": "code",
   "execution_count": 24,
   "metadata": {},
   "outputs": [],
   "source": [
    "dt_reg = DecisionTreeRegressor(random_state=1234)\n",
    "\n",
    "dt_reg.fit(X_train_scaled, y_train)\n",
    "y_pred_dt = dt_reg.predict(X_test_scaled)"
   ]
  },
  {
   "cell_type": "code",
   "execution_count": 25,
   "metadata": {},
   "outputs": [
    {
     "name": "stdout",
     "output_type": "stream",
     "text": [
      "R2: 0.8617846487075161\n",
      "Mean Squared Error: 17.31303631718084\n",
      "Mean Absolute Error: 8.086168094848984\n"
     ]
    }
   ],
   "source": [
    "print('R2:',r2_score(y_test, y_pred_dt))\n",
    "print('Mean Squared Error:', np.sqrt(mean_squared_error(y_test, y_pred_dt)))\n",
    "print('Mean Absolute Error:',mean_absolute_error(y_test, y_pred_dt))"
   ]
  },
  {
   "cell_type": "code",
   "execution_count": 26,
   "metadata": {},
   "outputs": [
    {
     "name": "stdout",
     "output_type": "stream",
     "text": [
      "Feature Importance - decision Tree\n",
      "name                          score\n",
      "arrival_date_month        0.184632\n",
      "reserved_room_type_A      0.151834\n",
      "arrival_date_week_number  0.0741171\n",
      "children                  0.0599835\n",
      "hotel_City Hotel          0.0543883\n",
      "agent                     0.0536485\n",
      "lead_time                 0.0505949\n",
      "adults                    0.0421657\n",
      "hotel_Resort Hotel        0.0363952\n",
      "market_segment_Online TA  0.0279116\n"
     ]
    }
   ],
   "source": [
    "headers = [\"name\", \"score\"]\n",
    "values_dt = sorted(zip(X_train.columns, dt_reg.feature_importances_), key=lambda x: x[1] * -1)\n",
    "print('Feature Importance - decision Tree')\n",
    "print(tabulate(values_dt[:10], headers, tablefmt=\"plain\"))"
   ]
  },
  {
   "cell_type": "markdown",
   "metadata": {},
   "source": [
    "### Gradient Boosting"
   ]
  },
  {
   "cell_type": "code",
   "execution_count": 27,
   "metadata": {},
   "outputs": [],
   "source": [
    "gb_reg = GradientBoostingRegressor(random_state = 47)\n",
    "\n",
    "gb_reg.fit(X_train_scaled, y_train)\n",
    "y_pred_gb = gb_reg.predict(X_test_scaled)"
   ]
  },
  {
   "cell_type": "code",
   "execution_count": 28,
   "metadata": {},
   "outputs": [
    {
     "name": "stdout",
     "output_type": "stream",
     "text": [
      "R2: 0.7643719394340762\n",
      "Mean Squared Error: 22.605212990854806\n",
      "Mean Absolute Error: 16.20387838328969\n"
     ]
    }
   ],
   "source": [
    "print('R2:',r2_score(y_test, y_pred_gb))\n",
    "print('Mean Squared Error:', np.sqrt(mean_squared_error(y_test, y_pred_gb)))\n",
    "print('Mean Absolute Error:',mean_absolute_error(y_test, y_pred_gb))"
   ]
  },
  {
   "cell_type": "markdown",
   "metadata": {},
   "source": [
    "### Random Forest Regression"
   ]
  },
  {
   "cell_type": "code",
   "execution_count": 17,
   "metadata": {},
   "outputs": [],
   "source": [
    "rf = RandomForestRegressor(random_state=47)\n",
    "rf.fit(X_train_scaled, y_train)\n",
    "y_pred_rf = rf.predict(X_test_scaled)"
   ]
  },
  {
   "cell_type": "code",
   "execution_count": 30,
   "metadata": {},
   "outputs": [
    {
     "name": "stdout",
     "output_type": "stream",
     "text": [
      "R2: 0.9251736360104076\n",
      "Mean Squared Error: 12.738621103863492\n",
      "Mean Absolute Error: 6.534024286716394\n"
     ]
    }
   ],
   "source": [
    "print('R2:',r2_score(y_test, y_pred_rf))\n",
    "print('Mean Squared Error:', np.sqrt(mean_squared_error(y_test, y_pred_rf)))\n",
    "print('Mean Absolute Error:',mean_absolute_error(y_test, y_pred_rf))"
   ]
  },
  {
   "cell_type": "code",
   "execution_count": 31,
   "metadata": {},
   "outputs": [
    {
     "name": "stdout",
     "output_type": "stream",
     "text": [
      "Feature Importance - Random Forest\n",
      "name                              score\n",
      "arrival_date_month            0.15495\n",
      "reserved_room_type_A          0.151652\n",
      "arrival_date_week_number      0.0871773\n",
      "children                      0.0599263\n",
      "agent                         0.056724\n",
      "lead_time                     0.0543627\n",
      "hotel_City Hotel              0.0541777\n",
      "adults                        0.0435173\n",
      "hotel_Resort Hotel            0.0334113\n",
      "reservation_status_date_year  0.0251267\n"
     ]
    }
   ],
   "source": [
    "headers = [\"name\", \"score\"]\n",
    "values_rf = sorted(zip(X_train.columns, rf.feature_importances_), key=lambda x: x[1] * -1)\n",
    "print('Feature Importance - Random Forest')\n",
    "print(tabulate(values_rf[:10], headers, tablefmt=\"plain\"))"
   ]
  },
  {
   "cell_type": "markdown",
   "metadata": {},
   "source": [
    "### Refine the Decision Tree Model (Tuning Parameters)"
   ]
  },
  {
   "cell_type": "code",
   "execution_count": 32,
   "metadata": {},
   "outputs": [],
   "source": [
    "param_grid_dt ={\n",
    "    \n",
    "    \"splitter\":['best','random'],\n",
    "    \"max_depth\": list(range(0, 211, 10)) + [None],\n",
    "    \"min_samples_split\":range(1,10),\n",
    "    \"min_samples_leaf\":range(1,10)\n",
    "\n",
    "}"
   ]
  },
  {
   "cell_type": "code",
   "execution_count": 33,
   "metadata": {},
   "outputs": [
    {
     "name": "stdout",
     "output_type": "stream",
     "text": [
      "Fitting 5 folds for each of 200 candidates, totalling 1000 fits\n"
     ]
    },
    {
     "name": "stderr",
     "output_type": "stream",
     "text": [
      "[Parallel(n_jobs=-1)]: Using backend LokyBackend with 4 concurrent workers.\n",
      "[Parallel(n_jobs=-1)]: Done  42 tasks      | elapsed:  1.1min\n",
      "[Parallel(n_jobs=-1)]: Done 192 tasks      | elapsed:  5.3min\n",
      "[Parallel(n_jobs=-1)]: Done 442 tasks      | elapsed: 11.9min\n",
      "[Parallel(n_jobs=-1)]: Done 792 tasks      | elapsed: 21.1min\n",
      "[Parallel(n_jobs=-1)]: Done 1000 out of 1000 | elapsed: 26.6min finished\n"
     ]
    },
    {
     "data": {
      "text/plain": [
       "RandomizedSearchCV(cv=5, estimator=DecisionTreeRegressor(random_state=1234),\n",
       "                   n_iter=200, n_jobs=-1,\n",
       "                   param_distributions={'max_depth': [0, 10, 20, 30, 40, 50, 60,\n",
       "                                                      70, 80, 90, 100, 110, 120,\n",
       "                                                      130, 140, 150, 160, 170,\n",
       "                                                      180, 190, 200, 210,\n",
       "                                                      None],\n",
       "                                        'min_samples_leaf': range(1, 10),\n",
       "                                        'min_samples_split': range(1, 10),\n",
       "                                        'splitter': ['best', 'random']},\n",
       "                   verbose=1)"
      ]
     },
     "execution_count": 33,
     "metadata": {},
     "output_type": "execute_result"
    }
   ],
   "source": [
    "# Randomized Search\n",
    "\n",
    "random_dt = RandomizedSearchCV(dt_reg, param_distributions = param_grid_dt, cv=5, verbose=1, n_jobs=-1, n_iter=200)\n",
    "\n",
    "random_dt.fit(X_train_scaled, y_train)"
   ]
  },
  {
   "cell_type": "code",
   "execution_count": 34,
   "metadata": {},
   "outputs": [
    {
     "data": {
      "text/plain": [
       "{'splitter': 'best',\n",
       " 'min_samples_split': 7,\n",
       " 'min_samples_leaf': 6,\n",
       " 'max_depth': 30}"
      ]
     },
     "execution_count": 34,
     "metadata": {},
     "output_type": "execute_result"
    }
   ],
   "source": [
    "random_dt.best_params_"
   ]
  },
  {
   "cell_type": "code",
   "execution_count": 35,
   "metadata": {},
   "outputs": [],
   "source": [
    "# param_grid_dt2 ={\n",
    "#     \"max_depth\": list(range(30, 130, 10)),\n",
    "#     \"min_samples_split\":range(3,10),\n",
    "#     \"min_samples_leaf\":range(5,10)\n",
    "# }"
   ]
  },
  {
   "cell_type": "code",
   "execution_count": 36,
   "metadata": {},
   "outputs": [],
   "source": [
    "# Grid Search \n",
    "\n",
    "# grid_dt = GridSearchCV(dt_reg, param_grid = param_grid_dt2, cv=5, verbose=1, n_jobs=-1)\n",
    "\n",
    "# grid_dt.fit(X_train_scaled, y_train)"
   ]
  },
  {
   "cell_type": "code",
   "execution_count": 37,
   "metadata": {},
   "outputs": [],
   "source": [
    "# grid_dt.best_params_"
   ]
  },
  {
   "cell_type": "code",
   "execution_count": 44,
   "metadata": {},
   "outputs": [],
   "source": [
    "dt_reg2 = DecisionTreeRegressor(splitter = 'best', min_samples_split = 7, min_samples_leaf=6, max_depth=30 ,random_state=1234)\n",
    "\n",
    "dt_reg2.fit(X_train_scaled, y_train)\n",
    "y_pred_dt2 = dt_reg2.predict(X_test_scaled)"
   ]
  },
  {
   "cell_type": "code",
   "execution_count": 45,
   "metadata": {},
   "outputs": [
    {
     "name": "stdout",
     "output_type": "stream",
     "text": [
      "R2: 0.8772156802532639\n",
      "Mean Squared Error: 16.31798589239602\n",
      "Mean Absolute Error: 8.737636558573538\n"
     ]
    }
   ],
   "source": [
    "print('R2:',r2_score(y_test, y_pred_dt2))\n",
    "print('Mean Squared Error:', np.sqrt(mean_squared_error(y_test, y_pred_dt2)))\n",
    "print('Mean Absolute Error:',mean_absolute_error(y_test, y_pred_dt2))"
   ]
  },
  {
   "cell_type": "code",
   "execution_count": 40,
   "metadata": {},
   "outputs": [
    {
     "name": "stdout",
     "output_type": "stream",
     "text": [
      "Feature Importance - decision tree (tuning)\n",
      "name                          score\n",
      "arrival_date_month        0.19704\n",
      "reserved_room_type_A      0.163094\n",
      "arrival_date_week_number  0.0767929\n",
      "children                  0.0628499\n",
      "hotel_City Hotel          0.0559667\n",
      "agent                     0.0526621\n",
      "lead_time                 0.0462107\n",
      "adults                    0.0424099\n",
      "hotel_Resort Hotel        0.0405521\n",
      "market_segment_Online TA  0.029981\n"
     ]
    }
   ],
   "source": [
    "headers = [\"name\", \"score\"]\n",
    "values_dt2 = sorted(zip(X_train.columns, dt_reg2.feature_importances_), key=lambda x: x[1] * -1)\n",
    "print('Feature Importance - decision tree (tuning)')\n",
    "print(tabulate(values_dt2[:10], headers, tablefmt=\"plain\"))"
   ]
  },
  {
   "cell_type": "markdown",
   "metadata": {},
   "source": [
    "### Refine the Random Forest Model (Tuning Parameters)"
   ]
  },
  {
   "cell_type": "code",
   "execution_count": 18,
   "metadata": {},
   "outputs": [],
   "source": [
    "param_grid_rf = {\n",
    "    \n",
    "    'n_estimators':[100,500,1000],\n",
    "    'max_depth':list(range(0, 211, 50)) + [None],\n",
    "    'max_features':['auto','sqrt','log2']\n",
    "\n",
    "}"
   ]
  },
  {
   "cell_type": "code",
   "execution_count": 19,
   "metadata": {},
   "outputs": [
    {
     "name": "stdout",
     "output_type": "stream",
     "text": [
      "Fitting 5 folds for each of 54 candidates, totalling 270 fits\n"
     ]
    },
    {
     "name": "stderr",
     "output_type": "stream",
     "text": [
      "[Parallel(n_jobs=-1)]: Using backend LokyBackend with 4 concurrent workers.\n",
      "[Parallel(n_jobs=-1)]: Done  42 tasks      | elapsed:   17.8s\n",
      "[Parallel(n_jobs=-1)]: Done 192 tasks      | elapsed: 628.5min\n",
      "[Parallel(n_jobs=-1)]: Done 270 out of 270 | elapsed: 852.1min finished\n"
     ]
    },
    {
     "data": {
      "text/plain": [
       "GridSearchCV(cv=5, estimator=RandomForestRegressor(random_state=47), n_jobs=-1,\n",
       "             param_grid={'max_depth': [0, 50, 100, 150, 200, None],\n",
       "                         'max_features': ['auto', 'sqrt', 'log2'],\n",
       "                         'n_estimators': [100, 500, 1000]},\n",
       "             verbose=1)"
      ]
     },
     "execution_count": 19,
     "metadata": {},
     "output_type": "execute_result"
    }
   ],
   "source": [
    "grid_rf2 = GridSearchCV(rf, param_grid = param_grid_rf, cv=5, verbose= 1, n_jobs=-1)\n",
    "\n",
    "grid_rf2.fit(X_train_scaled, y_train)"
   ]
  },
  {
   "cell_type": "code",
   "execution_count": 20,
   "metadata": {},
   "outputs": [
    {
     "data": {
      "text/plain": [
       "{'max_depth': 50, 'max_features': 'auto', 'n_estimators': 1000}"
      ]
     },
     "execution_count": 20,
     "metadata": {},
     "output_type": "execute_result"
    }
   ],
   "source": [
    "grid_rf2.best_params_"
   ]
  },
  {
   "cell_type": "code",
   "execution_count": 21,
   "metadata": {},
   "outputs": [],
   "source": [
    "rf2 = RandomForestRegressor(n_estimators=1000, max_depth=50, max_features='auto',random_state=47)\n",
    "rf2.fit(X_train_scaled, y_train)\n",
    "y_pred_rf2 = rf2.predict(X_test_scaled)"
   ]
  },
  {
   "cell_type": "code",
   "execution_count": 22,
   "metadata": {},
   "outputs": [
    {
     "name": "stdout",
     "output_type": "stream",
     "text": [
      "R2: 0.9259167066882537\n",
      "Mean Squared Error: 12.67521221469838\n",
      "Mean Absolute Error: 6.474431611611048\n"
     ]
    }
   ],
   "source": [
    "print('R2:',r2_score(y_test, y_pred_rf2))\n",
    "print('Mean Squared Error:', np.sqrt(mean_squared_error(y_test, y_pred_rf2)))\n",
    "print('Mean Absolute Error:',mean_absolute_error(y_test, y_pred_rf2))"
   ]
  },
  {
   "cell_type": "code",
   "execution_count": 23,
   "metadata": {
    "scrolled": true
   },
   "outputs": [
    {
     "name": "stdout",
     "output_type": "stream",
     "text": [
      "Feature Importance - random forest (tuning)\n",
      "name                              score\n",
      "arrival_date_month            0.155967\n",
      "reserved_room_type_A          0.151775\n",
      "arrival_date_week_number      0.0861456\n",
      "children                      0.0601974\n",
      "agent                         0.0560885\n",
      "lead_time                     0.0543344\n",
      "hotel_City Hotel              0.0534511\n",
      "adults                        0.0429299\n",
      "hotel_Resort Hotel            0.0338831\n",
      "reservation_status_date_year  0.0259936\n"
     ]
    }
   ],
   "source": [
    "headers = [\"name\", \"score\"]\n",
    "values_rf2= sorted(zip(X_train.columns, rf2.feature_importances_), key=lambda x: x[1] * -1)\n",
    "print('Feature Importance - random forest (tuning)')\n",
    "print(tabulate(values_rf2[:10], headers, tablefmt=\"plain\"))"
   ]
  },
  {
   "cell_type": "code",
   "execution_count": null,
   "metadata": {},
   "outputs": [],
   "source": []
  },
  {
   "cell_type": "code",
   "execution_count": null,
   "metadata": {},
   "outputs": [],
   "source": []
  },
  {
   "cell_type": "code",
   "execution_count": null,
   "metadata": {},
   "outputs": [],
   "source": []
  }
 ],
 "metadata": {
  "kernelspec": {
   "display_name": "Python 3",
   "language": "python",
   "name": "python3"
  },
  "language_info": {
   "codemirror_mode": {
    "name": "ipython",
    "version": 3
   },
   "file_extension": ".py",
   "mimetype": "text/x-python",
   "name": "python",
   "nbconvert_exporter": "python",
   "pygments_lexer": "ipython3",
   "version": "3.8.5"
  }
 },
 "nbformat": 4,
 "nbformat_minor": 4
}
