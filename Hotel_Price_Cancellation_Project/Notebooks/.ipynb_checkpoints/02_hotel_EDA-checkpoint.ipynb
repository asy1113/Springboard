{
 "cells": [
  {
   "cell_type": "markdown",
   "metadata": {},
   "source": [
    "# Hotel Cancellation Prediction"
   ]
  },
  {
   "cell_type": "markdown",
   "metadata": {},
   "source": [
    "## Exploratory Data Analysis:\n",
    "\n",
    "\n",
    "Goal: Explore the data relationships of all your features and understand how the\n",
    "features compare to the response variable.\n",
    "\n",
    "* Build data profiles and tables \n",
    "    * Inference statistics\n",
    "* Explore data relationships\n",
    "    * Data visulization\n",
    "* Feature Selection and Engineering"
   ]
  },
  {
   "cell_type": "code",
   "execution_count": 1,
   "metadata": {},
   "outputs": [],
   "source": [
    "# import necessary packages and load dataset\n",
    "\n",
    "import pandas as pd\n",
    "import numpy as np\n",
    "import seaborn as sns\n",
    "import matplotlib.pyplot as plt\n",
    "from scipy.stats import ttest_ind\n",
    "import datetime"
   ]
  },
  {
   "cell_type": "code",
   "execution_count": 2,
   "metadata": {},
   "outputs": [],
   "source": [
    "df = pd.read_csv('../data/hotel_data_cleaned.csv')"
   ]
  },
  {
   "cell_type": "code",
   "execution_count": 3,
   "metadata": {},
   "outputs": [
    {
     "data": {
      "text/html": [
       "<div>\n",
       "<style scoped>\n",
       "    .dataframe tbody tr th:only-of-type {\n",
       "        vertical-align: middle;\n",
       "    }\n",
       "\n",
       "    .dataframe tbody tr th {\n",
       "        vertical-align: top;\n",
       "    }\n",
       "\n",
       "    .dataframe thead th {\n",
       "        text-align: right;\n",
       "    }\n",
       "</style>\n",
       "<table border=\"1\" class=\"dataframe\">\n",
       "  <thead>\n",
       "    <tr style=\"text-align: right;\">\n",
       "      <th></th>\n",
       "      <th>hotel</th>\n",
       "      <th>is_canceled</th>\n",
       "      <th>lead_time</th>\n",
       "      <th>arrival_date_year</th>\n",
       "      <th>arrival_date_month</th>\n",
       "      <th>arrival_date_week_number</th>\n",
       "      <th>arrival_date_day</th>\n",
       "      <th>stays_in_weekend_nights</th>\n",
       "      <th>stays_in_week_nights</th>\n",
       "      <th>adults</th>\n",
       "      <th>...</th>\n",
       "      <th>customer_type</th>\n",
       "      <th>adr</th>\n",
       "      <th>required_car_parking_spaces</th>\n",
       "      <th>total_of_special_requests</th>\n",
       "      <th>reservation_status</th>\n",
       "      <th>reservation_status_date_year</th>\n",
       "      <th>reservation_status_date_month</th>\n",
       "      <th>reservation_status_date_day</th>\n",
       "      <th>reservation_status_day_of_week</th>\n",
       "      <th>arrival_date_day_of_week</th>\n",
       "    </tr>\n",
       "  </thead>\n",
       "  <tbody>\n",
       "    <tr>\n",
       "      <th>0</th>\n",
       "      <td>Resort Hotel</td>\n",
       "      <td>0</td>\n",
       "      <td>7</td>\n",
       "      <td>2015</td>\n",
       "      <td>7</td>\n",
       "      <td>27</td>\n",
       "      <td>1</td>\n",
       "      <td>0</td>\n",
       "      <td>1</td>\n",
       "      <td>1</td>\n",
       "      <td>...</td>\n",
       "      <td>Transient</td>\n",
       "      <td>75.0</td>\n",
       "      <td>0</td>\n",
       "      <td>0</td>\n",
       "      <td>Check-Out</td>\n",
       "      <td>2015</td>\n",
       "      <td>7</td>\n",
       "      <td>2</td>\n",
       "      <td>Thursday</td>\n",
       "      <td>Wednesday</td>\n",
       "    </tr>\n",
       "    <tr>\n",
       "      <th>1</th>\n",
       "      <td>Resort Hotel</td>\n",
       "      <td>0</td>\n",
       "      <td>13</td>\n",
       "      <td>2015</td>\n",
       "      <td>7</td>\n",
       "      <td>27</td>\n",
       "      <td>1</td>\n",
       "      <td>0</td>\n",
       "      <td>1</td>\n",
       "      <td>1</td>\n",
       "      <td>...</td>\n",
       "      <td>Transient</td>\n",
       "      <td>75.0</td>\n",
       "      <td>0</td>\n",
       "      <td>0</td>\n",
       "      <td>Check-Out</td>\n",
       "      <td>2015</td>\n",
       "      <td>7</td>\n",
       "      <td>2</td>\n",
       "      <td>Thursday</td>\n",
       "      <td>Wednesday</td>\n",
       "    </tr>\n",
       "    <tr>\n",
       "      <th>2</th>\n",
       "      <td>Resort Hotel</td>\n",
       "      <td>0</td>\n",
       "      <td>14</td>\n",
       "      <td>2015</td>\n",
       "      <td>7</td>\n",
       "      <td>27</td>\n",
       "      <td>1</td>\n",
       "      <td>0</td>\n",
       "      <td>2</td>\n",
       "      <td>2</td>\n",
       "      <td>...</td>\n",
       "      <td>Transient</td>\n",
       "      <td>98.0</td>\n",
       "      <td>0</td>\n",
       "      <td>1</td>\n",
       "      <td>Check-Out</td>\n",
       "      <td>2015</td>\n",
       "      <td>7</td>\n",
       "      <td>3</td>\n",
       "      <td>Friday</td>\n",
       "      <td>Wednesday</td>\n",
       "    </tr>\n",
       "    <tr>\n",
       "      <th>3</th>\n",
       "      <td>Resort Hotel</td>\n",
       "      <td>0</td>\n",
       "      <td>14</td>\n",
       "      <td>2015</td>\n",
       "      <td>7</td>\n",
       "      <td>27</td>\n",
       "      <td>1</td>\n",
       "      <td>0</td>\n",
       "      <td>2</td>\n",
       "      <td>2</td>\n",
       "      <td>...</td>\n",
       "      <td>Transient</td>\n",
       "      <td>98.0</td>\n",
       "      <td>0</td>\n",
       "      <td>1</td>\n",
       "      <td>Check-Out</td>\n",
       "      <td>2015</td>\n",
       "      <td>7</td>\n",
       "      <td>3</td>\n",
       "      <td>Friday</td>\n",
       "      <td>Wednesday</td>\n",
       "    </tr>\n",
       "    <tr>\n",
       "      <th>4</th>\n",
       "      <td>Resort Hotel</td>\n",
       "      <td>0</td>\n",
       "      <td>0</td>\n",
       "      <td>2015</td>\n",
       "      <td>7</td>\n",
       "      <td>27</td>\n",
       "      <td>1</td>\n",
       "      <td>0</td>\n",
       "      <td>2</td>\n",
       "      <td>2</td>\n",
       "      <td>...</td>\n",
       "      <td>Transient</td>\n",
       "      <td>107.0</td>\n",
       "      <td>0</td>\n",
       "      <td>0</td>\n",
       "      <td>Check-Out</td>\n",
       "      <td>2015</td>\n",
       "      <td>7</td>\n",
       "      <td>3</td>\n",
       "      <td>Friday</td>\n",
       "      <td>Wednesday</td>\n",
       "    </tr>\n",
       "  </tbody>\n",
       "</table>\n",
       "<p>5 rows × 35 columns</p>\n",
       "</div>"
      ],
      "text/plain": [
       "          hotel  is_canceled  lead_time  arrival_date_year  \\\n",
       "0  Resort Hotel            0          7               2015   \n",
       "1  Resort Hotel            0         13               2015   \n",
       "2  Resort Hotel            0         14               2015   \n",
       "3  Resort Hotel            0         14               2015   \n",
       "4  Resort Hotel            0          0               2015   \n",
       "\n",
       "   arrival_date_month  arrival_date_week_number  arrival_date_day  \\\n",
       "0                   7                        27                 1   \n",
       "1                   7                        27                 1   \n",
       "2                   7                        27                 1   \n",
       "3                   7                        27                 1   \n",
       "4                   7                        27                 1   \n",
       "\n",
       "   stays_in_weekend_nights  stays_in_week_nights  adults  ...  customer_type  \\\n",
       "0                        0                     1       1  ...      Transient   \n",
       "1                        0                     1       1  ...      Transient   \n",
       "2                        0                     2       2  ...      Transient   \n",
       "3                        0                     2       2  ...      Transient   \n",
       "4                        0                     2       2  ...      Transient   \n",
       "\n",
       "     adr required_car_parking_spaces total_of_special_requests  \\\n",
       "0   75.0                           0                         0   \n",
       "1   75.0                           0                         0   \n",
       "2   98.0                           0                         1   \n",
       "3   98.0                           0                         1   \n",
       "4  107.0                           0                         0   \n",
       "\n",
       "  reservation_status reservation_status_date_year  \\\n",
       "0          Check-Out                         2015   \n",
       "1          Check-Out                         2015   \n",
       "2          Check-Out                         2015   \n",
       "3          Check-Out                         2015   \n",
       "4          Check-Out                         2015   \n",
       "\n",
       "   reservation_status_date_month  reservation_status_date_day  \\\n",
       "0                              7                            2   \n",
       "1                              7                            2   \n",
       "2                              7                            3   \n",
       "3                              7                            3   \n",
       "4                              7                            3   \n",
       "\n",
       "   reservation_status_day_of_week arrival_date_day_of_week  \n",
       "0                        Thursday                Wednesday  \n",
       "1                        Thursday                Wednesday  \n",
       "2                          Friday                Wednesday  \n",
       "3                          Friday                Wednesday  \n",
       "4                          Friday                Wednesday  \n",
       "\n",
       "[5 rows x 35 columns]"
      ]
     },
     "execution_count": 3,
     "metadata": {},
     "output_type": "execute_result"
    }
   ],
   "source": [
    "df.head()"
   ]
  },
  {
   "cell_type": "code",
   "execution_count": 4,
   "metadata": {},
   "outputs": [
    {
     "name": "stdout",
     "output_type": "stream",
     "text": [
      "<class 'pandas.core.frame.DataFrame'>\n",
      "RangeIndex: 116951 entries, 0 to 116950\n",
      "Data columns (total 35 columns):\n",
      " #   Column                          Non-Null Count   Dtype  \n",
      "---  ------                          --------------   -----  \n",
      " 0   hotel                           116951 non-null  object \n",
      " 1   is_canceled                     116951 non-null  int64  \n",
      " 2   lead_time                       116951 non-null  int64  \n",
      " 3   arrival_date_year               116951 non-null  int64  \n",
      " 4   arrival_date_month              116951 non-null  int64  \n",
      " 5   arrival_date_week_number        116951 non-null  int64  \n",
      " 6   arrival_date_day                116951 non-null  int64  \n",
      " 7   stays_in_weekend_nights         116951 non-null  int64  \n",
      " 8   stays_in_week_nights            116951 non-null  int64  \n",
      " 9   adults                          116951 non-null  int64  \n",
      " 10  children                        116951 non-null  float64\n",
      " 11  babies                          116951 non-null  int64  \n",
      " 12  meal                            116951 non-null  object \n",
      " 13  country                         116951 non-null  object \n",
      " 14  market_segment                  116951 non-null  object \n",
      " 15  distribution_channel            116951 non-null  object \n",
      " 16  is_repeated_guest               116951 non-null  int64  \n",
      " 17  previous_cancellations          116951 non-null  int64  \n",
      " 18  previous_bookings_not_canceled  116951 non-null  int64  \n",
      " 19  reserved_room_type              116951 non-null  object \n",
      " 20  assigned_room_type              116951 non-null  object \n",
      " 21  booking_changes                 116951 non-null  int64  \n",
      " 22  deposit_type                    116951 non-null  object \n",
      " 23  agent                           116951 non-null  float64\n",
      " 24  days_in_waiting_list            116951 non-null  int64  \n",
      " 25  customer_type                   116951 non-null  object \n",
      " 26  adr                             116951 non-null  float64\n",
      " 27  required_car_parking_spaces     116951 non-null  int64  \n",
      " 28  total_of_special_requests       116951 non-null  int64  \n",
      " 29  reservation_status              116951 non-null  object \n",
      " 30  reservation_status_date_year    116951 non-null  int64  \n",
      " 31  reservation_status_date_month   116951 non-null  int64  \n",
      " 32  reservation_status_date_day     116951 non-null  int64  \n",
      " 33  reservation_status_day_of_week  116951 non-null  object \n",
      " 34  arrival_date_day_of_week        116951 non-null  object \n",
      "dtypes: float64(3), int64(20), object(12)\n",
      "memory usage: 31.2+ MB\n"
     ]
    }
   ],
   "source": [
    "df.info() "
   ]
  },
  {
   "cell_type": "code",
   "execution_count": 5,
   "metadata": {
    "scrolled": true
   },
   "outputs": [
    {
     "data": {
      "text/html": [
       "<div>\n",
       "<style scoped>\n",
       "    .dataframe tbody tr th:only-of-type {\n",
       "        vertical-align: middle;\n",
       "    }\n",
       "\n",
       "    .dataframe tbody tr th {\n",
       "        vertical-align: top;\n",
       "    }\n",
       "\n",
       "    .dataframe thead th {\n",
       "        text-align: right;\n",
       "    }\n",
       "</style>\n",
       "<table border=\"1\" class=\"dataframe\">\n",
       "  <thead>\n",
       "    <tr style=\"text-align: right;\">\n",
       "      <th></th>\n",
       "      <th>is_canceled</th>\n",
       "      <th>lead_time</th>\n",
       "      <th>arrival_date_year</th>\n",
       "      <th>arrival_date_month</th>\n",
       "      <th>arrival_date_week_number</th>\n",
       "      <th>arrival_date_day</th>\n",
       "      <th>stays_in_weekend_nights</th>\n",
       "      <th>stays_in_week_nights</th>\n",
       "      <th>adults</th>\n",
       "      <th>children</th>\n",
       "      <th>...</th>\n",
       "      <th>previous_bookings_not_canceled</th>\n",
       "      <th>booking_changes</th>\n",
       "      <th>agent</th>\n",
       "      <th>days_in_waiting_list</th>\n",
       "      <th>adr</th>\n",
       "      <th>required_car_parking_spaces</th>\n",
       "      <th>total_of_special_requests</th>\n",
       "      <th>reservation_status_date_year</th>\n",
       "      <th>reservation_status_date_month</th>\n",
       "      <th>reservation_status_date_day</th>\n",
       "    </tr>\n",
       "  </thead>\n",
       "  <tbody>\n",
       "    <tr>\n",
       "      <th>count</th>\n",
       "      <td>116951.000000</td>\n",
       "      <td>116951.000000</td>\n",
       "      <td>116951.000000</td>\n",
       "      <td>116951.000000</td>\n",
       "      <td>116951.000000</td>\n",
       "      <td>116951.000000</td>\n",
       "      <td>116951.000000</td>\n",
       "      <td>116951.000000</td>\n",
       "      <td>116951.000000</td>\n",
       "      <td>116951.000000</td>\n",
       "      <td>...</td>\n",
       "      <td>116951.000000</td>\n",
       "      <td>116951.000000</td>\n",
       "      <td>116951.000000</td>\n",
       "      <td>116951.000000</td>\n",
       "      <td>116951.000000</td>\n",
       "      <td>116951.000000</td>\n",
       "      <td>116951.000000</td>\n",
       "      <td>116951.000000</td>\n",
       "      <td>116951.000000</td>\n",
       "      <td>116951.000000</td>\n",
       "    </tr>\n",
       "    <tr>\n",
       "      <th>mean</th>\n",
       "      <td>0.374610</td>\n",
       "      <td>105.188130</td>\n",
       "      <td>2016.161153</td>\n",
       "      <td>6.545707</td>\n",
       "      <td>27.135476</td>\n",
       "      <td>15.806680</td>\n",
       "      <td>0.935358</td>\n",
       "      <td>2.519517</td>\n",
       "      <td>1.861831</td>\n",
       "      <td>0.104223</td>\n",
       "      <td>...</td>\n",
       "      <td>0.125258</td>\n",
       "      <td>0.215193</td>\n",
       "      <td>75.222529</td>\n",
       "      <td>2.345367</td>\n",
       "      <td>103.863971</td>\n",
       "      <td>0.062607</td>\n",
       "      <td>0.571718</td>\n",
       "      <td>2016.097092</td>\n",
       "      <td>6.325529</td>\n",
       "      <td>15.669084</td>\n",
       "    </tr>\n",
       "    <tr>\n",
       "      <th>std</th>\n",
       "      <td>0.484024</td>\n",
       "      <td>106.924572</td>\n",
       "      <td>0.706264</td>\n",
       "      <td>3.082002</td>\n",
       "      <td>13.569353</td>\n",
       "      <td>8.782467</td>\n",
       "      <td>0.993030</td>\n",
       "      <td>1.885362</td>\n",
       "      <td>0.480757</td>\n",
       "      <td>0.398829</td>\n",
       "      <td>...</td>\n",
       "      <td>1.448456</td>\n",
       "      <td>0.630094</td>\n",
       "      <td>107.269630</td>\n",
       "      <td>17.710354</td>\n",
       "      <td>46.422812</td>\n",
       "      <td>0.245517</td>\n",
       "      <td>0.791880</td>\n",
       "      <td>0.714610</td>\n",
       "      <td>3.342145</td>\n",
       "      <td>8.781946</td>\n",
       "    </tr>\n",
       "    <tr>\n",
       "      <th>min</th>\n",
       "      <td>0.000000</td>\n",
       "      <td>0.000000</td>\n",
       "      <td>2015.000000</td>\n",
       "      <td>1.000000</td>\n",
       "      <td>1.000000</td>\n",
       "      <td>1.000000</td>\n",
       "      <td>0.000000</td>\n",
       "      <td>0.000000</td>\n",
       "      <td>0.000000</td>\n",
       "      <td>0.000000</td>\n",
       "      <td>...</td>\n",
       "      <td>0.000000</td>\n",
       "      <td>0.000000</td>\n",
       "      <td>0.000000</td>\n",
       "      <td>0.000000</td>\n",
       "      <td>25.000000</td>\n",
       "      <td>0.000000</td>\n",
       "      <td>0.000000</td>\n",
       "      <td>2014.000000</td>\n",
       "      <td>1.000000</td>\n",
       "      <td>1.000000</td>\n",
       "    </tr>\n",
       "    <tr>\n",
       "      <th>25%</th>\n",
       "      <td>0.000000</td>\n",
       "      <td>19.000000</td>\n",
       "      <td>2016.000000</td>\n",
       "      <td>4.000000</td>\n",
       "      <td>16.000000</td>\n",
       "      <td>8.000000</td>\n",
       "      <td>0.000000</td>\n",
       "      <td>1.000000</td>\n",
       "      <td>2.000000</td>\n",
       "      <td>0.000000</td>\n",
       "      <td>...</td>\n",
       "      <td>0.000000</td>\n",
       "      <td>0.000000</td>\n",
       "      <td>7.000000</td>\n",
       "      <td>0.000000</td>\n",
       "      <td>71.100000</td>\n",
       "      <td>0.000000</td>\n",
       "      <td>0.000000</td>\n",
       "      <td>2016.000000</td>\n",
       "      <td>3.000000</td>\n",
       "      <td>8.000000</td>\n",
       "    </tr>\n",
       "    <tr>\n",
       "      <th>50%</th>\n",
       "      <td>0.000000</td>\n",
       "      <td>71.000000</td>\n",
       "      <td>2016.000000</td>\n",
       "      <td>7.000000</td>\n",
       "      <td>27.000000</td>\n",
       "      <td>16.000000</td>\n",
       "      <td>1.000000</td>\n",
       "      <td>2.000000</td>\n",
       "      <td>2.000000</td>\n",
       "      <td>0.000000</td>\n",
       "      <td>...</td>\n",
       "      <td>0.000000</td>\n",
       "      <td>0.000000</td>\n",
       "      <td>9.000000</td>\n",
       "      <td>0.000000</td>\n",
       "      <td>95.000000</td>\n",
       "      <td>0.000000</td>\n",
       "      <td>0.000000</td>\n",
       "      <td>2016.000000</td>\n",
       "      <td>6.000000</td>\n",
       "      <td>16.000000</td>\n",
       "    </tr>\n",
       "    <tr>\n",
       "      <th>75%</th>\n",
       "      <td>1.000000</td>\n",
       "      <td>162.000000</td>\n",
       "      <td>2017.000000</td>\n",
       "      <td>9.000000</td>\n",
       "      <td>38.000000</td>\n",
       "      <td>23.000000</td>\n",
       "      <td>2.000000</td>\n",
       "      <td>3.000000</td>\n",
       "      <td>2.000000</td>\n",
       "      <td>0.000000</td>\n",
       "      <td>...</td>\n",
       "      <td>0.000000</td>\n",
       "      <td>0.000000</td>\n",
       "      <td>154.000000</td>\n",
       "      <td>0.000000</td>\n",
       "      <td>126.000000</td>\n",
       "      <td>0.000000</td>\n",
       "      <td>1.000000</td>\n",
       "      <td>2017.000000</td>\n",
       "      <td>9.000000</td>\n",
       "      <td>23.000000</td>\n",
       "    </tr>\n",
       "    <tr>\n",
       "      <th>max</th>\n",
       "      <td>1.000000</td>\n",
       "      <td>709.000000</td>\n",
       "      <td>2017.000000</td>\n",
       "      <td>12.000000</td>\n",
       "      <td>53.000000</td>\n",
       "      <td>31.000000</td>\n",
       "      <td>19.000000</td>\n",
       "      <td>50.000000</td>\n",
       "      <td>4.000000</td>\n",
       "      <td>10.000000</td>\n",
       "      <td>...</td>\n",
       "      <td>72.000000</td>\n",
       "      <td>18.000000</td>\n",
       "      <td>535.000000</td>\n",
       "      <td>391.000000</td>\n",
       "      <td>510.000000</td>\n",
       "      <td>8.000000</td>\n",
       "      <td>5.000000</td>\n",
       "      <td>2017.000000</td>\n",
       "      <td>12.000000</td>\n",
       "      <td>31.000000</td>\n",
       "    </tr>\n",
       "  </tbody>\n",
       "</table>\n",
       "<p>8 rows × 23 columns</p>\n",
       "</div>"
      ],
      "text/plain": [
       "         is_canceled      lead_time  arrival_date_year  arrival_date_month  \\\n",
       "count  116951.000000  116951.000000      116951.000000       116951.000000   \n",
       "mean        0.374610     105.188130        2016.161153            6.545707   \n",
       "std         0.484024     106.924572           0.706264            3.082002   \n",
       "min         0.000000       0.000000        2015.000000            1.000000   \n",
       "25%         0.000000      19.000000        2016.000000            4.000000   \n",
       "50%         0.000000      71.000000        2016.000000            7.000000   \n",
       "75%         1.000000     162.000000        2017.000000            9.000000   \n",
       "max         1.000000     709.000000        2017.000000           12.000000   \n",
       "\n",
       "       arrival_date_week_number  arrival_date_day  stays_in_weekend_nights  \\\n",
       "count             116951.000000     116951.000000            116951.000000   \n",
       "mean                  27.135476         15.806680                 0.935358   \n",
       "std                   13.569353          8.782467                 0.993030   \n",
       "min                    1.000000          1.000000                 0.000000   \n",
       "25%                   16.000000          8.000000                 0.000000   \n",
       "50%                   27.000000         16.000000                 1.000000   \n",
       "75%                   38.000000         23.000000                 2.000000   \n",
       "max                   53.000000         31.000000                19.000000   \n",
       "\n",
       "       stays_in_week_nights         adults       children  ...  \\\n",
       "count         116951.000000  116951.000000  116951.000000  ...   \n",
       "mean               2.519517       1.861831       0.104223  ...   \n",
       "std                1.885362       0.480757       0.398829  ...   \n",
       "min                0.000000       0.000000       0.000000  ...   \n",
       "25%                1.000000       2.000000       0.000000  ...   \n",
       "50%                2.000000       2.000000       0.000000  ...   \n",
       "75%                3.000000       2.000000       0.000000  ...   \n",
       "max               50.000000       4.000000      10.000000  ...   \n",
       "\n",
       "       previous_bookings_not_canceled  booking_changes          agent  \\\n",
       "count                   116951.000000    116951.000000  116951.000000   \n",
       "mean                         0.125258         0.215193      75.222529   \n",
       "std                          1.448456         0.630094     107.269630   \n",
       "min                          0.000000         0.000000       0.000000   \n",
       "25%                          0.000000         0.000000       7.000000   \n",
       "50%                          0.000000         0.000000       9.000000   \n",
       "75%                          0.000000         0.000000     154.000000   \n",
       "max                         72.000000        18.000000     535.000000   \n",
       "\n",
       "       days_in_waiting_list            adr  required_car_parking_spaces  \\\n",
       "count         116951.000000  116951.000000                116951.000000   \n",
       "mean               2.345367     103.863971                     0.062607   \n",
       "std               17.710354      46.422812                     0.245517   \n",
       "min                0.000000      25.000000                     0.000000   \n",
       "25%                0.000000      71.100000                     0.000000   \n",
       "50%                0.000000      95.000000                     0.000000   \n",
       "75%                0.000000     126.000000                     0.000000   \n",
       "max              391.000000     510.000000                     8.000000   \n",
       "\n",
       "       total_of_special_requests  reservation_status_date_year  \\\n",
       "count              116951.000000                 116951.000000   \n",
       "mean                    0.571718                   2016.097092   \n",
       "std                     0.791880                      0.714610   \n",
       "min                     0.000000                   2014.000000   \n",
       "25%                     0.000000                   2016.000000   \n",
       "50%                     0.000000                   2016.000000   \n",
       "75%                     1.000000                   2017.000000   \n",
       "max                     5.000000                   2017.000000   \n",
       "\n",
       "       reservation_status_date_month  reservation_status_date_day  \n",
       "count                  116951.000000                116951.000000  \n",
       "mean                        6.325529                    15.669084  \n",
       "std                         3.342145                     8.781946  \n",
       "min                         1.000000                     1.000000  \n",
       "25%                         3.000000                     8.000000  \n",
       "50%                         6.000000                    16.000000  \n",
       "75%                         9.000000                    23.000000  \n",
       "max                        12.000000                    31.000000  \n",
       "\n",
       "[8 rows x 23 columns]"
      ]
     },
     "execution_count": 5,
     "metadata": {},
     "output_type": "execute_result"
    }
   ],
   "source": [
    "# Descriptive Statistics \n",
    "\n",
    "df.describe()"
   ]
  },
  {
   "cell_type": "code",
   "execution_count": 6,
   "metadata": {},
   "outputs": [
    {
     "data": {
      "text/html": [
       "<div>\n",
       "<style scoped>\n",
       "    .dataframe tbody tr th:only-of-type {\n",
       "        vertical-align: middle;\n",
       "    }\n",
       "\n",
       "    .dataframe tbody tr th {\n",
       "        vertical-align: top;\n",
       "    }\n",
       "\n",
       "    .dataframe thead th {\n",
       "        text-align: right;\n",
       "    }\n",
       "</style>\n",
       "<table border=\"1\" class=\"dataframe\">\n",
       "  <thead>\n",
       "    <tr style=\"text-align: right;\">\n",
       "      <th></th>\n",
       "      <th>count</th>\n",
       "      <th>mean</th>\n",
       "      <th>std</th>\n",
       "      <th>min</th>\n",
       "      <th>25%</th>\n",
       "      <th>50%</th>\n",
       "      <th>75%</th>\n",
       "      <th>max</th>\n",
       "    </tr>\n",
       "  </thead>\n",
       "  <tbody>\n",
       "    <tr>\n",
       "      <th>lead_time</th>\n",
       "      <td>116951.0</td>\n",
       "      <td>105.188130</td>\n",
       "      <td>106.924572</td>\n",
       "      <td>0.0</td>\n",
       "      <td>19.0</td>\n",
       "      <td>71.0</td>\n",
       "      <td>162.0</td>\n",
       "      <td>709.0</td>\n",
       "    </tr>\n",
       "    <tr>\n",
       "      <th>stays_in_weekend_nights</th>\n",
       "      <td>116951.0</td>\n",
       "      <td>0.935358</td>\n",
       "      <td>0.993030</td>\n",
       "      <td>0.0</td>\n",
       "      <td>0.0</td>\n",
       "      <td>1.0</td>\n",
       "      <td>2.0</td>\n",
       "      <td>19.0</td>\n",
       "    </tr>\n",
       "    <tr>\n",
       "      <th>stays_in_week_nights</th>\n",
       "      <td>116951.0</td>\n",
       "      <td>2.519517</td>\n",
       "      <td>1.885362</td>\n",
       "      <td>0.0</td>\n",
       "      <td>1.0</td>\n",
       "      <td>2.0</td>\n",
       "      <td>3.0</td>\n",
       "      <td>50.0</td>\n",
       "    </tr>\n",
       "    <tr>\n",
       "      <th>adults</th>\n",
       "      <td>116951.0</td>\n",
       "      <td>1.861831</td>\n",
       "      <td>0.480757</td>\n",
       "      <td>0.0</td>\n",
       "      <td>2.0</td>\n",
       "      <td>2.0</td>\n",
       "      <td>2.0</td>\n",
       "      <td>4.0</td>\n",
       "    </tr>\n",
       "    <tr>\n",
       "      <th>children</th>\n",
       "      <td>116951.0</td>\n",
       "      <td>0.104223</td>\n",
       "      <td>0.398829</td>\n",
       "      <td>0.0</td>\n",
       "      <td>0.0</td>\n",
       "      <td>0.0</td>\n",
       "      <td>0.0</td>\n",
       "      <td>10.0</td>\n",
       "    </tr>\n",
       "    <tr>\n",
       "      <th>babies</th>\n",
       "      <td>116951.0</td>\n",
       "      <td>0.007867</td>\n",
       "      <td>0.097193</td>\n",
       "      <td>0.0</td>\n",
       "      <td>0.0</td>\n",
       "      <td>0.0</td>\n",
       "      <td>0.0</td>\n",
       "      <td>10.0</td>\n",
       "    </tr>\n",
       "    <tr>\n",
       "      <th>is_repeated_guest</th>\n",
       "      <td>116951.0</td>\n",
       "      <td>0.027730</td>\n",
       "      <td>0.164198</td>\n",
       "      <td>0.0</td>\n",
       "      <td>0.0</td>\n",
       "      <td>0.0</td>\n",
       "      <td>0.0</td>\n",
       "      <td>1.0</td>\n",
       "    </tr>\n",
       "    <tr>\n",
       "      <th>previous_cancellations</th>\n",
       "      <td>116951.0</td>\n",
       "      <td>0.081906</td>\n",
       "      <td>0.777167</td>\n",
       "      <td>0.0</td>\n",
       "      <td>0.0</td>\n",
       "      <td>0.0</td>\n",
       "      <td>0.0</td>\n",
       "      <td>26.0</td>\n",
       "    </tr>\n",
       "    <tr>\n",
       "      <th>previous_bookings_not_canceled</th>\n",
       "      <td>116951.0</td>\n",
       "      <td>0.125258</td>\n",
       "      <td>1.448456</td>\n",
       "      <td>0.0</td>\n",
       "      <td>0.0</td>\n",
       "      <td>0.0</td>\n",
       "      <td>0.0</td>\n",
       "      <td>72.0</td>\n",
       "    </tr>\n",
       "    <tr>\n",
       "      <th>booking_changes</th>\n",
       "      <td>116951.0</td>\n",
       "      <td>0.215193</td>\n",
       "      <td>0.630094</td>\n",
       "      <td>0.0</td>\n",
       "      <td>0.0</td>\n",
       "      <td>0.0</td>\n",
       "      <td>0.0</td>\n",
       "      <td>18.0</td>\n",
       "    </tr>\n",
       "    <tr>\n",
       "      <th>days_in_waiting_list</th>\n",
       "      <td>116951.0</td>\n",
       "      <td>2.345367</td>\n",
       "      <td>17.710354</td>\n",
       "      <td>0.0</td>\n",
       "      <td>0.0</td>\n",
       "      <td>0.0</td>\n",
       "      <td>0.0</td>\n",
       "      <td>391.0</td>\n",
       "    </tr>\n",
       "    <tr>\n",
       "      <th>adr</th>\n",
       "      <td>116951.0</td>\n",
       "      <td>103.863971</td>\n",
       "      <td>46.422812</td>\n",
       "      <td>25.0</td>\n",
       "      <td>71.1</td>\n",
       "      <td>95.0</td>\n",
       "      <td>126.0</td>\n",
       "      <td>510.0</td>\n",
       "    </tr>\n",
       "    <tr>\n",
       "      <th>required_car_parking_spaces</th>\n",
       "      <td>116951.0</td>\n",
       "      <td>0.062607</td>\n",
       "      <td>0.245517</td>\n",
       "      <td>0.0</td>\n",
       "      <td>0.0</td>\n",
       "      <td>0.0</td>\n",
       "      <td>0.0</td>\n",
       "      <td>8.0</td>\n",
       "    </tr>\n",
       "    <tr>\n",
       "      <th>total_of_special_requests</th>\n",
       "      <td>116951.0</td>\n",
       "      <td>0.571718</td>\n",
       "      <td>0.791880</td>\n",
       "      <td>0.0</td>\n",
       "      <td>0.0</td>\n",
       "      <td>0.0</td>\n",
       "      <td>1.0</td>\n",
       "      <td>5.0</td>\n",
       "    </tr>\n",
       "  </tbody>\n",
       "</table>\n",
       "</div>"
      ],
      "text/plain": [
       "                                   count        mean         std   min   25%  \\\n",
       "lead_time                       116951.0  105.188130  106.924572   0.0  19.0   \n",
       "stays_in_weekend_nights         116951.0    0.935358    0.993030   0.0   0.0   \n",
       "stays_in_week_nights            116951.0    2.519517    1.885362   0.0   1.0   \n",
       "adults                          116951.0    1.861831    0.480757   0.0   2.0   \n",
       "children                        116951.0    0.104223    0.398829   0.0   0.0   \n",
       "babies                          116951.0    0.007867    0.097193   0.0   0.0   \n",
       "is_repeated_guest               116951.0    0.027730    0.164198   0.0   0.0   \n",
       "previous_cancellations          116951.0    0.081906    0.777167   0.0   0.0   \n",
       "previous_bookings_not_canceled  116951.0    0.125258    1.448456   0.0   0.0   \n",
       "booking_changes                 116951.0    0.215193    0.630094   0.0   0.0   \n",
       "days_in_waiting_list            116951.0    2.345367   17.710354   0.0   0.0   \n",
       "adr                             116951.0  103.863971   46.422812  25.0  71.1   \n",
       "required_car_parking_spaces     116951.0    0.062607    0.245517   0.0   0.0   \n",
       "total_of_special_requests       116951.0    0.571718    0.791880   0.0   0.0   \n",
       "\n",
       "                                 50%    75%    max  \n",
       "lead_time                       71.0  162.0  709.0  \n",
       "stays_in_weekend_nights          1.0    2.0   19.0  \n",
       "stays_in_week_nights             2.0    3.0   50.0  \n",
       "adults                           2.0    2.0    4.0  \n",
       "children                         0.0    0.0   10.0  \n",
       "babies                           0.0    0.0   10.0  \n",
       "is_repeated_guest                0.0    0.0    1.0  \n",
       "previous_cancellations           0.0    0.0   26.0  \n",
       "previous_bookings_not_canceled   0.0    0.0   72.0  \n",
       "booking_changes                  0.0    0.0   18.0  \n",
       "days_in_waiting_list             0.0    0.0  391.0  \n",
       "adr                             95.0  126.0  510.0  \n",
       "required_car_parking_spaces      0.0    0.0    8.0  \n",
       "total_of_special_requests        0.0    1.0    5.0  "
      ]
     },
     "execution_count": 6,
     "metadata": {},
     "output_type": "execute_result"
    }
   ],
   "source": [
    "df[['lead_time','stays_in_weekend_nights','stays_in_week_nights','adults','children',\n",
    "    'babies','is_repeated_guest','previous_cancellations','previous_bookings_not_canceled',\n",
    "    'booking_changes','days_in_waiting_list','adr','required_car_parking_spaces',\n",
    "    'total_of_special_requests']].describe().T\n",
    "\n"
   ]
  },
  {
   "cell_type": "markdown",
   "metadata": {},
   "source": [
    "## Data Visualization"
   ]
  },
  {
   "cell_type": "code",
   "execution_count": 7,
   "metadata": {},
   "outputs": [
    {
     "data": {
      "text/plain": [
       "<AxesSubplot:>"
      ]
     },
     "execution_count": 7,
     "metadata": {},
     "output_type": "execute_result"
    },
    {
     "data": {
      "image/png": "[encoded data removed]",
      "text/plain": [
       "<Figure size 864x864 with 2 Axes>"
      ]
     },
     "metadata": {
      "needs_background": "light"
     },
     "output_type": "display_data"
    }
   ],
   "source": [
    "# heatmap\n",
    "plt.figure(figsize = (12,12))\n",
    "sns.heatmap(df.corr())"
   ]
  },
  {
   "cell_type": "code",
   "execution_count": 8,
   "metadata": {},
   "outputs": [],
   "source": [
    "df_corr = df.corr()"
   ]
  },
  {
   "cell_type": "code",
   "execution_count": 9,
   "metadata": {},
   "outputs": [
    {
     "data": {
      "text/plain": [
       "adr                               1.000000\n",
       "children                          0.359016\n",
       "adults                            0.283715\n",
       "reservation_status_date_year      0.241851\n",
       "arrival_date_year                 0.205934\n",
       "total_of_special_requests         0.191431\n",
       "arrival_date_month                0.094366\n",
       "arrival_date_week_number          0.090295\n",
       "required_car_parking_spaces       0.062318\n",
       "stays_in_week_nights              0.050996\n",
       "booking_changes                   0.042034\n",
       "stays_in_weekend_nights           0.038278\n",
       "babies                            0.034499\n",
       "is_canceled                       0.031942\n",
       "arrival_date_day                  0.030470\n",
       "reservation_status_date_month     0.019034\n",
       "reservation_status_date_day       0.012346\n",
       "agent                             0.010898\n",
       "days_in_waiting_list             -0.047832\n",
       "previous_bookings_not_canceled   -0.064482\n",
       "previous_cancellations           -0.065267\n",
       "lead_time                        -0.093863\n",
       "is_repeated_guest                -0.102725\n",
       "Name: adr, dtype: float64"
      ]
     },
     "execution_count": 9,
     "metadata": {},
     "output_type": "execute_result"
    }
   ],
   "source": [
    "(df_corr['adr']).sort_values(ascending = False)"
   ]
  },
  {
   "cell_type": "markdown",
   "metadata": {},
   "source": [
    "ADR has high correlation with children, adults, total_of_special_requests. Having more people (adults and children) and special orders increases daily rate. "
   ]
  },
  {
   "cell_type": "code",
   "execution_count": 10,
   "metadata": {},
   "outputs": [
    {
     "data": {
      "text/plain": [
       "is_canceled                       1.000000\n",
       "lead_time                         0.290984\n",
       "previous_cancellations            0.112532\n",
       "adults                            0.056233\n",
       "days_in_waiting_list              0.054299\n",
       "adr                               0.031942\n",
       "stays_in_week_nights              0.018360\n",
       "arrival_date_year                 0.014976\n",
       "arrival_date_month                0.012106\n",
       "arrival_date_week_number          0.009230\n",
       "children                          0.005133\n",
       "arrival_date_day                 -0.006138\n",
       "stays_in_weekend_nights          -0.007151\n",
       "babies                           -0.032652\n",
       "reservation_status_date_day      -0.034236\n",
       "agent                            -0.047818\n",
       "previous_bookings_not_canceled   -0.054794\n",
       "reservation_status_date_month    -0.068148\n",
       "is_repeated_guest                -0.074221\n",
       "reservation_status_date_year     -0.119963\n",
       "booking_changes                  -0.144019\n",
       "required_car_parking_spaces      -0.197360\n",
       "total_of_special_requests        -0.236952\n",
       "Name: is_canceled, dtype: float64"
      ]
     },
     "execution_count": 10,
     "metadata": {},
     "output_type": "execute_result"
    }
   ],
   "source": [
    "(df_corr['is_canceled']).sort_values(ascending = False)"
   ]
  },
  {
   "cell_type": "markdown",
   "metadata": {},
   "source": [
    "Cancellation has high correlation with lead_time, previous cancellations, waiting time until order confirmed, and adr. "
   ]
  },
  {
   "cell_type": "code",
   "execution_count": 11,
   "metadata": {},
   "outputs": [],
   "source": [
    "# Split the df by cancallation\n",
    "\n",
    "df_c0 = df[df['is_canceled']==0]['adr'] # not canceled\n",
    "df_c1 = df[df['is_canceled']==1]['adr'] # canceled"
   ]
  },
  {
   "cell_type": "code",
   "execution_count": 12,
   "metadata": {
    "scrolled": true
   },
   "outputs": [
    {
     "name": "stdout",
     "output_type": "stream",
     "text": [
      "No cancellation reservation: 73140\n",
      "Cancellation reservation: 43811\n",
      "37.460987935118126\n"
     ]
    }
   ],
   "source": [
    "# count booking cancelled \n",
    "\n",
    "print('No cancellation reservation:', len(df_c0))\n",
    "print('Cancellation reservation:', len(df_c1))\n",
    "\n",
    "# percentage of booking cancelled\n",
    "print ((len(df_c1)/len(df.adr))*100)"
   ]
  },
  {
   "cell_type": "code",
   "execution_count": 13,
   "metadata": {},
   "outputs": [
    {
     "data": {
      "image/png": "[encoded data removed]",
      "text/plain": [
       "<Figure size 504x504 with 1 Axes>"
      ]
     },
     "metadata": {
      "needs_background": "light"
     },
     "output_type": "display_data"
    }
   ],
   "source": [
    "# Bar plot showing the number of cancelled vs not cancelled reservations\n",
    "\n",
    "plt.figure(figsize = (7,7))\n",
    "sns.countplot(x ='is_canceled', data = df)\n",
    "plt.title('Counts of cancellation');"
   ]
  },
  {
   "cell_type": "code",
   "execution_count": 14,
   "metadata": {},
   "outputs": [
    {
     "data": {
      "text/plain": [
       "<Figure size 1080x720 with 0 Axes>"
      ]
     },
     "metadata": {},
     "output_type": "display_data"
    },
    {
     "data": {
      "image/png": "[encoded data removed]",
      "text/plain": [
       "<Figure size 426.125x360 with 1 Axes>"
      ]
     },
     "metadata": {
      "needs_background": "light"
     },
     "output_type": "display_data"
    }
   ],
   "source": [
    "# Bookings by day of week\n",
    "\n",
    "plt.figure(figsize=(15,10))\n",
    "\n",
    "order = ['Monday','Tuesday','Wednesday','Thursday','Friday','Saturday','Sunday']\n",
    "sns.catplot(x='arrival_date_day_of_week', data = df, kind = 'count', hue = 'is_canceled', order=order)\n",
    "plt.xticks(rotation=90)\n",
    "plt.title('Reservation booking by day of week');\n"
   ]
  },
  {
   "cell_type": "code",
   "execution_count": 15,
   "metadata": {},
   "outputs": [
    {
     "data": {
      "text/plain": [
       "Check-Out    73140\n",
       "Canceled     42635\n",
       "No-Show       1176\n",
       "Name: reservation_status, dtype: int64"
      ]
     },
     "execution_count": 15,
     "metadata": {},
     "output_type": "execute_result"
    }
   ],
   "source": [
    "df['reservation_status'].value_counts()"
   ]
  },
  {
   "cell_type": "code",
   "execution_count": 16,
   "metadata": {},
   "outputs": [
    {
     "data": {
      "text/plain": [
       "0    73140\n",
       "Name: is_canceled, dtype: int64"
      ]
     },
     "execution_count": 16,
     "metadata": {},
     "output_type": "execute_result"
    }
   ],
   "source": [
    "df.loc[df['reservation_status']=='Check-Out', 'is_canceled'].value_counts()"
   ]
  },
  {
   "cell_type": "code",
   "execution_count": 17,
   "metadata": {},
   "outputs": [],
   "source": [
    "# How long should I book early to get cheaper daily average rates?\n"
   ]
  },
  {
   "cell_type": "code",
   "execution_count": null,
   "metadata": {},
   "outputs": [],
   "source": []
  },
  {
   "cell_type": "markdown",
   "metadata": {},
   "source": [
    "## Statistics Inference "
   ]
  },
  {
   "cell_type": "markdown",
   "metadata": {},
   "source": [
    "**Null Hypothesis**: The average daily rate price (ADR) booked by who has cancelled the reservation has the same rate as people who is not cancelled.\n",
    "\n",
    "**Alternative Hypothesis**: The average daily rate price (ADR) booked by who has cancelled the reservation does NOt have the same rate as people who is not cancelled."
   ]
  },
  {
   "cell_type": "code",
   "execution_count": 18,
   "metadata": {},
   "outputs": [
    {
     "data": {
      "text/plain": [
       "Text(0, 0.5, 'counts')"
      ]
     },
     "execution_count": 18,
     "metadata": {},
     "output_type": "execute_result"
    },
    {
     "data": {
      "image/png": "[encoded data removed]",
      "text/plain": [
       "<Figure size 432x288 with 1 Axes>"
      ]
     },
     "metadata": {
      "needs_background": "light"
     },
     "output_type": "display_data"
    }
   ],
   "source": [
    "# not canceled average daily rate (price) histogram\n",
    "\n",
    "plt.hist(df_c0)\n",
    "\n",
    "plt.title ('not canceled reservations')\n",
    "plt.xlabel ('average daily rate')\n",
    "plt.ylabel ('counts')"
   ]
  },
  {
   "cell_type": "code",
   "execution_count": 19,
   "metadata": {},
   "outputs": [
    {
     "data": {
      "text/plain": [
       "Text(0, 0.5, 'counts')"
      ]
     },
     "execution_count": 19,
     "metadata": {},
     "output_type": "execute_result"
    },
    {
     "data": {
      "image/png": "[encoded data removed]",
      "text/plain": [
       "<Figure size 432x288 with 1 Axes>"
      ]
     },
     "metadata": {
      "needs_background": "light"
     },
     "output_type": "display_data"
    }
   ],
   "source": [
    "# canceled average daily rate (price) histogram\n",
    "\n",
    "plt.hist(df_c1)\n",
    "\n",
    "plt.title ('canceled reservations')\n",
    "plt.xlabel ('average daily rate')\n",
    "plt.ylabel ('counts')"
   ]
  },
  {
   "cell_type": "markdown",
   "metadata": {},
   "source": [
    "compute variance of two sample for adr , whether they are equal or not, if equal set to True , False otherwise\n",
    "\n"
   ]
  },
  {
   "cell_type": "code",
   "execution_count": 20,
   "metadata": {},
   "outputs": [
    {
     "name": "stdout",
     "output_type": "stream",
     "text": [
      "not canceled reservation sample variance: 2211.4925941687825\n",
      "canceled reservation sample variance: 2054.9766719028694\n",
      "The variances between two samples are not equal, therefore equal_var = False\n"
     ]
    }
   ],
   "source": [
    "# Checking variances of two samples whether they are equal or not.\n",
    "\n",
    "s0 = np.var(df_c0)\n",
    "s1 = np.var(df_c1)\n",
    "\n",
    "print('not canceled reservation sample variance:', s0)\n",
    "print('canceled reservation sample variance:', s1)\n",
    "print('The variances between two samples are not equal, therefore equal_var = False')"
   ]
  },
  {
   "cell_type": "code",
   "execution_count": 21,
   "metadata": {},
   "outputs": [
    {
     "data": {
      "text/plain": [
       "Ttest_indResult(statistic=11.030208120075132, pvalue=2.8427140538857988e-28)"
      ]
     },
     "execution_count": 21,
     "metadata": {},
     "output_type": "execute_result"
    }
   ],
   "source": [
    "ttest_ind(df_c1, df_c0, equal_var=False)"
   ]
  },
  {
   "cell_type": "markdown",
   "metadata": {},
   "source": [
    "The p-value is lower than 0.05 (standard alpha value, significance level). Therefore, we can reject the null hypothesis and accept alternative hypothesis. \n",
    "**The average daily rate (ADR) between two groups (who has cancelled and not cancelled the reservation) are different.**"
   ]
  },
  {
   "cell_type": "markdown",
   "metadata": {},
   "source": [
    "## Bootstrapping"
   ]
  },
  {
   "cell_type": "markdown",
   "metadata": {},
   "source": [
    "The shape of histogram follows normal distribution trends however, they are slightly skewed to the right. I am going to use bootstrapping method to check my t-test results."
   ]
  },
  {
   "cell_type": "markdown",
   "metadata": {},
   "source": [
    "**Null Hypothesis**: The average daily rate price (ADR) booked by who has cancelled the reservation has the same rate as people who is not cancelled.\n",
    "\n",
    "**Alternative Hypothesis**: The average daily rate price (ADR) booked by who has cancelled the reservation does NOT have the same rate as people who is not cancelled."
   ]
  },
  {
   "cell_type": "code",
   "execution_count": 22,
   "metadata": {},
   "outputs": [],
   "source": [
    "difference = list()\n",
    "\n",
    "# For loop that does the following 10,000 times:\n",
    "# 1. makes a permutation of the 'adr'\n",
    "# 2. calculates the difference in the mean adr for canceled and the mean adr for not canceled. \n",
    "\n",
    "for i in range(10000):\n",
    "    permutation = np.random.permutation(df['adr'])\n",
    "    difference.append(np.mean(permutation[df['is_canceled']==0]) - np.mean(permutation[df['is_canceled']==1]))"
   ]
  },
  {
   "cell_type": "code",
   "execution_count": 23,
   "metadata": {},
   "outputs": [],
   "source": [
    "empirical_diff = abs(np.mean(df_c0)-np.mean(df_c1))"
   ]
  },
  {
   "cell_type": "code",
   "execution_count": 24,
   "metadata": {},
   "outputs": [
    {
     "name": "stdout",
     "output_type": "stream",
     "text": [
      "0\n",
      "0\n",
      "0.0\n"
     ]
    }
   ],
   "source": [
    "positiveExtremes = []\n",
    "negativeExtremes = []\n",
    "for i in range(len(difference)):\n",
    "    if (difference[i] >= empirical_diff):\n",
    "        positiveExtremes.append(difference[i])\n",
    "    elif (difference[i] <= -empirical_diff):\n",
    "        negativeExtremes.append(difference[i])\n",
    "\n",
    "print(len(positiveExtremes))\n",
    "print(len(negativeExtremes))\n",
    "\n",
    "p = (len(positiveExtremes)+len(negativeExtremes))/len(difference)\n",
    "\n",
    "print (p)"
   ]
  },
  {
   "cell_type": "markdown",
   "metadata": {},
   "source": [
    "P value = 0, very significant evidence that the prices are different between two groups."
   ]
  },
  {
   "cell_type": "code",
   "execution_count": null,
   "metadata": {},
   "outputs": [],
   "source": []
  },
  {
   "cell_type": "code",
   "execution_count": null,
   "metadata": {},
   "outputs": [],
   "source": []
  }
 ],
 "metadata": {
  "kernelspec": {
   "display_name": "Python 3",
   "language": "python",
   "name": "python3"
  },
  "language_info": {
   "codemirror_mode": {
    "name": "ipython",
    "version": 3
   },
   "file_extension": ".py",
   "mimetype": "text/x-python",
   "name": "python",
   "nbconvert_exporter": "python",
   "pygments_lexer": "ipython3",
   "version": "3.8.5"
  }
 },
 "nbformat": 4,
 "nbformat_minor": 4
}
