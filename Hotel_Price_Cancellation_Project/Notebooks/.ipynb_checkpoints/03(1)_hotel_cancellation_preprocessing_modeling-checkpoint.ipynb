{
 "cells": [
  {
   "cell_type": "markdown",
   "metadata": {},
   "source": [
    "# Preprocessing and Training Data"
   ]
  },
  {
   "cell_type": "code",
   "execution_count": 1,
   "metadata": {},
   "outputs": [],
   "source": [
    "# import necessary packages and load dataset\n",
    "\n",
    "import pandas as pd\n",
    "import numpy as np\n",
    "\n",
    "from sklearn.model_selection import train_test_split, cross_validate, GridSearchCV, RandomizedSearchCV\n",
    "from sklearn.tree import DecisionTreeClassifier\n",
    "from sklearn.metrics import accuracy_score\n",
    "from sklearn.linear_model import LogisticRegression\n",
    "from sklearn.neighbors import KNeighborsClassifier\n",
    "from sklearn.svm import LinearSVC\n",
    "from sklearn import tree\n",
    "from sklearn.ensemble import GradientBoostingClassifier\n",
    "from sklearn.ensemble import RandomForestClassifier\n",
    "\n",
    "from sklearn.metrics import confusion_matrix, classification_report\n",
    "from tabulate import tabulate\n",
    "\n",
    "import shap"
   ]
  },
  {
   "cell_type": "code",
   "execution_count": 2,
   "metadata": {},
   "outputs": [],
   "source": [
    "df = pd.read_csv('../data/hotel_data_cleaned.csv')"
   ]
  },
  {
   "cell_type": "code",
   "execution_count": 3,
   "metadata": {},
   "outputs": [
    {
     "data": {
      "text/html": [
       "<div>\n",
       "<style scoped>\n",
       "    .dataframe tbody tr th:only-of-type {\n",
       "        vertical-align: middle;\n",
       "    }\n",
       "\n",
       "    .dataframe tbody tr th {\n",
       "        vertical-align: top;\n",
       "    }\n",
       "\n",
       "    .dataframe thead th {\n",
       "        text-align: right;\n",
       "    }\n",
       "</style>\n",
       "<table border=\"1\" class=\"dataframe\">\n",
       "  <thead>\n",
       "    <tr style=\"text-align: right;\">\n",
       "      <th></th>\n",
       "      <th>hotel</th>\n",
       "      <th>is_canceled</th>\n",
       "      <th>lead_time</th>\n",
       "      <th>arrival_date_year</th>\n",
       "      <th>arrival_date_month</th>\n",
       "      <th>arrival_date_week_number</th>\n",
       "      <th>arrival_date_day</th>\n",
       "      <th>stays_in_weekend_nights</th>\n",
       "      <th>stays_in_week_nights</th>\n",
       "      <th>adults</th>\n",
       "      <th>...</th>\n",
       "      <th>customer_type</th>\n",
       "      <th>adr</th>\n",
       "      <th>required_car_parking_spaces</th>\n",
       "      <th>total_of_special_requests</th>\n",
       "      <th>reservation_status</th>\n",
       "      <th>reservation_status_date_year</th>\n",
       "      <th>reservation_status_date_month</th>\n",
       "      <th>reservation_status_date_day</th>\n",
       "      <th>reservation_status_day_of_week</th>\n",
       "      <th>arrival_date_day_of_week</th>\n",
       "    </tr>\n",
       "  </thead>\n",
       "  <tbody>\n",
       "    <tr>\n",
       "      <th>0</th>\n",
       "      <td>Resort Hotel</td>\n",
       "      <td>0</td>\n",
       "      <td>7</td>\n",
       "      <td>2015</td>\n",
       "      <td>7</td>\n",
       "      <td>27</td>\n",
       "      <td>1</td>\n",
       "      <td>0</td>\n",
       "      <td>1</td>\n",
       "      <td>1</td>\n",
       "      <td>...</td>\n",
       "      <td>Transient</td>\n",
       "      <td>75.0</td>\n",
       "      <td>0</td>\n",
       "      <td>0</td>\n",
       "      <td>Check-Out</td>\n",
       "      <td>2015</td>\n",
       "      <td>7</td>\n",
       "      <td>2</td>\n",
       "      <td>Thursday</td>\n",
       "      <td>Wednesday</td>\n",
       "    </tr>\n",
       "    <tr>\n",
       "      <th>1</th>\n",
       "      <td>Resort Hotel</td>\n",
       "      <td>0</td>\n",
       "      <td>13</td>\n",
       "      <td>2015</td>\n",
       "      <td>7</td>\n",
       "      <td>27</td>\n",
       "      <td>1</td>\n",
       "      <td>0</td>\n",
       "      <td>1</td>\n",
       "      <td>1</td>\n",
       "      <td>...</td>\n",
       "      <td>Transient</td>\n",
       "      <td>75.0</td>\n",
       "      <td>0</td>\n",
       "      <td>0</td>\n",
       "      <td>Check-Out</td>\n",
       "      <td>2015</td>\n",
       "      <td>7</td>\n",
       "      <td>2</td>\n",
       "      <td>Thursday</td>\n",
       "      <td>Wednesday</td>\n",
       "    </tr>\n",
       "    <tr>\n",
       "      <th>2</th>\n",
       "      <td>Resort Hotel</td>\n",
       "      <td>0</td>\n",
       "      <td>14</td>\n",
       "      <td>2015</td>\n",
       "      <td>7</td>\n",
       "      <td>27</td>\n",
       "      <td>1</td>\n",
       "      <td>0</td>\n",
       "      <td>2</td>\n",
       "      <td>2</td>\n",
       "      <td>...</td>\n",
       "      <td>Transient</td>\n",
       "      <td>98.0</td>\n",
       "      <td>0</td>\n",
       "      <td>1</td>\n",
       "      <td>Check-Out</td>\n",
       "      <td>2015</td>\n",
       "      <td>7</td>\n",
       "      <td>3</td>\n",
       "      <td>Friday</td>\n",
       "      <td>Wednesday</td>\n",
       "    </tr>\n",
       "    <tr>\n",
       "      <th>3</th>\n",
       "      <td>Resort Hotel</td>\n",
       "      <td>0</td>\n",
       "      <td>14</td>\n",
       "      <td>2015</td>\n",
       "      <td>7</td>\n",
       "      <td>27</td>\n",
       "      <td>1</td>\n",
       "      <td>0</td>\n",
       "      <td>2</td>\n",
       "      <td>2</td>\n",
       "      <td>...</td>\n",
       "      <td>Transient</td>\n",
       "      <td>98.0</td>\n",
       "      <td>0</td>\n",
       "      <td>1</td>\n",
       "      <td>Check-Out</td>\n",
       "      <td>2015</td>\n",
       "      <td>7</td>\n",
       "      <td>3</td>\n",
       "      <td>Friday</td>\n",
       "      <td>Wednesday</td>\n",
       "    </tr>\n",
       "    <tr>\n",
       "      <th>4</th>\n",
       "      <td>Resort Hotel</td>\n",
       "      <td>0</td>\n",
       "      <td>0</td>\n",
       "      <td>2015</td>\n",
       "      <td>7</td>\n",
       "      <td>27</td>\n",
       "      <td>1</td>\n",
       "      <td>0</td>\n",
       "      <td>2</td>\n",
       "      <td>2</td>\n",
       "      <td>...</td>\n",
       "      <td>Transient</td>\n",
       "      <td>107.0</td>\n",
       "      <td>0</td>\n",
       "      <td>0</td>\n",
       "      <td>Check-Out</td>\n",
       "      <td>2015</td>\n",
       "      <td>7</td>\n",
       "      <td>3</td>\n",
       "      <td>Friday</td>\n",
       "      <td>Wednesday</td>\n",
       "    </tr>\n",
       "  </tbody>\n",
       "</table>\n",
       "<p>5 rows × 35 columns</p>\n",
       "</div>"
      ],
      "text/plain": [
       "          hotel  is_canceled  lead_time  arrival_date_year  \\\n",
       "0  Resort Hotel            0          7               2015   \n",
       "1  Resort Hotel            0         13               2015   \n",
       "2  Resort Hotel            0         14               2015   \n",
       "3  Resort Hotel            0         14               2015   \n",
       "4  Resort Hotel            0          0               2015   \n",
       "\n",
       "   arrival_date_month  arrival_date_week_number  arrival_date_day  \\\n",
       "0                   7                        27                 1   \n",
       "1                   7                        27                 1   \n",
       "2                   7                        27                 1   \n",
       "3                   7                        27                 1   \n",
       "4                   7                        27                 1   \n",
       "\n",
       "   stays_in_weekend_nights  stays_in_week_nights  adults  ...  customer_type  \\\n",
       "0                        0                     1       1  ...      Transient   \n",
       "1                        0                     1       1  ...      Transient   \n",
       "2                        0                     2       2  ...      Transient   \n",
       "3                        0                     2       2  ...      Transient   \n",
       "4                        0                     2       2  ...      Transient   \n",
       "\n",
       "     adr required_car_parking_spaces total_of_special_requests  \\\n",
       "0   75.0                           0                         0   \n",
       "1   75.0                           0                         0   \n",
       "2   98.0                           0                         1   \n",
       "3   98.0                           0                         1   \n",
       "4  107.0                           0                         0   \n",
       "\n",
       "  reservation_status reservation_status_date_year  \\\n",
       "0          Check-Out                         2015   \n",
       "1          Check-Out                         2015   \n",
       "2          Check-Out                         2015   \n",
       "3          Check-Out                         2015   \n",
       "4          Check-Out                         2015   \n",
       "\n",
       "   reservation_status_date_month  reservation_status_date_day  \\\n",
       "0                              7                            2   \n",
       "1                              7                            2   \n",
       "2                              7                            3   \n",
       "3                              7                            3   \n",
       "4                              7                            3   \n",
       "\n",
       "   reservation_status_day_of_week arrival_date_day_of_week  \n",
       "0                        Thursday                Wednesday  \n",
       "1                        Thursday                Wednesday  \n",
       "2                          Friday                Wednesday  \n",
       "3                          Friday                Wednesday  \n",
       "4                          Friday                Wednesday  \n",
       "\n",
       "[5 rows x 35 columns]"
      ]
     },
     "execution_count": 3,
     "metadata": {},
     "output_type": "execute_result"
    }
   ],
   "source": [
    "df.head()"
   ]
  },
  {
   "cell_type": "code",
   "execution_count": 4,
   "metadata": {},
   "outputs": [
    {
     "data": {
      "text/plain": [
       "hotel                              object\n",
       "is_canceled                         int64\n",
       "lead_time                           int64\n",
       "arrival_date_year                   int64\n",
       "arrival_date_month                  int64\n",
       "arrival_date_week_number            int64\n",
       "arrival_date_day                    int64\n",
       "stays_in_weekend_nights             int64\n",
       "stays_in_week_nights                int64\n",
       "adults                              int64\n",
       "children                          float64\n",
       "babies                              int64\n",
       "meal                               object\n",
       "country                            object\n",
       "market_segment                     object\n",
       "distribution_channel               object\n",
       "is_repeated_guest                   int64\n",
       "previous_cancellations              int64\n",
       "previous_bookings_not_canceled      int64\n",
       "reserved_room_type                 object\n",
       "assigned_room_type                 object\n",
       "booking_changes                     int64\n",
       "deposit_type                       object\n",
       "agent                             float64\n",
       "days_in_waiting_list                int64\n",
       "customer_type                      object\n",
       "adr                               float64\n",
       "required_car_parking_spaces         int64\n",
       "total_of_special_requests           int64\n",
       "reservation_status                 object\n",
       "reservation_status_date_year        int64\n",
       "reservation_status_date_month       int64\n",
       "reservation_status_date_day         int64\n",
       "reservation_status_day_of_week     object\n",
       "arrival_date_day_of_week           object\n",
       "dtype: object"
      ]
     },
     "execution_count": 4,
     "metadata": {},
     "output_type": "execute_result"
    }
   ],
   "source": [
    "df.dtypes"
   ]
  },
  {
   "cell_type": "code",
   "execution_count": 5,
   "metadata": {},
   "outputs": [
    {
     "data": {
      "text/html": [
       "<div>\n",
       "<style scoped>\n",
       "    .dataframe tbody tr th:only-of-type {\n",
       "        vertical-align: middle;\n",
       "    }\n",
       "\n",
       "    .dataframe tbody tr th {\n",
       "        vertical-align: top;\n",
       "    }\n",
       "\n",
       "    .dataframe thead th {\n",
       "        text-align: right;\n",
       "    }\n",
       "</style>\n",
       "<table border=\"1\" class=\"dataframe\">\n",
       "  <thead>\n",
       "    <tr style=\"text-align: right;\">\n",
       "      <th></th>\n",
       "      <th>hotel</th>\n",
       "      <th>is_canceled</th>\n",
       "      <th>lead_time</th>\n",
       "      <th>arrival_date_year</th>\n",
       "      <th>arrival_date_month</th>\n",
       "      <th>arrival_date_week_number</th>\n",
       "      <th>arrival_date_day</th>\n",
       "      <th>stays_in_weekend_nights</th>\n",
       "      <th>stays_in_week_nights</th>\n",
       "      <th>adults</th>\n",
       "      <th>...</th>\n",
       "      <th>days_in_waiting_list</th>\n",
       "      <th>customer_type</th>\n",
       "      <th>adr</th>\n",
       "      <th>required_car_parking_spaces</th>\n",
       "      <th>total_of_special_requests</th>\n",
       "      <th>reservation_status_date_year</th>\n",
       "      <th>reservation_status_date_month</th>\n",
       "      <th>reservation_status_date_day</th>\n",
       "      <th>reservation_status_day_of_week</th>\n",
       "      <th>arrival_date_day_of_week</th>\n",
       "    </tr>\n",
       "  </thead>\n",
       "  <tbody>\n",
       "    <tr>\n",
       "      <th>0</th>\n",
       "      <td>Resort Hotel</td>\n",
       "      <td>0</td>\n",
       "      <td>7</td>\n",
       "      <td>2015</td>\n",
       "      <td>7</td>\n",
       "      <td>27</td>\n",
       "      <td>1</td>\n",
       "      <td>0</td>\n",
       "      <td>1</td>\n",
       "      <td>1</td>\n",
       "      <td>...</td>\n",
       "      <td>0</td>\n",
       "      <td>Transient</td>\n",
       "      <td>75.00</td>\n",
       "      <td>0</td>\n",
       "      <td>0</td>\n",
       "      <td>2015</td>\n",
       "      <td>7</td>\n",
       "      <td>2</td>\n",
       "      <td>Thursday</td>\n",
       "      <td>Wednesday</td>\n",
       "    </tr>\n",
       "    <tr>\n",
       "      <th>1</th>\n",
       "      <td>Resort Hotel</td>\n",
       "      <td>0</td>\n",
       "      <td>13</td>\n",
       "      <td>2015</td>\n",
       "      <td>7</td>\n",
       "      <td>27</td>\n",
       "      <td>1</td>\n",
       "      <td>0</td>\n",
       "      <td>1</td>\n",
       "      <td>1</td>\n",
       "      <td>...</td>\n",
       "      <td>0</td>\n",
       "      <td>Transient</td>\n",
       "      <td>75.00</td>\n",
       "      <td>0</td>\n",
       "      <td>0</td>\n",
       "      <td>2015</td>\n",
       "      <td>7</td>\n",
       "      <td>2</td>\n",
       "      <td>Thursday</td>\n",
       "      <td>Wednesday</td>\n",
       "    </tr>\n",
       "    <tr>\n",
       "      <th>2</th>\n",
       "      <td>Resort Hotel</td>\n",
       "      <td>0</td>\n",
       "      <td>14</td>\n",
       "      <td>2015</td>\n",
       "      <td>7</td>\n",
       "      <td>27</td>\n",
       "      <td>1</td>\n",
       "      <td>0</td>\n",
       "      <td>2</td>\n",
       "      <td>2</td>\n",
       "      <td>...</td>\n",
       "      <td>0</td>\n",
       "      <td>Transient</td>\n",
       "      <td>98.00</td>\n",
       "      <td>0</td>\n",
       "      <td>1</td>\n",
       "      <td>2015</td>\n",
       "      <td>7</td>\n",
       "      <td>3</td>\n",
       "      <td>Friday</td>\n",
       "      <td>Wednesday</td>\n",
       "    </tr>\n",
       "    <tr>\n",
       "      <th>3</th>\n",
       "      <td>Resort Hotel</td>\n",
       "      <td>0</td>\n",
       "      <td>14</td>\n",
       "      <td>2015</td>\n",
       "      <td>7</td>\n",
       "      <td>27</td>\n",
       "      <td>1</td>\n",
       "      <td>0</td>\n",
       "      <td>2</td>\n",
       "      <td>2</td>\n",
       "      <td>...</td>\n",
       "      <td>0</td>\n",
       "      <td>Transient</td>\n",
       "      <td>98.00</td>\n",
       "      <td>0</td>\n",
       "      <td>1</td>\n",
       "      <td>2015</td>\n",
       "      <td>7</td>\n",
       "      <td>3</td>\n",
       "      <td>Friday</td>\n",
       "      <td>Wednesday</td>\n",
       "    </tr>\n",
       "    <tr>\n",
       "      <th>4</th>\n",
       "      <td>Resort Hotel</td>\n",
       "      <td>0</td>\n",
       "      <td>0</td>\n",
       "      <td>2015</td>\n",
       "      <td>7</td>\n",
       "      <td>27</td>\n",
       "      <td>1</td>\n",
       "      <td>0</td>\n",
       "      <td>2</td>\n",
       "      <td>2</td>\n",
       "      <td>...</td>\n",
       "      <td>0</td>\n",
       "      <td>Transient</td>\n",
       "      <td>107.00</td>\n",
       "      <td>0</td>\n",
       "      <td>0</td>\n",
       "      <td>2015</td>\n",
       "      <td>7</td>\n",
       "      <td>3</td>\n",
       "      <td>Friday</td>\n",
       "      <td>Wednesday</td>\n",
       "    </tr>\n",
       "    <tr>\n",
       "      <th>...</th>\n",
       "      <td>...</td>\n",
       "      <td>...</td>\n",
       "      <td>...</td>\n",
       "      <td>...</td>\n",
       "      <td>...</td>\n",
       "      <td>...</td>\n",
       "      <td>...</td>\n",
       "      <td>...</td>\n",
       "      <td>...</td>\n",
       "      <td>...</td>\n",
       "      <td>...</td>\n",
       "      <td>...</td>\n",
       "      <td>...</td>\n",
       "      <td>...</td>\n",
       "      <td>...</td>\n",
       "      <td>...</td>\n",
       "      <td>...</td>\n",
       "      <td>...</td>\n",
       "      <td>...</td>\n",
       "      <td>...</td>\n",
       "      <td>...</td>\n",
       "    </tr>\n",
       "    <tr>\n",
       "      <th>116946</th>\n",
       "      <td>City Hotel</td>\n",
       "      <td>0</td>\n",
       "      <td>23</td>\n",
       "      <td>2017</td>\n",
       "      <td>8</td>\n",
       "      <td>35</td>\n",
       "      <td>30</td>\n",
       "      <td>2</td>\n",
       "      <td>5</td>\n",
       "      <td>2</td>\n",
       "      <td>...</td>\n",
       "      <td>0</td>\n",
       "      <td>Transient</td>\n",
       "      <td>96.14</td>\n",
       "      <td>0</td>\n",
       "      <td>0</td>\n",
       "      <td>2017</td>\n",
       "      <td>9</td>\n",
       "      <td>6</td>\n",
       "      <td>Wednesday</td>\n",
       "      <td>Wednesday</td>\n",
       "    </tr>\n",
       "    <tr>\n",
       "      <th>116947</th>\n",
       "      <td>City Hotel</td>\n",
       "      <td>0</td>\n",
       "      <td>102</td>\n",
       "      <td>2017</td>\n",
       "      <td>8</td>\n",
       "      <td>35</td>\n",
       "      <td>31</td>\n",
       "      <td>2</td>\n",
       "      <td>5</td>\n",
       "      <td>3</td>\n",
       "      <td>...</td>\n",
       "      <td>0</td>\n",
       "      <td>Transient</td>\n",
       "      <td>225.43</td>\n",
       "      <td>0</td>\n",
       "      <td>2</td>\n",
       "      <td>2017</td>\n",
       "      <td>9</td>\n",
       "      <td>7</td>\n",
       "      <td>Thursday</td>\n",
       "      <td>Thursday</td>\n",
       "    </tr>\n",
       "    <tr>\n",
       "      <th>116948</th>\n",
       "      <td>City Hotel</td>\n",
       "      <td>0</td>\n",
       "      <td>34</td>\n",
       "      <td>2017</td>\n",
       "      <td>8</td>\n",
       "      <td>35</td>\n",
       "      <td>31</td>\n",
       "      <td>2</td>\n",
       "      <td>5</td>\n",
       "      <td>2</td>\n",
       "      <td>...</td>\n",
       "      <td>0</td>\n",
       "      <td>Transient</td>\n",
       "      <td>157.71</td>\n",
       "      <td>0</td>\n",
       "      <td>4</td>\n",
       "      <td>2017</td>\n",
       "      <td>9</td>\n",
       "      <td>7</td>\n",
       "      <td>Thursday</td>\n",
       "      <td>Thursday</td>\n",
       "    </tr>\n",
       "    <tr>\n",
       "      <th>116949</th>\n",
       "      <td>City Hotel</td>\n",
       "      <td>0</td>\n",
       "      <td>109</td>\n",
       "      <td>2017</td>\n",
       "      <td>8</td>\n",
       "      <td>35</td>\n",
       "      <td>31</td>\n",
       "      <td>2</td>\n",
       "      <td>5</td>\n",
       "      <td>2</td>\n",
       "      <td>...</td>\n",
       "      <td>0</td>\n",
       "      <td>Transient</td>\n",
       "      <td>104.40</td>\n",
       "      <td>0</td>\n",
       "      <td>0</td>\n",
       "      <td>2017</td>\n",
       "      <td>9</td>\n",
       "      <td>7</td>\n",
       "      <td>Thursday</td>\n",
       "      <td>Thursday</td>\n",
       "    </tr>\n",
       "    <tr>\n",
       "      <th>116950</th>\n",
       "      <td>City Hotel</td>\n",
       "      <td>0</td>\n",
       "      <td>205</td>\n",
       "      <td>2017</td>\n",
       "      <td>8</td>\n",
       "      <td>35</td>\n",
       "      <td>29</td>\n",
       "      <td>2</td>\n",
       "      <td>7</td>\n",
       "      <td>2</td>\n",
       "      <td>...</td>\n",
       "      <td>0</td>\n",
       "      <td>Transient</td>\n",
       "      <td>151.20</td>\n",
       "      <td>0</td>\n",
       "      <td>2</td>\n",
       "      <td>2017</td>\n",
       "      <td>9</td>\n",
       "      <td>7</td>\n",
       "      <td>Thursday</td>\n",
       "      <td>Tuesday</td>\n",
       "    </tr>\n",
       "  </tbody>\n",
       "</table>\n",
       "<p>116951 rows × 34 columns</p>\n",
       "</div>"
      ],
      "text/plain": [
       "               hotel  is_canceled  lead_time  arrival_date_year  \\\n",
       "0       Resort Hotel            0          7               2015   \n",
       "1       Resort Hotel            0         13               2015   \n",
       "2       Resort Hotel            0         14               2015   \n",
       "3       Resort Hotel            0         14               2015   \n",
       "4       Resort Hotel            0          0               2015   \n",
       "...              ...          ...        ...                ...   \n",
       "116946    City Hotel            0         23               2017   \n",
       "116947    City Hotel            0        102               2017   \n",
       "116948    City Hotel            0         34               2017   \n",
       "116949    City Hotel            0        109               2017   \n",
       "116950    City Hotel            0        205               2017   \n",
       "\n",
       "        arrival_date_month  arrival_date_week_number  arrival_date_day  \\\n",
       "0                        7                        27                 1   \n",
       "1                        7                        27                 1   \n",
       "2                        7                        27                 1   \n",
       "3                        7                        27                 1   \n",
       "4                        7                        27                 1   \n",
       "...                    ...                       ...               ...   \n",
       "116946                   8                        35                30   \n",
       "116947                   8                        35                31   \n",
       "116948                   8                        35                31   \n",
       "116949                   8                        35                31   \n",
       "116950                   8                        35                29   \n",
       "\n",
       "        stays_in_weekend_nights  stays_in_week_nights  adults  ...  \\\n",
       "0                             0                     1       1  ...   \n",
       "1                             0                     1       1  ...   \n",
       "2                             0                     2       2  ...   \n",
       "3                             0                     2       2  ...   \n",
       "4                             0                     2       2  ...   \n",
       "...                         ...                   ...     ...  ...   \n",
       "116946                        2                     5       2  ...   \n",
       "116947                        2                     5       3  ...   \n",
       "116948                        2                     5       2  ...   \n",
       "116949                        2                     5       2  ...   \n",
       "116950                        2                     7       2  ...   \n",
       "\n",
       "        days_in_waiting_list  customer_type     adr  \\\n",
       "0                          0      Transient   75.00   \n",
       "1                          0      Transient   75.00   \n",
       "2                          0      Transient   98.00   \n",
       "3                          0      Transient   98.00   \n",
       "4                          0      Transient  107.00   \n",
       "...                      ...            ...     ...   \n",
       "116946                     0      Transient   96.14   \n",
       "116947                     0      Transient  225.43   \n",
       "116948                     0      Transient  157.71   \n",
       "116949                     0      Transient  104.40   \n",
       "116950                     0      Transient  151.20   \n",
       "\n",
       "       required_car_parking_spaces total_of_special_requests  \\\n",
       "0                                0                         0   \n",
       "1                                0                         0   \n",
       "2                                0                         1   \n",
       "3                                0                         1   \n",
       "4                                0                         0   \n",
       "...                            ...                       ...   \n",
       "116946                           0                         0   \n",
       "116947                           0                         2   \n",
       "116948                           0                         4   \n",
       "116949                           0                         0   \n",
       "116950                           0                         2   \n",
       "\n",
       "       reservation_status_date_year  reservation_status_date_month  \\\n",
       "0                              2015                              7   \n",
       "1                              2015                              7   \n",
       "2                              2015                              7   \n",
       "3                              2015                              7   \n",
       "4                              2015                              7   \n",
       "...                             ...                            ...   \n",
       "116946                         2017                              9   \n",
       "116947                         2017                              9   \n",
       "116948                         2017                              9   \n",
       "116949                         2017                              9   \n",
       "116950                         2017                              9   \n",
       "\n",
       "        reservation_status_date_day  reservation_status_day_of_week  \\\n",
       "0                                 2                        Thursday   \n",
       "1                                 2                        Thursday   \n",
       "2                                 3                          Friday   \n",
       "3                                 3                          Friday   \n",
       "4                                 3                          Friday   \n",
       "...                             ...                             ...   \n",
       "116946                            6                       Wednesday   \n",
       "116947                            7                        Thursday   \n",
       "116948                            7                        Thursday   \n",
       "116949                            7                        Thursday   \n",
       "116950                            7                        Thursday   \n",
       "\n",
       "       arrival_date_day_of_week  \n",
       "0                     Wednesday  \n",
       "1                     Wednesday  \n",
       "2                     Wednesday  \n",
       "3                     Wednesday  \n",
       "4                     Wednesday  \n",
       "...                         ...  \n",
       "116946                Wednesday  \n",
       "116947                 Thursday  \n",
       "116948                 Thursday  \n",
       "116949                 Thursday  \n",
       "116950                  Tuesday  \n",
       "\n",
       "[116951 rows x 34 columns]"
      ]
     },
     "execution_count": 5,
     "metadata": {},
     "output_type": "execute_result"
    }
   ],
   "source": [
    "# dropping target leakage variable\n",
    "\n",
    "df=df.drop(columns='reservation_status')\n",
    "df"
   ]
  },
  {
   "cell_type": "markdown",
   "metadata": {},
   "source": [
    "## Transform categorical, text data"
   ]
  },
  {
   "cell_type": "code",
   "execution_count": 6,
   "metadata": {},
   "outputs": [
    {
     "data": {
      "text/plain": [
       "(116951, 260)"
      ]
     },
     "execution_count": 6,
     "metadata": {},
     "output_type": "execute_result"
    }
   ],
   "source": [
    "df1= pd.get_dummies(df, columns=['hotel','arrival_date_day_of_week','meal', 'country', \n",
    "                                 'market_segment', 'distribution_channel', 'reserved_room_type', \n",
    "                                 'assigned_room_type', 'deposit_type', 'customer_type',\n",
    "                                 'reservation_status_day_of_week'], drop_first=False)\n",
    "df1.shape"
   ]
  },
  {
   "cell_type": "code",
   "execution_count": 7,
   "metadata": {},
   "outputs": [
    {
     "data": {
      "text/plain": [
       "9.0      31813\n",
       "0.0      15231\n",
       "240.0    13763\n",
       "1.0       7050\n",
       "14.0      3614\n",
       "         ...  \n",
       "352.0        1\n",
       "480.0        1\n",
       "451.0        1\n",
       "165.0        1\n",
       "472.0        1\n",
       "Name: agent, Length: 332, dtype: int64"
      ]
     },
     "execution_count": 7,
     "metadata": {},
     "output_type": "execute_result"
    }
   ],
   "source": [
    "df.agent.value_counts()"
   ]
  },
  {
   "cell_type": "markdown",
   "metadata": {},
   "source": [
    "## Train/Test Split (Churn)"
   ]
  },
  {
   "cell_type": "code",
   "execution_count": 8,
   "metadata": {},
   "outputs": [
    {
     "data": {
      "text/plain": [
       "(81865.7, 35085.299999999996)"
      ]
     },
     "execution_count": 8,
     "metadata": {},
     "output_type": "execute_result"
    }
   ],
   "source": [
    "len(df1) * .7, len(df1) * .3"
   ]
  },
  {
   "cell_type": "code",
   "execution_count": 9,
   "metadata": {},
   "outputs": [],
   "source": [
    "X_train, X_test, y_train, y_test = train_test_split(df1.drop(columns='is_canceled'), \n",
    "                                                    df1.is_canceled, test_size=0.3, \n",
    "                                                    random_state=100)"
   ]
  },
  {
   "cell_type": "code",
   "execution_count": 10,
   "metadata": {},
   "outputs": [
    {
     "data": {
      "text/plain": [
       "((81865, 259), (35086, 259))"
      ]
     },
     "execution_count": 10,
     "metadata": {},
     "output_type": "execute_result"
    }
   ],
   "source": [
    "X_train.shape, X_test.shape"
   ]
  },
  {
   "cell_type": "code",
   "execution_count": 11,
   "metadata": {},
   "outputs": [
    {
     "data": {
      "text/plain": [
       "((81865,), (35086,))"
      ]
     },
     "execution_count": 11,
     "metadata": {},
     "output_type": "execute_result"
    }
   ],
   "source": [
    "y_train.shape, y_test.shape"
   ]
  },
  {
   "cell_type": "markdown",
   "metadata": {},
   "source": [
    "# Classification Models \n",
    "\n",
    "1. Logistic Regression \n",
    "2. KNN \n",
    "3. SVM\n",
    "4. Decision Tree\n",
    "5. Random Forest\n",
    "6. Gradient Boosting\n"
   ]
  },
  {
   "cell_type": "markdown",
   "metadata": {},
   "source": [
    "### Logistic Regression"
   ]
  },
  {
   "cell_type": "code",
   "execution_count": 12,
   "metadata": {},
   "outputs": [
    {
     "name": "stderr",
     "output_type": "stream",
     "text": [
      "lbfgs failed to converge (status=1):\n",
      "STOP: TOTAL NO. of ITERATIONS REACHED LIMIT.\n",
      "\n",
      "Increase the number of iterations (max_iter) or scale the data as shown in:\n",
      "    https://scikit-learn.org/stable/modules/preprocessing.html\n",
      "Please also refer to the documentation for alternative solver options:\n",
      "    https://scikit-learn.org/stable/modules/linear_model.html#logistic-regression\n"
     ]
    },
    {
     "data": {
      "text/plain": [
       "LogisticRegression()"
      ]
     },
     "execution_count": 12,
     "metadata": {},
     "output_type": "execute_result"
    }
   ],
   "source": [
    "logreg= LogisticRegression()\n",
    "\n",
    "logreg.fit(X_train, y_train)"
   ]
  },
  {
   "cell_type": "code",
   "execution_count": 13,
   "metadata": {},
   "outputs": [],
   "source": [
    "prediction_log = logreg.predict(X_test)"
   ]
  },
  {
   "cell_type": "code",
   "execution_count": 14,
   "metadata": {},
   "outputs": [
    {
     "name": "stdout",
     "output_type": "stream",
     "text": [
      "[[19966  1919]\n",
      " [ 8205  4996]]\n",
      "              precision    recall  f1-score   support\n",
      "\n",
      "           0       0.71      0.91      0.80     21885\n",
      "           1       0.72      0.38      0.50     13201\n",
      "\n",
      "    accuracy                           0.71     35086\n",
      "   macro avg       0.72      0.65      0.65     35086\n",
      "weighted avg       0.71      0.71      0.68     35086\n",
      "\n"
     ]
    }
   ],
   "source": [
    "print (confusion_matrix(y_test, prediction_log))\n",
    "print (classification_report(y_test, prediction_log))"
   ]
  },
  {
   "cell_type": "markdown",
   "metadata": {},
   "source": [
    "Note for Logistic Regression\n",
    "\n",
    "0 Precision represents the percent of your no-cancelled classifier \n",
    "1 Precision represents  cancelled prediction "
   ]
  },
  {
   "cell_type": "markdown",
   "metadata": {},
   "source": [
    "### KNN"
   ]
  },
  {
   "cell_type": "code",
   "execution_count": 15,
   "metadata": {},
   "outputs": [],
   "source": [
    "# neighbors = np.arange(3, 5)\n",
    "# train_accuracy = np.empty(len(neighbors))\n",
    "# test_accuracy = np.empty(len(neighbors))\n",
    "\n",
    "# for i, k in enumerate (neighbors):\n",
    "#     print (k)\n",
    "#     knn = KNeighborsClassifier(n_neighbors=k)\n",
    "#     knn.fit(X_train, y_train)\n",
    "#     train_accuracy[i]=knn.score(X_train, y_train)\n",
    "#     test_accuracy[i]=knn.score(X_test, y_test)\n",
    "\n",
    "# plt.title('KNN: Varying Number of Neighbors')\n",
    "# plt.plot(neighbors, test_accuracy, label='Testing Accuracy')\n",
    "# plt.plot(neighbors, train_accuracy, label='Training Accuracy')\n",
    "# plt.legend()\n",
    "# plt.xlabel('Number of Neighbors')\n",
    "# plt.ylabel('Accuracy')\n",
    "# plt.show()\n"
   ]
  },
  {
   "cell_type": "code",
   "execution_count": 16,
   "metadata": {},
   "outputs": [],
   "source": [
    "clf_knn = KNeighborsClassifier(n_neighbors=5)\n",
    "\n",
    "clf_knn.fit(X_train, y_train)\n",
    "y_pred_knn = clf_knn.predict(X_test)"
   ]
  },
  {
   "cell_type": "code",
   "execution_count": 17,
   "metadata": {},
   "outputs": [
    {
     "name": "stdout",
     "output_type": "stream",
     "text": [
      "[[20633  1252]\n",
      " [ 3414  9787]]\n",
      "              precision    recall  f1-score   support\n",
      "\n",
      "           0       0.86      0.94      0.90     21885\n",
      "           1       0.89      0.74      0.81     13201\n",
      "\n",
      "    accuracy                           0.87     35086\n",
      "   macro avg       0.87      0.84      0.85     35086\n",
      "weighted avg       0.87      0.87      0.86     35086\n",
      "\n"
     ]
    }
   ],
   "source": [
    "print (confusion_matrix(y_test, y_pred_knn))\n",
    "print (classification_report(y_test, y_pred_knn))"
   ]
  },
  {
   "cell_type": "markdown",
   "metadata": {},
   "source": [
    "### Linear SVM"
   ]
  },
  {
   "cell_type": "code",
   "execution_count": 18,
   "metadata": {},
   "outputs": [
    {
     "name": "stderr",
     "output_type": "stream",
     "text": [
      "Liblinear failed to converge, increase the number of iterations.\n"
     ]
    }
   ],
   "source": [
    "clf_lsvm = LinearSVC()\n",
    "\n",
    "clf_lsvm.fit(X_train, y_train)\n",
    "y_pred_svm = clf_lsvm.predict(X_test)\n"
   ]
  },
  {
   "cell_type": "code",
   "execution_count": 19,
   "metadata": {},
   "outputs": [
    {
     "name": "stdout",
     "output_type": "stream",
     "text": [
      "[[19811  2074]\n",
      " [ 3846  9355]]\n",
      "              precision    recall  f1-score   support\n",
      "\n",
      "           0       0.84      0.91      0.87     21885\n",
      "           1       0.82      0.71      0.76     13201\n",
      "\n",
      "    accuracy                           0.83     35086\n",
      "   macro avg       0.83      0.81      0.81     35086\n",
      "weighted avg       0.83      0.83      0.83     35086\n",
      "\n"
     ]
    }
   ],
   "source": [
    "print (confusion_matrix(y_test, y_pred_svm))\n",
    "print (classification_report(y_test, y_pred_svm))"
   ]
  },
  {
   "cell_type": "markdown",
   "metadata": {},
   "source": [
    "### Decision Tree"
   ]
  },
  {
   "cell_type": "code",
   "execution_count": 20,
   "metadata": {},
   "outputs": [],
   "source": [
    "# default params: gini, max_depth = None, min_samples_split = 2, min_samples_leaf = 1\n",
    "\n",
    "clf_dt = tree.DecisionTreeClassifier(random_state = 47)\n",
    "\n",
    "clf_dt.fit(X_train, y_train)\n",
    "y_pred_dt = clf_dt.predict(X_test)"
   ]
  },
  {
   "cell_type": "code",
   "execution_count": 21,
   "metadata": {},
   "outputs": [
    {
     "name": "stdout",
     "output_type": "stream",
     "text": [
      "[[21089   796]\n",
      " [  893 12308]]\n",
      "              precision    recall  f1-score   support\n",
      "\n",
      "           0       0.96      0.96      0.96     21885\n",
      "           1       0.94      0.93      0.94     13201\n",
      "\n",
      "    accuracy                           0.95     35086\n",
      "   macro avg       0.95      0.95      0.95     35086\n",
      "weighted avg       0.95      0.95      0.95     35086\n",
      "\n"
     ]
    }
   ],
   "source": [
    "print (confusion_matrix(y_test, y_pred_dt))\n",
    "print (classification_report(y_test, y_pred_dt))"
   ]
  },
  {
   "cell_type": "markdown",
   "metadata": {},
   "source": [
    "#### Feature Importance - Decision Tree"
   ]
  },
  {
   "cell_type": "code",
   "execution_count": 22,
   "metadata": {},
   "outputs": [
    {
     "name": "stdout",
     "output_type": "stream",
     "text": [
      "Feature Importance - Decision Tree\n",
      "name                               score\n",
      "deposit_type_Non Refund        0.231992\n",
      "reservation_status_date_month  0.081724\n",
      "arrival_date_week_number       0.0791298\n",
      "market_segment_Online TA       0.0623794\n",
      "lead_time                      0.0537492\n",
      "total_of_special_requests      0.0481218\n",
      "reservation_status_date_day    0.047269\n",
      "country_PRT                    0.0410268\n",
      "arrival_date_month             0.0355712\n",
      "agent                          0.0332353\n"
     ]
    }
   ],
   "source": [
    "headers = [\"name\", \"score\"]\n",
    "values_dt = sorted(zip(X_train.columns, clf_dt.feature_importances_), key=lambda x: x[1] * -1)\n",
    "print('Feature Importance - Decision Tree')\n",
    "print(tabulate(values_dt[:10], headers, tablefmt=\"plain\"))"
   ]
  },
  {
   "cell_type": "code",
   "execution_count": 23,
   "metadata": {},
   "outputs": [],
   "source": [
    "top50_feature_dt = [item[0] for item in values_dt[:50]]"
   ]
  },
  {
   "cell_type": "code",
   "execution_count": 24,
   "metadata": {},
   "outputs": [],
   "source": [
    "X_train_dt=X_train[top50_feature_dt]\n",
    "X_test_dt=X_test[top50_feature_dt]"
   ]
  },
  {
   "cell_type": "code",
   "execution_count": 25,
   "metadata": {},
   "outputs": [
    {
     "data": {
      "text/plain": [
       "DecisionTreeClassifier(random_state=47)"
      ]
     },
     "execution_count": 25,
     "metadata": {},
     "output_type": "execute_result"
    }
   ],
   "source": [
    "clf_dt.fit(X_train_dt, y_train)"
   ]
  },
  {
   "cell_type": "code",
   "execution_count": 26,
   "metadata": {},
   "outputs": [],
   "source": [
    "y_pred3 = clf_dt.predict(X_test_dt)"
   ]
  },
  {
   "cell_type": "code",
   "execution_count": 27,
   "metadata": {},
   "outputs": [
    {
     "name": "stdout",
     "output_type": "stream",
     "text": [
      "[[21061   824]\n",
      " [  845 12356]]\n",
      "              precision    recall  f1-score   support\n",
      "\n",
      "           0       0.96      0.96      0.96     21885\n",
      "           1       0.94      0.94      0.94     13201\n",
      "\n",
      "    accuracy                           0.95     35086\n",
      "   macro avg       0.95      0.95      0.95     35086\n",
      "weighted avg       0.95      0.95      0.95     35086\n",
      "\n"
     ]
    }
   ],
   "source": [
    "print (confusion_matrix(y_test, y_pred3))\n",
    "print (classification_report(y_test, y_pred3))"
   ]
  },
  {
   "cell_type": "code",
   "execution_count": 28,
   "metadata": {},
   "outputs": [],
   "source": [
    "top100_feature_dt = [item[0] for item in values_dt[:100]]\n",
    "X_train_dt=X_train[top100_feature_dt]\n",
    "X_test_dt=X_test[top100_feature_dt]"
   ]
  },
  {
   "cell_type": "code",
   "execution_count": 29,
   "metadata": {},
   "outputs": [],
   "source": [
    "clf_dt.fit(X_train_dt, y_train)\n",
    "y_pred3 = clf_dt.predict(X_test_dt)"
   ]
  },
  {
   "cell_type": "code",
   "execution_count": 30,
   "metadata": {},
   "outputs": [
    {
     "name": "stdout",
     "output_type": "stream",
     "text": [
      "[[21056   829]\n",
      " [  897 12304]]\n",
      "              precision    recall  f1-score   support\n",
      "\n",
      "           0       0.96      0.96      0.96     21885\n",
      "           1       0.94      0.93      0.93     13201\n",
      "\n",
      "    accuracy                           0.95     35086\n",
      "   macro avg       0.95      0.95      0.95     35086\n",
      "weighted avg       0.95      0.95      0.95     35086\n",
      "\n"
     ]
    }
   ],
   "source": [
    "print (confusion_matrix(y_test, y_pred3))\n",
    "print (classification_report(y_test, y_pred3))"
   ]
  },
  {
   "cell_type": "code",
   "execution_count": 31,
   "metadata": {},
   "outputs": [],
   "source": [
    "top25_feature_dt = [item[0] for item in values_dt[:25]]\n",
    "X_train_dt=X_train[top25_feature_dt]\n",
    "X_test_dt=X_test[top25_feature_dt]"
   ]
  },
  {
   "cell_type": "code",
   "execution_count": 32,
   "metadata": {},
   "outputs": [],
   "source": [
    "clf_dt.fit(X_train_dt, y_train)\n",
    "y_pred3 = clf_dt.predict(X_test_dt)"
   ]
  },
  {
   "cell_type": "code",
   "execution_count": 33,
   "metadata": {},
   "outputs": [
    {
     "name": "stdout",
     "output_type": "stream",
     "text": [
      "[[21047   838]\n",
      " [  884 12317]]\n",
      "              precision    recall  f1-score   support\n",
      "\n",
      "           0       0.96      0.96      0.96     21885\n",
      "           1       0.94      0.93      0.93     13201\n",
      "\n",
      "    accuracy                           0.95     35086\n",
      "   macro avg       0.95      0.95      0.95     35086\n",
      "weighted avg       0.95      0.95      0.95     35086\n",
      "\n"
     ]
    }
   ],
   "source": [
    "print (confusion_matrix(y_test, y_pred3))\n",
    "print (classification_report(y_test, y_pred3))"
   ]
  },
  {
   "cell_type": "code",
   "execution_count": null,
   "metadata": {},
   "outputs": [],
   "source": []
  },
  {
   "cell_type": "code",
   "execution_count": null,
   "metadata": {},
   "outputs": [],
   "source": []
  },
  {
   "cell_type": "code",
   "execution_count": null,
   "metadata": {},
   "outputs": [],
   "source": []
  },
  {
   "cell_type": "markdown",
   "metadata": {},
   "source": [
    "### Gradient Boosting"
   ]
  },
  {
   "cell_type": "code",
   "execution_count": 34,
   "metadata": {},
   "outputs": [],
   "source": [
    "clf_gb = GradientBoostingClassifier(random_state = 47)\n",
    "\n",
    "clf_gb.fit(X_train, y_train)\n",
    "y_pred_gb = clf_gb.predict(X_test)"
   ]
  },
  {
   "cell_type": "code",
   "execution_count": 35,
   "metadata": {},
   "outputs": [
    {
     "name": "stdout",
     "output_type": "stream",
     "text": [
      "[[20962   923]\n",
      " [ 2554 10647]]\n",
      "              precision    recall  f1-score   support\n",
      "\n",
      "           0       0.89      0.96      0.92     21885\n",
      "           1       0.92      0.81      0.86     13201\n",
      "\n",
      "    accuracy                           0.90     35086\n",
      "   macro avg       0.91      0.88      0.89     35086\n",
      "weighted avg       0.90      0.90      0.90     35086\n",
      "\n"
     ]
    }
   ],
   "source": [
    "print (confusion_matrix(y_test, y_pred_gb))\n",
    "print (classification_report(y_test, y_pred_gb))"
   ]
  },
  {
   "cell_type": "markdown",
   "metadata": {},
   "source": [
    "#### Feature Importance - Gradient Boosting"
   ]
  },
  {
   "cell_type": "code",
   "execution_count": 36,
   "metadata": {},
   "outputs": [
    {
     "name": "stdout",
     "output_type": "stream",
     "text": [
      "Feature Importance - Gradient Boosting\n",
      "name                               score\n",
      "deposit_type_Non Refund        0.340067\n",
      "country_PRT                    0.0925429\n",
      "lead_time                      0.0819307\n",
      "market_segment_Online TA       0.0736457\n",
      "total_of_special_requests      0.0588768\n",
      "reservation_status_date_month  0.0367448\n",
      "arrival_date_month             0.0328232\n",
      "arrival_date_week_number       0.0306488\n",
      "required_car_parking_spaces    0.0304181\n",
      "previous_cancellations         0.0277206\n"
     ]
    }
   ],
   "source": [
    "headers = [\"name\", \"score\"]\n",
    "values_gb = sorted(zip(X_train.columns, clf_gb.feature_importances_), key=lambda x: x[1] * -1)\n",
    "print('Feature Importance - Gradient Boosting')\n",
    "print(tabulate(values_gb[:10], headers, tablefmt=\"plain\"))"
   ]
  },
  {
   "cell_type": "markdown",
   "metadata": {},
   "source": [
    "### Random Forest"
   ]
  },
  {
   "cell_type": "code",
   "execution_count": 37,
   "metadata": {},
   "outputs": [],
   "source": [
    "rf = RandomForestClassifier(random_state=47)\n",
    "rf.fit(X_train, y_train)\n",
    "y_pred_rf = rf.predict(X_test)"
   ]
  },
  {
   "cell_type": "code",
   "execution_count": 38,
   "metadata": {},
   "outputs": [
    {
     "name": "stdout",
     "output_type": "stream",
     "text": [
      "[[21654   231]\n",
      " [ 1461 11740]]\n",
      "              precision    recall  f1-score   support\n",
      "\n",
      "           0       0.94      0.99      0.96     21885\n",
      "           1       0.98      0.89      0.93     13201\n",
      "\n",
      "    accuracy                           0.95     35086\n",
      "   macro avg       0.96      0.94      0.95     35086\n",
      "weighted avg       0.95      0.95      0.95     35086\n",
      "\n"
     ]
    }
   ],
   "source": [
    "print (confusion_matrix(y_test, y_pred_rf))\n",
    "print (classification_report(y_test, y_pred_rf))"
   ]
  },
  {
   "cell_type": "markdown",
   "metadata": {},
   "source": [
    "#### Feature Importance - RF"
   ]
  },
  {
   "cell_type": "code",
   "execution_count": 39,
   "metadata": {},
   "outputs": [
    {
     "name": "stdout",
     "output_type": "stream",
     "text": [
      "Feature Importance - Random Forest\n",
      "name                               score\n",
      "lead_time                      0.0692112\n",
      "deposit_type_Non Refund        0.062218\n",
      "country_PRT                    0.0586881\n",
      "reservation_status_date_month  0.0577651\n",
      "deposit_type_No Deposit        0.049818\n",
      "total_of_special_requests      0.0440357\n",
      "arrival_date_week_number       0.0432837\n",
      "adr                            0.0396664\n",
      "reservation_status_date_day    0.0368257\n",
      "arrival_date_month             0.0338692\n"
     ]
    }
   ],
   "source": [
    "headers = [\"name\", \"score\"]\n",
    "values_rf = sorted(zip(X_train.columns, rf.feature_importances_), key=lambda x: x[1] * -1)\n",
    "print('Feature Importance - Random Forest')\n",
    "print(tabulate(values_rf[:10], headers, tablefmt=\"plain\"))"
   ]
  },
  {
   "cell_type": "code",
   "execution_count": 40,
   "metadata": {},
   "outputs": [],
   "source": [
    "# top 50 features \n",
    "\n",
    "top50_feature_rf = [item[0] for item in values_rf[:50]]"
   ]
  },
  {
   "cell_type": "code",
   "execution_count": 41,
   "metadata": {},
   "outputs": [],
   "source": [
    "X_train_rf=X_train[top50_feature_rf]\n",
    "X_test_rf=X_test [top50_feature_rf]"
   ]
  },
  {
   "cell_type": "code",
   "execution_count": 42,
   "metadata": {},
   "outputs": [
    {
     "data": {
      "text/plain": [
       "RandomForestClassifier(random_state=47)"
      ]
     },
     "execution_count": 42,
     "metadata": {},
     "output_type": "execute_result"
    }
   ],
   "source": [
    "rf.fit(X_train_rf, y_train)"
   ]
  },
  {
   "cell_type": "code",
   "execution_count": 43,
   "metadata": {},
   "outputs": [],
   "source": [
    "y_pred2 = rf.predict(X_test_rf)"
   ]
  },
  {
   "cell_type": "code",
   "execution_count": 44,
   "metadata": {
    "scrolled": true
   },
   "outputs": [
    {
     "name": "stdout",
     "output_type": "stream",
     "text": [
      "[[21646   239]\n",
      " [ 1155 12046]]\n",
      "              precision    recall  f1-score   support\n",
      "\n",
      "           0       0.95      0.99      0.97     21885\n",
      "           1       0.98      0.91      0.95     13201\n",
      "\n",
      "    accuracy                           0.96     35086\n",
      "   macro avg       0.96      0.95      0.96     35086\n",
      "weighted avg       0.96      0.96      0.96     35086\n",
      "\n"
     ]
    }
   ],
   "source": [
    "print (confusion_matrix(y_test, y_pred2))\n",
    "print (classification_report(y_test, y_pred2))"
   ]
  },
  {
   "cell_type": "code",
   "execution_count": 45,
   "metadata": {},
   "outputs": [],
   "source": [
    "# top 100 features\n",
    "\n",
    "top100_feature_rf = [item[0] for item in values_rf[:100]]"
   ]
  },
  {
   "cell_type": "code",
   "execution_count": 46,
   "metadata": {},
   "outputs": [],
   "source": [
    "X_train_rf=X_train[top100_feature_rf]\n",
    "X_test_rf=X_test [top100_feature_rf]"
   ]
  },
  {
   "cell_type": "code",
   "execution_count": 47,
   "metadata": {},
   "outputs": [
    {
     "data": {
      "text/plain": [
       "RandomForestClassifier(random_state=47)"
      ]
     },
     "execution_count": 47,
     "metadata": {},
     "output_type": "execute_result"
    }
   ],
   "source": [
    "rf.fit(X_train_rf, y_train)"
   ]
  },
  {
   "cell_type": "code",
   "execution_count": 48,
   "metadata": {},
   "outputs": [],
   "source": [
    "y_pred2 = rf.predict(X_test_rf)"
   ]
  },
  {
   "cell_type": "code",
   "execution_count": 49,
   "metadata": {},
   "outputs": [
    {
     "name": "stdout",
     "output_type": "stream",
     "text": [
      "[[21629   256]\n",
      " [ 1319 11882]]\n",
      "              precision    recall  f1-score   support\n",
      "\n",
      "           0       0.94      0.99      0.96     21885\n",
      "           1       0.98      0.90      0.94     13201\n",
      "\n",
      "    accuracy                           0.96     35086\n",
      "   macro avg       0.96      0.94      0.95     35086\n",
      "weighted avg       0.96      0.96      0.95     35086\n",
      "\n"
     ]
    }
   ],
   "source": [
    "# top 100 features\n",
    "\n",
    "print (confusion_matrix(y_test, y_pred2))\n",
    "print (classification_report(y_test, y_pred2))"
   ]
  },
  {
   "cell_type": "code",
   "execution_count": 50,
   "metadata": {},
   "outputs": [],
   "source": [
    "# top 20\n",
    "\n",
    "top20_feature_rf = [item[0] for item in values_rf[:20]]"
   ]
  },
  {
   "cell_type": "code",
   "execution_count": 51,
   "metadata": {},
   "outputs": [],
   "source": [
    "X_train_rf=X_train[top20_feature_rf]\n",
    "X_test_rf=X_test [top20_feature_rf]"
   ]
  },
  {
   "cell_type": "code",
   "execution_count": 52,
   "metadata": {},
   "outputs": [],
   "source": [
    "rf.fit(X_train_rf, y_train)\n",
    "y_pred2 = rf.predict(X_test_rf)"
   ]
  },
  {
   "cell_type": "code",
   "execution_count": 53,
   "metadata": {},
   "outputs": [
    {
     "name": "stdout",
     "output_type": "stream",
     "text": [
      "[[21717   168]\n",
      " [  951 12250]]\n",
      "              precision    recall  f1-score   support\n",
      "\n",
      "           0       0.96      0.99      0.97     21885\n",
      "           1       0.99      0.93      0.96     13201\n",
      "\n",
      "    accuracy                           0.97     35086\n",
      "   macro avg       0.97      0.96      0.97     35086\n",
      "weighted avg       0.97      0.97      0.97     35086\n",
      "\n"
     ]
    }
   ],
   "source": [
    "# top 20 features\n",
    "\n",
    "print (confusion_matrix(y_test, y_pred2))\n",
    "print (classification_report(y_test, y_pred2))"
   ]
  },
  {
   "cell_type": "code",
   "execution_count": null,
   "metadata": {},
   "outputs": [],
   "source": []
  },
  {
   "cell_type": "markdown",
   "metadata": {},
   "source": [
    "### Refine the Decision Tree Model (Tuning Parameters)"
   ]
  },
  {
   "cell_type": "code",
   "execution_count": 54,
   "metadata": {},
   "outputs": [],
   "source": [
    "param_grid_dt ={\n",
    "    \"criterion\":['gini','entropy'],\n",
    "    \"max_depth\":range(70, 200),\n",
    "    \"min_samples_split\":range(1,10),\n",
    "    \"min_samples_leaf\":range(1,10)\n",
    "}"
   ]
  },
  {
   "cell_type": "code",
   "execution_count": 55,
   "metadata": {},
   "outputs": [
    {
     "name": "stdout",
     "output_type": "stream",
     "text": [
      "Fitting 5 folds for each of 200 candidates, totalling 1000 fits\n"
     ]
    },
    {
     "name": "stderr",
     "output_type": "stream",
     "text": [
      "[Parallel(n_jobs=-1)]: Using backend LokyBackend with 4 concurrent workers.\n",
      "[Parallel(n_jobs=-1)]: Done  42 tasks      | elapsed:   40.7s\n",
      "[Parallel(n_jobs=-1)]: Done 192 tasks      | elapsed:  3.4min\n",
      "[Parallel(n_jobs=-1)]: Done 442 tasks      | elapsed:  8.0min\n",
      "[Parallel(n_jobs=-1)]: Done 792 tasks      | elapsed: 14.0min\n",
      "[Parallel(n_jobs=-1)]: Done 1000 out of 1000 | elapsed: 17.4min finished\n"
     ]
    },
    {
     "data": {
      "text/plain": [
       "RandomizedSearchCV(cv=5, estimator=DecisionTreeClassifier(random_state=47),\n",
       "                   n_iter=200, n_jobs=-1,\n",
       "                   param_distributions={'criterion': ['gini', 'entropy'],\n",
       "                                        'max_depth': range(70, 200),\n",
       "                                        'min_samples_leaf': range(1, 10),\n",
       "                                        'min_samples_split': range(1, 10)},\n",
       "                   verbose=1)"
      ]
     },
     "execution_count": 55,
     "metadata": {},
     "output_type": "execute_result"
    }
   ],
   "source": [
    "# Randomized Search\n",
    "\n",
    "random_dt = RandomizedSearchCV(clf_dt, param_distributions = param_grid_dt, cv=5, verbose=1, n_jobs=-1, n_iter=200)\n",
    "\n",
    "random_dt.fit(X_train, y_train)"
   ]
  },
  {
   "cell_type": "code",
   "execution_count": 56,
   "metadata": {},
   "outputs": [
    {
     "data": {
      "text/plain": [
       "{'min_samples_split': 3,\n",
       " 'min_samples_leaf': 1,\n",
       " 'max_depth': 136,\n",
       " 'criterion': 'entropy'}"
      ]
     },
     "execution_count": 56,
     "metadata": {},
     "output_type": "execute_result"
    }
   ],
   "source": [
    "random_dt.best_params_"
   ]
  },
  {
   "cell_type": "code",
   "execution_count": 57,
   "metadata": {},
   "outputs": [],
   "source": [
    "### Grid Search"
   ]
  },
  {
   "cell_type": "code",
   "execution_count": 58,
   "metadata": {},
   "outputs": [],
   "source": [
    "param_grid ={\n",
    "    \"criterion\":['gini','entropy'],\n",
    "    \"max_depth\":range(140, 175),\n",
    "    \"min_samples_split\":range(3,8),\n",
    "    \"min_samples_leaf\":range(1,5)\n",
    "}"
   ]
  },
  {
   "cell_type": "code",
   "execution_count": 59,
   "metadata": {},
   "outputs": [
    {
     "name": "stdout",
     "output_type": "stream",
     "text": [
      "Fitting 5 folds for each of 1400 candidates, totalling 7000 fits\n"
     ]
    },
    {
     "name": "stderr",
     "output_type": "stream",
     "text": [
      "[Parallel(n_jobs=-1)]: Using backend LokyBackend with 4 concurrent workers.\n",
      "[Parallel(n_jobs=-1)]: Done  42 tasks      | elapsed:   58.9s\n",
      "[Parallel(n_jobs=-1)]: Done 192 tasks      | elapsed:  3.9min\n",
      "[Parallel(n_jobs=-1)]: Done 442 tasks      | elapsed:  9.0min\n",
      "[Parallel(n_jobs=-1)]: Done 792 tasks      | elapsed: 15.9min\n",
      "[Parallel(n_jobs=-1)]: Done 1242 tasks      | elapsed: 29.4min\n",
      "[Parallel(n_jobs=-1)]: Done 1792 tasks      | elapsed: 45.8min\n",
      "[Parallel(n_jobs=-1)]: Done 2442 tasks      | elapsed: 58.6min\n",
      "[Parallel(n_jobs=-1)]: Done 3192 tasks      | elapsed: 70.5min\n",
      "[Parallel(n_jobs=-1)]: Done 4042 tasks      | elapsed: 83.0min\n",
      "[Parallel(n_jobs=-1)]: Done 4992 tasks      | elapsed: 96.6min\n",
      "[Parallel(n_jobs=-1)]: Done 6042 tasks      | elapsed: 111.5min\n",
      "[Parallel(n_jobs=-1)]: Done 7000 out of 7000 | elapsed: 125.0min finished\n"
     ]
    },
    {
     "data": {
      "text/plain": [
       "GridSearchCV(cv=5, estimator=DecisionTreeClassifier(random_state=47), n_jobs=-1,\n",
       "             param_grid={'criterion': ['gini', 'entropy'],\n",
       "                         'max_depth': range(140, 175),\n",
       "                         'min_samples_leaf': range(1, 5),\n",
       "                         'min_samples_split': range(3, 8)},\n",
       "             verbose=1)"
      ]
     },
     "execution_count": 59,
     "metadata": {},
     "output_type": "execute_result"
    }
   ],
   "source": [
    "grid_dt = GridSearchCV(clf_dt, param_grid = param_grid, cv=5, verbose=1, n_jobs=-1)\n",
    "\n",
    "grid_dt.fit(X_train, y_train)"
   ]
  },
  {
   "cell_type": "code",
   "execution_count": 60,
   "metadata": {},
   "outputs": [
    {
     "data": {
      "text/plain": [
       "{'criterion': 'entropy',\n",
       " 'max_depth': 140,\n",
       " 'min_samples_leaf': 1,\n",
       " 'min_samples_split': 3}"
      ]
     },
     "execution_count": 60,
     "metadata": {},
     "output_type": "execute_result"
    }
   ],
   "source": [
    "grid_dt.best_params_"
   ]
  },
  {
   "cell_type": "markdown",
   "metadata": {},
   "source": [
    "#### implementing optimized parameters to Decision Tree Model\n"
   ]
  },
  {
   "cell_type": "code",
   "execution_count": 61,
   "metadata": {},
   "outputs": [],
   "source": [
    "clf_dt2 = tree.DecisionTreeClassifier(criterion='entropy',max_depth=140, \n",
    "                                     min_samples_leaf=1, min_samples_split=3, random_state=47)\n",
    "\n",
    "clf_dt2.fit(X_train, y_train)\n",
    "y_pred_dt2 = clf_dt2.predict(X_test)"
   ]
  },
  {
   "cell_type": "code",
   "execution_count": 62,
   "metadata": {},
   "outputs": [
    {
     "name": "stdout",
     "output_type": "stream",
     "text": [
      "[[21166   719]\n",
      " [  823 12378]]\n",
      "              precision    recall  f1-score   support\n",
      "\n",
      "           0       0.96      0.97      0.96     21885\n",
      "           1       0.95      0.94      0.94     13201\n",
      "\n",
      "    accuracy                           0.96     35086\n",
      "   macro avg       0.95      0.95      0.95     35086\n",
      "weighted avg       0.96      0.96      0.96     35086\n",
      "\n"
     ]
    }
   ],
   "source": [
    "print (confusion_matrix(y_test, y_pred_dt2))\n",
    "print (classification_report(y_test, y_pred_dt2))"
   ]
  },
  {
   "cell_type": "code",
   "execution_count": 63,
   "metadata": {},
   "outputs": [
    {
     "name": "stdout",
     "output_type": "stream",
     "text": [
      "Feature Importance - Decision Tree (hyperparameter tuning)\n",
      "name                               score\n",
      "deposit_type_Non Refund        0.199373\n",
      "arrival_date_week_number       0.0816116\n",
      "market_segment_Online TA       0.0703453\n",
      "reservation_status_date_month  0.0681787\n",
      "reservation_status_date_day    0.0592259\n",
      "lead_time                      0.0582863\n",
      "arrival_date_month             0.0481972\n",
      "agent                          0.0400916\n",
      "total_of_special_requests      0.0379441\n",
      "arrival_date_day               0.0363977\n"
     ]
    }
   ],
   "source": [
    "headers = [\"name\", \"score\"]\n",
    "values_dt = sorted(zip(X_train.columns, clf_dt2.feature_importances_), key=lambda x: x[1] * -1)\n",
    "print('Feature Importance - Decision Tree (hyperparameter tuning)')\n",
    "print(tabulate(values_dt[:10], headers, tablefmt=\"plain\"))"
   ]
  },
  {
   "cell_type": "code",
   "execution_count": null,
   "metadata": {},
   "outputs": [],
   "source": []
  },
  {
   "cell_type": "markdown",
   "metadata": {},
   "source": [
    "### Refine the Random Forest Model (Tuning Parameters)"
   ]
  },
  {
   "cell_type": "code",
   "execution_count": 64,
   "metadata": {},
   "outputs": [],
   "source": [
    "param_grid_rf = {\n",
    "    'max_depth':[100,200,None],\n",
    "    'max_features':['sqrt', 'log2'],\n",
    "    'n_estimators':[100,500,1000]\n",
    "}\n"
   ]
  },
  {
   "cell_type": "code",
   "execution_count": 65,
   "metadata": {},
   "outputs": [
    {
     "name": "stdout",
     "output_type": "stream",
     "text": [
      "Fitting 5 folds for each of 18 candidates, totalling 90 fits\n"
     ]
    },
    {
     "name": "stderr",
     "output_type": "stream",
     "text": [
      "[Parallel(n_jobs=-1)]: Using backend LokyBackend with 4 concurrent workers.\n",
      "[Parallel(n_jobs=-1)]: Done  42 tasks      | elapsed: 29.1min\n",
      "[Parallel(n_jobs=-1)]: Done  90 out of  90 | elapsed: 61.2min finished\n"
     ]
    },
    {
     "data": {
      "text/plain": [
       "GridSearchCV(cv=5, estimator=RandomForestClassifier(random_state=47), n_jobs=-1,\n",
       "             param_grid={'max_depth': [100, 200, None],\n",
       "                         'max_features': ['sqrt', 'log2'],\n",
       "                         'n_estimators': [100, 500, 1000]},\n",
       "             verbose=1)"
      ]
     },
     "execution_count": 65,
     "metadata": {},
     "output_type": "execute_result"
    }
   ],
   "source": [
    "grid_rf = GridSearchCV(rf, param_grid = param_grid_rf, cv=5, verbose= 1, n_jobs=-1)\n",
    "\n",
    "grid_rf.fit(X_train, y_train)"
   ]
  },
  {
   "cell_type": "code",
   "execution_count": 66,
   "metadata": {},
   "outputs": [
    {
     "data": {
      "text/plain": [
       "{'max_depth': 100, 'max_features': 'sqrt', 'n_estimators': 1000}"
      ]
     },
     "execution_count": 66,
     "metadata": {},
     "output_type": "execute_result"
    }
   ],
   "source": [
    "grid_rf.best_params_"
   ]
  },
  {
   "cell_type": "code",
   "execution_count": 67,
   "metadata": {},
   "outputs": [],
   "source": [
    "rf2 = RandomForestClassifier(max_depth=100,max_features='sqrt',n_estimators=1000,random_state=47)\n",
    "rf2.fit(X_train, y_train)\n",
    "y_pred_rf2 = rf2.predict(X_test)"
   ]
  },
  {
   "cell_type": "code",
   "execution_count": 68,
   "metadata": {},
   "outputs": [
    {
     "name": "stdout",
     "output_type": "stream",
     "text": [
      "[[21673   212]\n",
      " [ 1416 11785]]\n",
      "              precision    recall  f1-score   support\n",
      "\n",
      "           0       0.94      0.99      0.96     21885\n",
      "           1       0.98      0.89      0.94     13201\n",
      "\n",
      "    accuracy                           0.95     35086\n",
      "   macro avg       0.96      0.94      0.95     35086\n",
      "weighted avg       0.96      0.95      0.95     35086\n",
      "\n"
     ]
    }
   ],
   "source": [
    "print (confusion_matrix(y_test, y_pred_rf2))\n",
    "print (classification_report(y_test, y_pred_rf2))"
   ]
  },
  {
   "cell_type": "code",
   "execution_count": 69,
   "metadata": {},
   "outputs": [
    {
     "name": "stdout",
     "output_type": "stream",
     "text": [
      "Feature Importance - Random Forest (hyperparameter tuning)\n",
      "name                               score\n",
      "lead_time                      0.0682695\n",
      "deposit_type_Non Refund        0.0604938\n",
      "country_PRT                    0.0580207\n",
      "deposit_type_No Deposit        0.056613\n",
      "reservation_status_date_month  0.0554295\n",
      "arrival_date_week_number       0.0434318\n",
      "total_of_special_requests      0.0400311\n",
      "adr                            0.0392294\n",
      "reservation_status_date_day    0.0372967\n",
      "arrival_date_day               0.0326452\n"
     ]
    }
   ],
   "source": [
    "headers = [\"name\", \"score\"]\n",
    "values_dt = sorted(zip(X_train.columns, rf2.feature_importances_), key=lambda x: x[1] * -1)\n",
    "print('Feature Importance - Random Forest (hyperparameter tuning)')\n",
    "print(tabulate(values_dt[:10], headers, tablefmt=\"plain\"))"
   ]
  },
  {
   "cell_type": "code",
   "execution_count": 70,
   "metadata": {},
   "outputs": [],
   "source": [
    "# Class imbalance doesn't change the model much \n",
    "\n",
    "clf_dt3 = tree.DecisionTreeClassifier(criterion='entropy',max_depth=140, \n",
    "                                     min_samples_leaf=1, min_samples_split=3, random_state=47,  class_weight={0:0.4,1:0.6})\n",
    "\n",
    "clf_dt3.fit(X_train, y_train)\n",
    "y_pred_dt3 = clf_dt3.predict(X_test)\n",
    "\n"
   ]
  },
  {
   "cell_type": "code",
   "execution_count": 71,
   "metadata": {},
   "outputs": [
    {
     "name": "stdout",
     "output_type": "stream",
     "text": [
      "[[21126   759]\n",
      " [  791 12410]]\n",
      "              precision    recall  f1-score   support\n",
      "\n",
      "           0       0.96      0.97      0.96     21885\n",
      "           1       0.94      0.94      0.94     13201\n",
      "\n",
      "    accuracy                           0.96     35086\n",
      "   macro avg       0.95      0.95      0.95     35086\n",
      "weighted avg       0.96      0.96      0.96     35086\n",
      "\n"
     ]
    }
   ],
   "source": [
    "print (confusion_matrix(y_test, y_pred_dt3))\n",
    "print (classification_report(y_test, y_pred_dt3))"
   ]
  },
  {
   "cell_type": "code",
   "execution_count": 72,
   "metadata": {},
   "outputs": [],
   "source": [
    "# Class imbalance doesn't change the model\n",
    "\n",
    "rf3 = RandomForestClassifier(max_depth=100,max_features='sqrt',n_estimators=1000,random_state=47, class_weight={0:0.4,1:0.6})\n",
    "rf3.fit(X_train, y_train)\n",
    "y_pred_rf3 = rf3.predict(X_test)"
   ]
  },
  {
   "cell_type": "code",
   "execution_count": 73,
   "metadata": {},
   "outputs": [
    {
     "name": "stdout",
     "output_type": "stream",
     "text": [
      "[[21660   225]\n",
      " [ 1411 11790]]\n",
      "              precision    recall  f1-score   support\n",
      "\n",
      "           0       0.94      0.99      0.96     21885\n",
      "           1       0.98      0.89      0.94     13201\n",
      "\n",
      "    accuracy                           0.95     35086\n",
      "   macro avg       0.96      0.94      0.95     35086\n",
      "weighted avg       0.95      0.95      0.95     35086\n",
      "\n"
     ]
    }
   ],
   "source": [
    "print (confusion_matrix(y_test, y_pred_rf3))\n",
    "print (classification_report(y_test, y_pred_rf3))"
   ]
  },
  {
   "cell_type": "markdown",
   "metadata": {},
   "source": [
    "Decision tree with criterion='entropy', max_depth=140, min_samples_leaf=1, min_samples_split=3, random_state=47"
   ]
  },
  {
   "cell_type": "markdown",
   "metadata": {},
   "source": [
    "## Create SHAP Explainer & Compute SHAP values"
   ]
  },
  {
   "cell_type": "code",
   "execution_count": 74,
   "metadata": {},
   "outputs": [
    {
     "data": {
      "text/plain": [
       "((81865, 259), (35086, 259))"
      ]
     },
     "execution_count": 74,
     "metadata": {},
     "output_type": "execute_result"
    }
   ],
   "source": [
    "X_train.shape, X_test.shape"
   ]
  },
  {
   "cell_type": "code",
   "execution_count": null,
   "metadata": {},
   "outputs": [
    {
     "name": "stderr",
     "output_type": "stream",
     "text": [
      "  4%|=                   | 2942/70172 [02:46<63:13]       "
     ]
    }
   ],
   "source": [
    "explainer = shap.TreeExplainer(clf_dt2, shap.sample(X_train,10000))\n",
    "shap_values = explainer.shap_values(X_test)"
   ]
  },
  {
   "cell_type": "markdown",
   "metadata": {},
   "source": [
    "## Global Interpretation - Feature Importance Globally"
   ]
  },
  {
   "cell_type": "code",
   "execution_count": null,
   "metadata": {},
   "outputs": [],
   "source": [
    "shap.summary_plot(shap_values, X_test, plot_type='bar')"
   ]
  },
  {
   "cell_type": "code",
   "execution_count": null,
   "metadata": {},
   "outputs": [],
   "source": [
    "explainer.expected_value"
   ]
  },
  {
   "cell_type": "markdown",
   "metadata": {},
   "source": [
    "## Partial Dependence Plots"
   ]
  },
  {
   "cell_type": "code",
   "execution_count": null,
   "metadata": {},
   "outputs": [],
   "source": [
    "shap.dependence_plot(ind='country_PRT', interaction_index='country_PRT', \n",
    "                     shap_values = shap_values[1], \n",
    "                     features = X_test, \n",
    "                     display_features = X_test)"
   ]
  },
  {
   "cell_type": "code",
   "execution_count": null,
   "metadata": {},
   "outputs": [],
   "source": [
    "shap.dependence_plot(ind='deposit_type_Non Refund', interaction_index='deposit_type_Non Refund', \n",
    "                     shap_values = shap_values[1], \n",
    "                     features = X_test, \n",
    "                     display_features = X_test)"
   ]
  },
  {
   "cell_type": "code",
   "execution_count": null,
   "metadata": {},
   "outputs": [],
   "source": [
    "shap.dependence_plot(ind='reservation_status_date_month', interaction_index='reservation_status_date_month', \n",
    "                     shap_values = shap_values[1], \n",
    "                     features = X_test, \n",
    "                     display_features = X_test)"
   ]
  },
  {
   "cell_type": "code",
   "execution_count": null,
   "metadata": {},
   "outputs": [],
   "source": [
    "shap.dependence_plot(ind='market_segment_Online TA', interaction_index='market_segment_Online TA', \n",
    "                     shap_values = shap_values[1], \n",
    "                     features = X_test, \n",
    "                     display_features = X_test)"
   ]
  },
  {
   "cell_type": "code",
   "execution_count": null,
   "metadata": {},
   "outputs": [],
   "source": [
    "shap.dependence_plot(ind='lead_time', interaction_index='lead_time', \n",
    "                     shap_values = shap_values[1], \n",
    "                     features = X_test, \n",
    "                     display_features = X_test)"
   ]
  },
  {
   "cell_type": "code",
   "execution_count": null,
   "metadata": {},
   "outputs": [],
   "source": [
    "shap.dependence_plot(ind='agent', interaction_index='agent', \n",
    "                     shap_values = shap_values[1], \n",
    "                     features = X_test, \n",
    "                     display_features = X_test)"
   ]
  },
  {
   "cell_type": "code",
   "execution_count": null,
   "metadata": {},
   "outputs": [],
   "source": [
    "shap.dependence_plot(ind='arrival_date_year', interaction_index='arrival_date_year', \n",
    "                     shap_values = shap_values[1], \n",
    "                     features = X_test, \n",
    "                     display_features = X_test)"
   ]
  },
  {
   "cell_type": "code",
   "execution_count": null,
   "metadata": {},
   "outputs": [],
   "source": [
    "shap.dependence_plot(ind='arrival_date_week_number', interaction_index='arrival_date_week_number', \n",
    "                     shap_values = shap_values[1], \n",
    "                     features = X_test, \n",
    "                     display_features = X_test)"
   ]
  },
  {
   "cell_type": "code",
   "execution_count": null,
   "metadata": {},
   "outputs": [],
   "source": [
    "shap.dependence_plot(ind='reservation_status_date_year', interaction_index='reservation_status_date_year', \n",
    "                     shap_values = shap_values[1], \n",
    "                     features = X_test, \n",
    "                     display_features = X_test)"
   ]
  },
  {
   "cell_type": "code",
   "execution_count": null,
   "metadata": {},
   "outputs": [],
   "source": [
    "shap.dependence_plot(ind='reservation_status_date_day', interaction_index='reservation_status_date_day', \n",
    "                     shap_values = shap_values[1], \n",
    "                     features = X_test, \n",
    "                     display_features = X_test)"
   ]
  },
  {
   "cell_type": "code",
   "execution_count": null,
   "metadata": {},
   "outputs": [],
   "source": [
    "shap.dependence_plot(ind='required_car_parking_spaces', interaction_index='required_car_parking_spaces', \n",
    "                     shap_values = shap_values[1], \n",
    "                     features = X_test, \n",
    "                     display_features = X_test)"
   ]
  },
  {
   "cell_type": "code",
   "execution_count": null,
   "metadata": {},
   "outputs": [],
   "source": [
    "shap.dependence_plot(ind='arrival_date_month', interaction_index='arrival_date_month', \n",
    "                     shap_values = shap_values[1], \n",
    "                     features = X_test, \n",
    "                     display_features = X_test)"
   ]
  },
  {
   "cell_type": "code",
   "execution_count": null,
   "metadata": {},
   "outputs": [],
   "source": [
    "shap.dependence_plot(ind='total_of_special_requests', interaction_index='total_of_special_requests', \n",
    "                     shap_values = shap_values[1], \n",
    "                     features = X_test, \n",
    "                     display_features = X_test)"
   ]
  },
  {
   "cell_type": "code",
   "execution_count": null,
   "metadata": {},
   "outputs": [],
   "source": [
    "shap.dependence_plot(ind='customer_type_Transient', interaction_index='customer_type_Transient', \n",
    "                     shap_values = shap_values[1], \n",
    "                     features = X_test, \n",
    "                     display_features = X_test)"
   ]
  },
  {
   "cell_type": "code",
   "execution_count": null,
   "metadata": {},
   "outputs": [],
   "source": [
    "shap.dependence_plot(ind='previous_cancellations', interaction_index='previous_cancellations', \n",
    "                     shap_values = shap_values[1], \n",
    "                     features = X_test, \n",
    "                     display_features = X_test)"
   ]
  },
  {
   "cell_type": "code",
   "execution_count": null,
   "metadata": {},
   "outputs": [],
   "source": [
    "shap.dependence_plot(ind='stays_in_weekend_nights', interaction_index='stays_in_weekend_nights', \n",
    "                     shap_values = shap_values[1], \n",
    "                     features = X_test, \n",
    "                     display_features = X_test)"
   ]
  },
  {
   "cell_type": "code",
   "execution_count": null,
   "metadata": {},
   "outputs": [],
   "source": [
    "shap.dependence_plot(ind='reservation_status_day_of_week_Sunday', interaction_index='reservation_status_day_of_week_Sunday', \n",
    "                     shap_values = shap_values[1], \n",
    "                     features = X_test, \n",
    "                     display_features = X_test)"
   ]
  },
  {
   "cell_type": "code",
   "execution_count": null,
   "metadata": {},
   "outputs": [],
   "source": [
    "shap.dependence_plot(ind='arrival_date_day', interaction_index='arrival_date_day', \n",
    "                     shap_values = shap_values[1], \n",
    "                     features = X_test, \n",
    "                     display_features = X_test)"
   ]
  },
  {
   "cell_type": "code",
   "execution_count": null,
   "metadata": {},
   "outputs": [],
   "source": [
    "shap.dependence_plot(ind='customer_type_Transient-Party', interaction_index='customer_type_Transient-Party', \n",
    "                     shap_values = shap_values[1], \n",
    "                     features = X_test, \n",
    "                     display_features = X_test)"
   ]
  },
  {
   "cell_type": "code",
   "execution_count": null,
   "metadata": {},
   "outputs": [],
   "source": [
    "shap.dependence_plot(ind='adr', interaction_index='adr', \n",
    "                     shap_values = shap_values[1], \n",
    "                     features = X_test, \n",
    "                     display_features = X_test)"
   ]
  },
  {
   "cell_type": "code",
   "execution_count": null,
   "metadata": {},
   "outputs": [],
   "source": []
  },
  {
   "cell_type": "code",
   "execution_count": null,
   "metadata": {},
   "outputs": [],
   "source": []
  },
  {
   "cell_type": "code",
   "execution_count": null,
   "metadata": {},
   "outputs": [],
   "source": []
  },
  {
   "cell_type": "code",
   "execution_count": null,
   "metadata": {},
   "outputs": [],
   "source": []
  }
 ],
 "metadata": {
  "kernelspec": {
   "display_name": "Python 3",
   "language": "python",
   "name": "python3"
  },
  "language_info": {
   "codemirror_mode": {
    "name": "ipython",
    "version": 3
   },
   "file_extension": ".py",
   "mimetype": "text/x-python",
   "name": "python",
   "nbconvert_exporter": "python",
   "pygments_lexer": "ipython3",
   "version": "3.8.5"
  }
 },
 "nbformat": 4,
 "nbformat_minor": 4
}
