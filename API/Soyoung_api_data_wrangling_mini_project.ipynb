{
 "cells": [
  {
   "cell_type": "markdown",
   "metadata": {},
   "source": [
    "This exercise will require you to pull some data from the Qunadl API. Qaundl is currently the most widely used aggregator of financial market data."
   ]
  },
  {
   "cell_type": "markdown",
   "metadata": {},
   "source": [
    "As a first step, you will need to register a free account on the http://www.quandl.com website."
   ]
  },
  {
   "cell_type": "markdown",
   "metadata": {},
   "source": [
    "After you register, you will be provided with a unique API key, that you should store:"
   ]
  },
  {
   "cell_type": "code",
   "execution_count": 1,
   "metadata": {},
   "outputs": [],
   "source": [
    "# Store the API key as a string - according to PEP8, constants are always named in all upper case\n",
    "API_KEY = ''"
   ]
  },
  {
   "cell_type": "markdown",
   "metadata": {},
   "source": [
    "Qaundl has a large number of data sources, but, unfortunately, most of them require a Premium subscription. Still, there are also a good number of free datasets."
   ]
  },
  {
   "cell_type": "markdown",
   "metadata": {},
   "source": [
    "For this mini project, we will focus on equities data from the Frankfurt Stock Exhange (FSE), which is available for free. We'll try and analyze the stock prices of a company called Carl Zeiss Meditec, which manufactures tools for eye examinations, as well as medical lasers for laser eye surgery: https://www.zeiss.com/meditec/int/home.html. The company is listed under the stock ticker AFX_X."
   ]
  },
  {
   "cell_type": "markdown",
   "metadata": {},
   "source": [
    "You can find the detailed Quandl API instructions here: https://docs.quandl.com/docs/time-series"
   ]
  },
  {
   "cell_type": "markdown",
   "metadata": {},
   "source": [
    "While there is a dedicated Python package for connecting to the Quandl API, we would prefer that you use the *requests* package, which can be easily downloaded using *pip* or *conda*. You can find the documentation for the package here: http://docs.python-requests.org/en/master/ "
   ]
  },
  {
   "cell_type": "markdown",
   "metadata": {},
   "source": [
    "Finally, apart from the *requests* package, you are encouraged to not use any third party Python packages, such as *pandas*, and instead focus on what's available in the Python Standard Library (the *collections* module might come in handy: https://pymotw.com/3/collections/ ).\n",
    "Also, since you won't have access to DataFrames, you are encouraged to us Python's native data structures - preferably dictionaries, though some questions can also be answered using lists.\n",
    "You can read more on these data structures here: https://docs.python.org/3/tutorial/datastructures.html"
   ]
  },
  {
   "cell_type": "markdown",
   "metadata": {},
   "source": [
    "Keep in mind that the JSON responses you will be getting from the API map almost one-to-one to Python's dictionaries. Unfortunately, they can be very nested, so make sure you read up on indexing dictionaries in the documentation provided above."
   ]
  },
  {
   "cell_type": "code",
   "execution_count": 2,
   "metadata": {},
   "outputs": [],
   "source": [
    "# First, import the relevant modules\n",
    "import requests \n"
   ]
  },
  {
   "cell_type": "code",
   "execution_count": 3,
   "metadata": {},
   "outputs": [],
   "source": [
    "# Now, call the Quandl API and pull out a small sample of the data (only one day) to get a glimpse\n",
    "# into the JSON structure that will be returned\n",
    "\n",
    "# Question 1\n",
    "# Collect data from the Franfurt Stock Exchange, for the ticker AFX_X, \n",
    "# for the whole year 2017 (keep in mind that the date format is YYYY-MM-DD).\n",
    "\n",
    "url = 'https://www.quandl.com/api/v3/datasets/FSE/AFX_X.json?start_date=2017-01-01&end_date=2017-12-31&api_key='\n",
    "\n",
    "# Package the request, send the request and catch the response: r\n",
    "r = requests.get(url)\n",
    "\n",
    "# Question 2\n",
    "#Convert the returned JSON object into a Python dictionary.\n",
    "\n",
    "# Print the text of the response\n",
    "data = r.json()\n",
    "\n"
   ]
  },
  {
   "cell_type": "code",
   "execution_count": 5,
   "metadata": {},
   "outputs": [
    {
     "data": {
      "text/plain": [
       "['Date',\n",
       " 'Open',\n",
       " 'High',\n",
       " 'Low',\n",
       " 'Close',\n",
       " 'Change',\n",
       " 'Traded Volume',\n",
       " 'Turnover',\n",
       " 'Last Price of the Day',\n",
       " 'Daily Traded Units',\n",
       " 'Daily Turnover']"
      ]
     },
     "execution_count": 5,
     "metadata": {},
     "output_type": "execute_result"
    }
   ],
   "source": [
    "data['dataset']['column_names']"
   ]
  },
  {
   "cell_type": "code",
   "execution_count": 7,
   "metadata": {},
   "outputs": [
    {
     "data": {
      "text/plain": [
       "['2017-12-28',\n",
       " 51.65,\n",
       " 51.82,\n",
       " 51.43,\n",
       " 51.6,\n",
       " None,\n",
       " 40660.0,\n",
       " 2099024.0,\n",
       " None,\n",
       " None,\n",
       " None]"
      ]
     },
     "execution_count": 7,
     "metadata": {},
     "output_type": "execute_result"
    }
   ],
   "source": [
    "data['dataset']['data'][:][1]"
   ]
  },
  {
   "cell_type": "code",
   "execution_count": 8,
   "metadata": {},
   "outputs": [
    {
     "name": "stdout",
     "output_type": "stream",
     "text": [
      "Question 3\n",
      "The highest opening price for the stock in this period is 53.11.\n",
      "The lowest opening price for the stock in this period is 34.0.\n"
     ]
    }
   ],
   "source": [
    "# Question 3\n",
    "# Calculate what the highest and lowest opening prices were for the stock in this period.\n",
    "\n",
    "open_price = []\n",
    "\n",
    "#for stock in data['dataset']['data']:\n",
    "#    if stock[index_open]:\n",
    "#        open_price1.append(stock[index_open])\n",
    "\n",
    "    \n",
    "for dataset in data['dataset']['data']:\n",
    "    x = dataset[1]\n",
    "    open_price.append(x)\n",
    "    \n",
    "open_price=list(filter(None, open_price))\n",
    "\n",
    "high_p = max(open_price)\n",
    "low_p = min(open_price)\n",
    "\n",
    "print ('Question 3')\n",
    "print ('The highest opening price for the stock in this period is {}.'.format(high_p))\n",
    "print ('The lowest opening price for the stock in this period is {}.'.format(low_p))\n",
    "    "
   ]
  },
  {
   "cell_type": "code",
   "execution_count": 9,
   "metadata": {},
   "outputs": [
    {
     "name": "stdout",
     "output_type": "stream",
     "text": [
      "Question 4\n",
      "The largest change in any one day of 2017 is 2.81.\n"
     ]
    }
   ],
   "source": [
    "# Question 4\n",
    "# What was the largest change in any one day (based on High and Low price)?\n",
    "\n",
    "difference = [] \n",
    "\n",
    "for dataset in data['dataset']['data']:\n",
    "    if dataset[2]:\n",
    "        a = dataset[2]\n",
    "        b = dataset[3]\n",
    "        diff = a-b\n",
    "        difference.append(diff)\n",
    "        \n",
    "high_d = max (difference)\n",
    "\n",
    "print ('Question 4')\n",
    "print ('The largest change in any one day of 2017 is {:.2f}.'.format(high_d))\n"
   ]
  },
  {
   "cell_type": "code",
   "execution_count": 10,
   "metadata": {},
   "outputs": [
    {
     "name": "stdout",
     "output_type": "stream",
     "text": [
      "Question 5\n",
      "The largest change in any two days of 2017 is 2.56.\n"
     ]
    }
   ],
   "source": [
    "# Question 5\n",
    "# What was the largest change between any two days (based on Closing Price)?\n",
    "\n",
    "close_price = []\n",
    "\n",
    "for dataset in data['dataset']['data']:\n",
    "    if dataset [4]:\n",
    "        x = dataset[4]\n",
    "        close_price.append(x)\n",
    "\n",
    "#print (close_price)\n",
    "\n",
    "two_diff =[]\n",
    "\n",
    "for i in range(len(close_price)-1):\n",
    "    two_diff.append(abs(close_price[i+1]-close_price[i]))\n",
    "\n",
    "#print (two_diff)\n",
    "\n",
    "largest_change = max(two_diff)\n",
    "\n",
    "print ('Question 5')\n",
    "print ('The largest change in any two days of 2017 is {:.2f}.'.format(largest_change))"
   ]
  },
  {
   "cell_type": "code",
   "execution_count": 11,
   "metadata": {},
   "outputs": [
    {
     "name": "stdout",
     "output_type": "stream",
     "text": [
      "Question 6\n",
      "The avergae daily trading volume of 2017 is 89124.34.\n"
     ]
    }
   ],
   "source": [
    "# Question 6\n",
    "# What was the average daily trading volume during this year?\n",
    "\n",
    "index_vol = data['dataset']['column_names'].index('Traded Volume')\n",
    "\n",
    "trading_vol = []\n",
    "\n",
    "for dataset in data['dataset']['data']:\n",
    "    trading_vol.append(dataset[index_vol])\n",
    "\n",
    "sum_vol = sum(trading_vol)\n",
    "avg_tradvol = sum (trading_vol)/len(trading_vol)\n",
    "\n",
    "print ('Question 6')\n",
    "print ('The avergae daily trading volume of 2017 is {:.2f}.'.format(avg_tradvol))"
   ]
  },
  {
   "cell_type": "code",
   "execution_count": 12,
   "metadata": {},
   "outputs": [
    {
     "name": "stdout",
     "output_type": "stream",
     "text": [
      "Question 7 (Optional)\n",
      "The median trading volume of 2017 is 76286.00.\n"
     ]
    }
   ],
   "source": [
    "# Question 7\n",
    "# (Optional) What was the median trading volume during this year. \n",
    "# (Note: you may need to implement your own function for calculating the median.)\n",
    "\n",
    "\n",
    "trading_vol_m = sorted(trading_vol)\n",
    "tv_count = len(trading_vol_m)\n",
    "\n",
    "if tv_count%2 == 1:\n",
    "    median_index = int((tv_count-1)/2)\n",
    "    tv_median = trading_vol_m[median_index]\n",
    "    print('Question 7 (Optional)')\n",
    "    print('The median trading volume of 2017 is {:.2f}.'.format(tv_median))\n",
    "elif tv_count%2 == 0:\n",
    "    median_index1 = int((tv_count)/2)\n",
    "    median_index2 = median_index_1+1\n",
    "    tv_median = (trading_vol_m[median_index1]+trading_vol_m[median_index2])/2\n",
    "    print('Question 7 (Optional)')\n",
    "    print('The median trading volume of 2017 is {:.2f}.'.format(tv_median))\n",
    "else:\n",
    "    print('Question 7 (Optional)')\n",
    "    print('There are no data/too small data to calculate median.')\n",
    "\n",
    "\n",
    "\n"
   ]
  },
  {
   "cell_type": "code",
   "execution_count": 13,
   "metadata": {},
   "outputs": [],
   "source": [
    "# Inspect the JSON structure of the object you created, and take note of how nested it is,\n",
    "# as well as the overall structure\n"
   ]
  },
  {
   "cell_type": "markdown",
   "metadata": {},
   "source": [
    "These are your tasks for this mini project:\n",
    "\n",
    "1. Collect data from the Franfurt Stock Exchange, for the ticker AFX_X, for the whole year 2017 (keep in mind that the date format is YYYY-MM-DD).\n",
    "2. Convert the returned JSON object into a Python dictionary.\n",
    "3. Calculate what the highest and lowest opening prices were for the stock in this period.\n",
    "4. What was the largest change in any one day (based on High and Low price)?\n",
    "5. What was the largest change between any two days (based on Closing Price)?\n",
    "6. What was the average daily trading volume during this year?\n",
    "7. (Optional) What was the median trading volume during this year. (Note: you may need to implement your own function for calculating the median.)"
   ]
  },
  {
   "cell_type": "code",
   "execution_count": null,
   "metadata": {},
   "outputs": [],
   "source": []
  }
 ],
 "metadata": {
  "kernelspec": {
   "display_name": "Python 3",
   "language": "python",
   "name": "python3"
  },
  "language_info": {
   "codemirror_mode": {
    "name": "ipython",
    "version": 3
   },
   "file_extension": ".py",
   "mimetype": "text/x-python",
   "name": "python",
   "nbconvert_exporter": "python",
   "pygments_lexer": "ipython3",
   "version": "3.8.3"
  }
 },
 "nbformat": 4,
 "nbformat_minor": 2
}
