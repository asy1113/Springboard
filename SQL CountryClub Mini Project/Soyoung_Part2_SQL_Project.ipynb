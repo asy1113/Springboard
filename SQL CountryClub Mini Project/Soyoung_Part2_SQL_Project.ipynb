{
 "cells": [
  {
   "cell_type": "code",
   "execution_count": 1,
   "metadata": {},
   "outputs": [],
   "source": [
    "import sqlite3\n",
    "\n",
    "database = \"sqlite_db_pythonsqlite.db\"\n",
    "\n",
    "conn = sqlite3.connect(database)"
   ]
  },
  {
   "cell_type": "code",
   "execution_count": 3,
   "metadata": {},
   "outputs": [
    {
     "data": {
      "text/plain": [
       "[('Pool Table', 270), ('Snooker Table', 240), ('Table Tennis', 180)]"
      ]
     },
     "execution_count": 3,
     "metadata": {},
     "output_type": "execute_result"
    }
   ],
   "source": [
    "# Question 10\n",
    "\n",
    "query1 = \"\"\"\n",
    "    \n",
    "SELECT f.name,\n",
    "SUM(CASE WHEN memid = 0 THEN guestcost * slots ELSE membercost * slots END) AS revenue\n",
    "FROM Bookings  as b\n",
    "INNER JOIN Facilities as f\n",
    "ON b.facid = f.facid\n",
    "GROUP BY f.name\n",
    "HAVING revenue  < 1000;\n",
    "\n",
    "    \"\"\"\n",
    "\n",
    "cur = conn.cursor()\n",
    "\n",
    "cur.execute(query1)\n",
    "\n",
    "rows = cur.fetchall()\n",
    "\n",
    "rows"
   ]
  },
  {
   "cell_type": "code",
   "execution_count": 29,
   "metadata": {},
   "outputs": [
    {
     "data": {
      "text/plain": [
       "[('Sarwin', 'Ramnaresh', '15', 'Bader', 'Florence'),\n",
       " ('Coplin', 'Joan', '16', 'Baker', 'Timothy'),\n",
       " ('Genting', 'Matthew', '5', 'Butters', 'Gerald'),\n",
       " ('Baker', 'Timothy', '13', 'Farrell', 'Jemima'),\n",
       " ('Pinker', 'David', '13', 'Farrell', 'Jemima'),\n",
       " ('Rumney', 'Henrietta', '20', 'Genting', 'Matthew'),\n",
       " ('Jones', 'Douglas', '11', 'Jones', 'David'),\n",
       " ('Dare', 'Nancy', '4', 'Joplette', 'Janice'),\n",
       " ('Jones', 'David', '4', 'Joplette', 'Janice'),\n",
       " ('Hunt', 'John', '30', 'Purview', 'Millicent'),\n",
       " ('Boothe', 'Tim', '3', 'Rownam', 'Tim'),\n",
       " ('Joplette', 'Janice', '1', 'Smith', 'Darren'),\n",
       " ('Butters', 'Gerald', '1', 'Smith', 'Darren'),\n",
       " ('Owen', 'Charles', '1', 'Smith', 'Darren'),\n",
       " ('Smith', 'Jack', '1', 'Smith', 'Darren'),\n",
       " ('Mackenzie', 'Anna', '1', 'Smith', 'Darren'),\n",
       " ('Worthington-Smyth', 'Henry', '2', 'Smith', 'Tracy'),\n",
       " ('Purview', 'Millicent', '2', 'Smith', 'Tracy'),\n",
       " ('Crumpet', 'Erica', '2', 'Smith', 'Tracy'),\n",
       " ('Baker', 'Anne', '9', 'Stibbons', 'Ponder'),\n",
       " ('Bader', 'Florence', '9', 'Stibbons', 'Ponder'),\n",
       " ('Stibbons', 'Ponder', '6', 'Tracy', 'Burton')]"
      ]
     },
     "execution_count": 29,
     "metadata": {},
     "output_type": "execute_result"
    }
   ],
   "source": [
    "# Question 11\n",
    "\n",
    "query1 = \"\"\"\n",
    "    \n",
    "SELECT m.surname as member_lastname, m.firstname as member_firstname, m.recommendedby AS recomender_id, r.surname AS recomender_surname, r.firstname AS recomender_firstname\n",
    "FROM Members AS m\n",
    "INNER JOIN Members AS r ON m.recommendedby = r.memid\n",
    "WHERE m.recommendedby != 0\n",
    "ORDER BY r.surname, r.firstname;\n",
    "\n",
    "    \"\"\"\n",
    "\n",
    "cur = conn.cursor()\n",
    "\n",
    "cur.execute(query1)\n",
    "\n",
    "rows = cur.fetchall()\n",
    "\n",
    "rows"
   ]
  },
  {
   "cell_type": "code",
   "execution_count": 44,
   "metadata": {},
   "outputs": [
    {
     "data": {
      "text/plain": [
       "[(2, 'Tennis Court 1', 308),\n",
       " (3, 'Tennis Court 2', 276),\n",
       " (1, 'Badminton Court', 344),\n",
       " (1, 'Table Tennis', 385),\n",
       " (1, 'Massage Room 1', 421),\n",
       " (4, 'Massage Room 2', 27),\n",
       " (1, 'Squash Court', 195),\n",
       " (1, 'Snooker Table', 421),\n",
       " (1, 'Pool Table', 783)]"
      ]
     },
     "execution_count": 44,
     "metadata": {},
     "output_type": "execute_result"
    }
   ],
   "source": [
    "# Question 12\n",
    "\n",
    "query1 = \"\"\"\n",
    "    \n",
    "SELECT m.memid, f.name, count(m.memid) as num_usage_by_member\n",
    "FROM Facilities as f \n",
    "INNER JOIN Bookings as b\n",
    "ON f.facid = b.facid\n",
    "INNER JOIN Members as m\n",
    "ON m.memid = b.memid\n",
    "WHERE m.memid != 0 \n",
    "GROUP BY f.facid\n",
    "ORDER BY f.facid\n",
    "\n",
    "    \"\"\"\n",
    "\n",
    "cur = conn.cursor()\n",
    "\n",
    "cur.execute(query1)\n",
    "\n",
    "rows = cur.fetchall()\n",
    "\n",
    "rows"
   ]
  },
  {
   "cell_type": "code",
   "execution_count": 46,
   "metadata": {},
   "outputs": [
    {
     "data": {
      "text/plain": [
       "[('Table Tennis', '07', 480),\n",
       " ('Tennis Court 1', '08', 1168),\n",
       " ('Tennis Court 1', '09', 1512)]"
      ]
     },
     "execution_count": 46,
     "metadata": {},
     "output_type": "execute_result"
    }
   ],
   "source": [
    "# Question 13\n",
    "\n",
    "query1 = \"\"\"\n",
    "\n",
    "SELECT f.name as facility,\n",
    "mb.month as month,\n",
    "COUNT(mb.memid) as member_usage\n",
    "FROM (\n",
    "SELECT strftime('%m', starttime) as month, memid, facid\n",
    "FROM Bookings\n",
    "WHERE memid != 0) as mb\n",
    "INNER JOIN Facilities as f ON f.facid = mb.facid\n",
    "GROUP by mb.month;\n",
    "\n",
    "    \"\"\"\n",
    "\n",
    "cur = conn.cursor()\n",
    "\n",
    "cur.execute(query1)\n",
    "\n",
    "rows = cur.fetchall()\n",
    "\n",
    "rows"
   ]
  },
  {
   "cell_type": "code",
   "execution_count": null,
   "metadata": {},
   "outputs": [],
   "source": []
  },
  {
   "cell_type": "code",
   "execution_count": null,
   "metadata": {},
   "outputs": [],
   "source": []
  }
 ],
 "metadata": {
  "kernelspec": {
   "display_name": "Python 3",
   "language": "python",
   "name": "python3"
  },
  "language_info": {
   "codemirror_mode": {
    "name": "ipython",
    "version": 3
   },
   "file_extension": ".py",
   "mimetype": "text/x-python",
   "name": "python",
   "nbconvert_exporter": "python",
   "pygments_lexer": "ipython3",
   "version": "3.8.3"
  }
 },
 "nbformat": 4,
 "nbformat_minor": 4
}
