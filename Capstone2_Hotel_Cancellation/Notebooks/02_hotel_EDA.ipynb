{
 "cells": [
  {
   "cell_type": "markdown",
   "metadata": {},
   "source": [
    "# Hotel Cancellation Prediction"
   ]
  },
  {
   "cell_type": "markdown",
   "metadata": {},
   "source": [
    "## Exploratory Data Analysis:\n",
    "\n",
    "\n",
    "Goal: Explore the data relationships of all your features and understand how the\n",
    "features compare to the response variable.\n",
    "\n",
    "* Build data profiles and tables \n",
    "    * Inference statistics\n",
    "* Explore data relationships\n",
    "    * Data visulization\n",
    "* Feature Selection and Engineering"
   ]
  },
  {
   "cell_type": "code",
   "execution_count": 1,
   "metadata": {},
   "outputs": [],
   "source": [
    "# import necessary packages and load dataset\n",
    "\n",
    "import pandas as pd\n",
    "import numpy as np\n",
    "import seaborn as sns\n",
    "import matplotlib.pyplot as plt\n",
    "from scipy.stats import ttest_ind"
   ]
  },
  {
   "cell_type": "code",
   "execution_count": 2,
   "metadata": {},
   "outputs": [],
   "source": [
    "df = pd.read_csv('../data/hotel_data_cleaned.csv')"
   ]
  },
  {
   "cell_type": "code",
   "execution_count": 3,
   "metadata": {},
   "outputs": [
    {
     "data": {
      "text/html": [
       "<div>\n",
       "<style scoped>\n",
       "    .dataframe tbody tr th:only-of-type {\n",
       "        vertical-align: middle;\n",
       "    }\n",
       "\n",
       "    .dataframe tbody tr th {\n",
       "        vertical-align: top;\n",
       "    }\n",
       "\n",
       "    .dataframe thead th {\n",
       "        text-align: right;\n",
       "    }\n",
       "</style>\n",
       "<table border=\"1\" class=\"dataframe\">\n",
       "  <thead>\n",
       "    <tr style=\"text-align: right;\">\n",
       "      <th></th>\n",
       "      <th>Unnamed: 0</th>\n",
       "      <th>hotel</th>\n",
       "      <th>is_canceled</th>\n",
       "      <th>lead_time</th>\n",
       "      <th>arrival_date_week_number</th>\n",
       "      <th>stays_in_weekend_nights</th>\n",
       "      <th>stays_in_week_nights</th>\n",
       "      <th>adults</th>\n",
       "      <th>children</th>\n",
       "      <th>babies</th>\n",
       "      <th>...</th>\n",
       "      <th>deposit_type</th>\n",
       "      <th>agent</th>\n",
       "      <th>days_in_waiting_list</th>\n",
       "      <th>customer_type</th>\n",
       "      <th>adr</th>\n",
       "      <th>required_car_parking_spaces</th>\n",
       "      <th>total_of_special_requests</th>\n",
       "      <th>reservation_status</th>\n",
       "      <th>reservation_status_date</th>\n",
       "      <th>arrival_date</th>\n",
       "    </tr>\n",
       "  </thead>\n",
       "  <tbody>\n",
       "    <tr>\n",
       "      <th>0</th>\n",
       "      <td>2</td>\n",
       "      <td>Resort Hotel</td>\n",
       "      <td>0</td>\n",
       "      <td>7</td>\n",
       "      <td>27</td>\n",
       "      <td>0</td>\n",
       "      <td>1</td>\n",
       "      <td>1</td>\n",
       "      <td>0.0</td>\n",
       "      <td>0</td>\n",
       "      <td>...</td>\n",
       "      <td>No Deposit</td>\n",
       "      <td>not third party</td>\n",
       "      <td>0</td>\n",
       "      <td>Transient</td>\n",
       "      <td>75.0</td>\n",
       "      <td>0</td>\n",
       "      <td>0</td>\n",
       "      <td>Check-Out</td>\n",
       "      <td>2015-07-02</td>\n",
       "      <td>2015-07-01</td>\n",
       "    </tr>\n",
       "    <tr>\n",
       "      <th>1</th>\n",
       "      <td>3</td>\n",
       "      <td>Resort Hotel</td>\n",
       "      <td>0</td>\n",
       "      <td>13</td>\n",
       "      <td>27</td>\n",
       "      <td>0</td>\n",
       "      <td>1</td>\n",
       "      <td>1</td>\n",
       "      <td>0.0</td>\n",
       "      <td>0</td>\n",
       "      <td>...</td>\n",
       "      <td>No Deposit</td>\n",
       "      <td>304.0</td>\n",
       "      <td>0</td>\n",
       "      <td>Transient</td>\n",
       "      <td>75.0</td>\n",
       "      <td>0</td>\n",
       "      <td>0</td>\n",
       "      <td>Check-Out</td>\n",
       "      <td>2015-07-02</td>\n",
       "      <td>2015-07-01</td>\n",
       "    </tr>\n",
       "    <tr>\n",
       "      <th>2</th>\n",
       "      <td>4</td>\n",
       "      <td>Resort Hotel</td>\n",
       "      <td>0</td>\n",
       "      <td>14</td>\n",
       "      <td>27</td>\n",
       "      <td>0</td>\n",
       "      <td>2</td>\n",
       "      <td>2</td>\n",
       "      <td>0.0</td>\n",
       "      <td>0</td>\n",
       "      <td>...</td>\n",
       "      <td>No Deposit</td>\n",
       "      <td>240.0</td>\n",
       "      <td>0</td>\n",
       "      <td>Transient</td>\n",
       "      <td>98.0</td>\n",
       "      <td>0</td>\n",
       "      <td>1</td>\n",
       "      <td>Check-Out</td>\n",
       "      <td>2015-07-03</td>\n",
       "      <td>2015-07-01</td>\n",
       "    </tr>\n",
       "    <tr>\n",
       "      <th>3</th>\n",
       "      <td>5</td>\n",
       "      <td>Resort Hotel</td>\n",
       "      <td>0</td>\n",
       "      <td>14</td>\n",
       "      <td>27</td>\n",
       "      <td>0</td>\n",
       "      <td>2</td>\n",
       "      <td>2</td>\n",
       "      <td>0.0</td>\n",
       "      <td>0</td>\n",
       "      <td>...</td>\n",
       "      <td>No Deposit</td>\n",
       "      <td>240.0</td>\n",
       "      <td>0</td>\n",
       "      <td>Transient</td>\n",
       "      <td>98.0</td>\n",
       "      <td>0</td>\n",
       "      <td>1</td>\n",
       "      <td>Check-Out</td>\n",
       "      <td>2015-07-03</td>\n",
       "      <td>2015-07-01</td>\n",
       "    </tr>\n",
       "    <tr>\n",
       "      <th>4</th>\n",
       "      <td>6</td>\n",
       "      <td>Resort Hotel</td>\n",
       "      <td>0</td>\n",
       "      <td>0</td>\n",
       "      <td>27</td>\n",
       "      <td>0</td>\n",
       "      <td>2</td>\n",
       "      <td>2</td>\n",
       "      <td>0.0</td>\n",
       "      <td>0</td>\n",
       "      <td>...</td>\n",
       "      <td>No Deposit</td>\n",
       "      <td>not third party</td>\n",
       "      <td>0</td>\n",
       "      <td>Transient</td>\n",
       "      <td>107.0</td>\n",
       "      <td>0</td>\n",
       "      <td>0</td>\n",
       "      <td>Check-Out</td>\n",
       "      <td>2015-07-03</td>\n",
       "      <td>2015-07-01</td>\n",
       "    </tr>\n",
       "  </tbody>\n",
       "</table>\n",
       "<p>5 rows × 30 columns</p>\n",
       "</div>"
      ],
      "text/plain": [
       "   Unnamed: 0         hotel  is_canceled  lead_time  arrival_date_week_number  \\\n",
       "0           2  Resort Hotel            0          7                        27   \n",
       "1           3  Resort Hotel            0         13                        27   \n",
       "2           4  Resort Hotel            0         14                        27   \n",
       "3           5  Resort Hotel            0         14                        27   \n",
       "4           6  Resort Hotel            0          0                        27   \n",
       "\n",
       "   stays_in_weekend_nights  stays_in_week_nights  adults  children  babies  \\\n",
       "0                        0                     1       1       0.0       0   \n",
       "1                        0                     1       1       0.0       0   \n",
       "2                        0                     2       2       0.0       0   \n",
       "3                        0                     2       2       0.0       0   \n",
       "4                        0                     2       2       0.0       0   \n",
       "\n",
       "   ... deposit_type            agent days_in_waiting_list customer_type  \\\n",
       "0  ...   No Deposit  not third party                    0     Transient   \n",
       "1  ...   No Deposit            304.0                    0     Transient   \n",
       "2  ...   No Deposit            240.0                    0     Transient   \n",
       "3  ...   No Deposit            240.0                    0     Transient   \n",
       "4  ...   No Deposit  not third party                    0     Transient   \n",
       "\n",
       "     adr  required_car_parking_spaces  total_of_special_requests  \\\n",
       "0   75.0                            0                          0   \n",
       "1   75.0                            0                          0   \n",
       "2   98.0                            0                          1   \n",
       "3   98.0                            0                          1   \n",
       "4  107.0                            0                          0   \n",
       "\n",
       "  reservation_status reservation_status_date  arrival_date  \n",
       "0          Check-Out              2015-07-02    2015-07-01  \n",
       "1          Check-Out              2015-07-02    2015-07-01  \n",
       "2          Check-Out              2015-07-03    2015-07-01  \n",
       "3          Check-Out              2015-07-03    2015-07-01  \n",
       "4          Check-Out              2015-07-03    2015-07-01  \n",
       "\n",
       "[5 rows x 30 columns]"
      ]
     },
     "execution_count": 3,
     "metadata": {},
     "output_type": "execute_result"
    }
   ],
   "source": [
    "df.head()"
   ]
  },
  {
   "cell_type": "code",
   "execution_count": 4,
   "metadata": {},
   "outputs": [
    {
     "name": "stdout",
     "output_type": "stream",
     "text": [
      "<class 'pandas.core.frame.DataFrame'>\n",
      "RangeIndex: 117430 entries, 0 to 117429\n",
      "Data columns (total 30 columns):\n",
      " #   Column                          Non-Null Count   Dtype  \n",
      "---  ------                          --------------   -----  \n",
      " 0   Unnamed: 0                      117430 non-null  int64  \n",
      " 1   hotel                           117430 non-null  object \n",
      " 2   is_canceled                     117430 non-null  int64  \n",
      " 3   lead_time                       117430 non-null  int64  \n",
      " 4   arrival_date_week_number        117430 non-null  int64  \n",
      " 5   stays_in_weekend_nights         117430 non-null  int64  \n",
      " 6   stays_in_week_nights            117430 non-null  int64  \n",
      " 7   adults                          117430 non-null  int64  \n",
      " 8   children                        117426 non-null  float64\n",
      " 9   babies                          117430 non-null  int64  \n",
      " 10  meal                            117430 non-null  object \n",
      " 11  country                         117430 non-null  object \n",
      " 12  market_segment                  117430 non-null  object \n",
      " 13  distribution_channel            117430 non-null  object \n",
      " 14  is_repeated_guest               117430 non-null  int64  \n",
      " 15  previous_cancellations          117430 non-null  int64  \n",
      " 16  previous_bookings_not_canceled  117430 non-null  int64  \n",
      " 17  reserved_room_type              117430 non-null  object \n",
      " 18  assigned_room_type              117430 non-null  object \n",
      " 19  booking_changes                 117430 non-null  int64  \n",
      " 20  deposit_type                    117430 non-null  object \n",
      " 21  agent                           117430 non-null  object \n",
      " 22  days_in_waiting_list            117430 non-null  int64  \n",
      " 23  customer_type                   117430 non-null  object \n",
      " 24  adr                             117430 non-null  float64\n",
      " 25  required_car_parking_spaces     117430 non-null  int64  \n",
      " 26  total_of_special_requests       117430 non-null  int64  \n",
      " 27  reservation_status              117430 non-null  object \n",
      " 28  reservation_status_date         117430 non-null  object \n",
      " 29  arrival_date                    117430 non-null  object \n",
      "dtypes: float64(2), int64(15), object(13)\n",
      "memory usage: 26.9+ MB\n"
     ]
    }
   ],
   "source": [
    "df.info() "
   ]
  },
  {
   "cell_type": "code",
   "execution_count": 5,
   "metadata": {},
   "outputs": [],
   "source": [
    "df=df.drop(columns ='Unnamed: 0')"
   ]
  },
  {
   "cell_type": "code",
   "execution_count": 6,
   "metadata": {},
   "outputs": [
    {
     "data": {
      "text/html": [
       "<div>\n",
       "<style scoped>\n",
       "    .dataframe tbody tr th:only-of-type {\n",
       "        vertical-align: middle;\n",
       "    }\n",
       "\n",
       "    .dataframe tbody tr th {\n",
       "        vertical-align: top;\n",
       "    }\n",
       "\n",
       "    .dataframe thead th {\n",
       "        text-align: right;\n",
       "    }\n",
       "</style>\n",
       "<table border=\"1\" class=\"dataframe\">\n",
       "  <thead>\n",
       "    <tr style=\"text-align: right;\">\n",
       "      <th></th>\n",
       "      <th>is_canceled</th>\n",
       "      <th>lead_time</th>\n",
       "      <th>arrival_date_week_number</th>\n",
       "      <th>stays_in_weekend_nights</th>\n",
       "      <th>stays_in_week_nights</th>\n",
       "      <th>adults</th>\n",
       "      <th>children</th>\n",
       "      <th>babies</th>\n",
       "      <th>is_repeated_guest</th>\n",
       "      <th>previous_cancellations</th>\n",
       "      <th>previous_bookings_not_canceled</th>\n",
       "      <th>booking_changes</th>\n",
       "      <th>days_in_waiting_list</th>\n",
       "      <th>adr</th>\n",
       "      <th>required_car_parking_spaces</th>\n",
       "      <th>total_of_special_requests</th>\n",
       "    </tr>\n",
       "  </thead>\n",
       "  <tbody>\n",
       "    <tr>\n",
       "      <th>count</th>\n",
       "      <td>117430.000000</td>\n",
       "      <td>117430.000000</td>\n",
       "      <td>117430.000000</td>\n",
       "      <td>117430.000000</td>\n",
       "      <td>117430.000000</td>\n",
       "      <td>117430.000000</td>\n",
       "      <td>117426.000000</td>\n",
       "      <td>117430.000000</td>\n",
       "      <td>117430.000000</td>\n",
       "      <td>117430.000000</td>\n",
       "      <td>117430.000000</td>\n",
       "      <td>117430.000000</td>\n",
       "      <td>117430.000000</td>\n",
       "      <td>117430.000000</td>\n",
       "      <td>117430.000000</td>\n",
       "      <td>117430.000000</td>\n",
       "    </tr>\n",
       "    <tr>\n",
       "      <th>mean</th>\n",
       "      <td>0.374776</td>\n",
       "      <td>105.085702</td>\n",
       "      <td>27.136754</td>\n",
       "      <td>0.936456</td>\n",
       "      <td>2.521264</td>\n",
       "      <td>1.860632</td>\n",
       "      <td>0.104508</td>\n",
       "      <td>0.007869</td>\n",
       "      <td>0.027880</td>\n",
       "      <td>0.086954</td>\n",
       "      <td>0.125351</td>\n",
       "      <td>0.216495</td>\n",
       "      <td>2.337937</td>\n",
       "      <td>103.484779</td>\n",
       "      <td>0.062642</td>\n",
       "      <td>0.571038</td>\n",
       "    </tr>\n",
       "    <tr>\n",
       "      <th>std</th>\n",
       "      <td>0.484067</td>\n",
       "      <td>106.907138</td>\n",
       "      <td>13.575709</td>\n",
       "      <td>0.995796</td>\n",
       "      <td>1.893764</td>\n",
       "      <td>0.482102</td>\n",
       "      <td>0.399696</td>\n",
       "      <td>0.097168</td>\n",
       "      <td>0.164631</td>\n",
       "      <td>0.848690</td>\n",
       "      <td>1.446214</td>\n",
       "      <td>0.633205</td>\n",
       "      <td>17.677053</td>\n",
       "      <td>46.708941</td>\n",
       "      <td>0.245565</td>\n",
       "      <td>0.791655</td>\n",
       "    </tr>\n",
       "    <tr>\n",
       "      <th>min</th>\n",
       "      <td>0.000000</td>\n",
       "      <td>0.000000</td>\n",
       "      <td>1.000000</td>\n",
       "      <td>0.000000</td>\n",
       "      <td>0.000000</td>\n",
       "      <td>0.000000</td>\n",
       "      <td>0.000000</td>\n",
       "      <td>0.000000</td>\n",
       "      <td>0.000000</td>\n",
       "      <td>0.000000</td>\n",
       "      <td>0.000000</td>\n",
       "      <td>0.000000</td>\n",
       "      <td>0.000000</td>\n",
       "      <td>-6.380000</td>\n",
       "      <td>0.000000</td>\n",
       "      <td>0.000000</td>\n",
       "    </tr>\n",
       "    <tr>\n",
       "      <th>25%</th>\n",
       "      <td>0.000000</td>\n",
       "      <td>19.000000</td>\n",
       "      <td>16.000000</td>\n",
       "      <td>0.000000</td>\n",
       "      <td>1.000000</td>\n",
       "      <td>2.000000</td>\n",
       "      <td>0.000000</td>\n",
       "      <td>0.000000</td>\n",
       "      <td>0.000000</td>\n",
       "      <td>0.000000</td>\n",
       "      <td>0.000000</td>\n",
       "      <td>0.000000</td>\n",
       "      <td>0.000000</td>\n",
       "      <td>70.530000</td>\n",
       "      <td>0.000000</td>\n",
       "      <td>0.000000</td>\n",
       "    </tr>\n",
       "    <tr>\n",
       "      <th>50%</th>\n",
       "      <td>0.000000</td>\n",
       "      <td>71.000000</td>\n",
       "      <td>27.000000</td>\n",
       "      <td>1.000000</td>\n",
       "      <td>2.000000</td>\n",
       "      <td>2.000000</td>\n",
       "      <td>0.000000</td>\n",
       "      <td>0.000000</td>\n",
       "      <td>0.000000</td>\n",
       "      <td>0.000000</td>\n",
       "      <td>0.000000</td>\n",
       "      <td>0.000000</td>\n",
       "      <td>0.000000</td>\n",
       "      <td>95.000000</td>\n",
       "      <td>0.000000</td>\n",
       "      <td>0.000000</td>\n",
       "    </tr>\n",
       "    <tr>\n",
       "      <th>75%</th>\n",
       "      <td>1.000000</td>\n",
       "      <td>162.000000</td>\n",
       "      <td>38.000000</td>\n",
       "      <td>2.000000</td>\n",
       "      <td>3.000000</td>\n",
       "      <td>2.000000</td>\n",
       "      <td>0.000000</td>\n",
       "      <td>0.000000</td>\n",
       "      <td>0.000000</td>\n",
       "      <td>0.000000</td>\n",
       "      <td>0.000000</td>\n",
       "      <td>0.000000</td>\n",
       "      <td>0.000000</td>\n",
       "      <td>126.000000</td>\n",
       "      <td>0.000000</td>\n",
       "      <td>1.000000</td>\n",
       "    </tr>\n",
       "    <tr>\n",
       "      <th>max</th>\n",
       "      <td>1.000000</td>\n",
       "      <td>709.000000</td>\n",
       "      <td>53.000000</td>\n",
       "      <td>19.000000</td>\n",
       "      <td>50.000000</td>\n",
       "      <td>4.000000</td>\n",
       "      <td>10.000000</td>\n",
       "      <td>10.000000</td>\n",
       "      <td>1.000000</td>\n",
       "      <td>26.000000</td>\n",
       "      <td>72.000000</td>\n",
       "      <td>18.000000</td>\n",
       "      <td>391.000000</td>\n",
       "      <td>510.000000</td>\n",
       "      <td>8.000000</td>\n",
       "      <td>5.000000</td>\n",
       "    </tr>\n",
       "  </tbody>\n",
       "</table>\n",
       "</div>"
      ],
      "text/plain": [
       "         is_canceled      lead_time  arrival_date_week_number  \\\n",
       "count  117430.000000  117430.000000             117430.000000   \n",
       "mean        0.374776     105.085702                 27.136754   \n",
       "std         0.484067     106.907138                 13.575709   \n",
       "min         0.000000       0.000000                  1.000000   \n",
       "25%         0.000000      19.000000                 16.000000   \n",
       "50%         0.000000      71.000000                 27.000000   \n",
       "75%         1.000000     162.000000                 38.000000   \n",
       "max         1.000000     709.000000                 53.000000   \n",
       "\n",
       "       stays_in_weekend_nights  stays_in_week_nights         adults  \\\n",
       "count            117430.000000         117430.000000  117430.000000   \n",
       "mean                  0.936456              2.521264       1.860632   \n",
       "std                   0.995796              1.893764       0.482102   \n",
       "min                   0.000000              0.000000       0.000000   \n",
       "25%                   0.000000              1.000000       2.000000   \n",
       "50%                   1.000000              2.000000       2.000000   \n",
       "75%                   2.000000              3.000000       2.000000   \n",
       "max                  19.000000             50.000000       4.000000   \n",
       "\n",
       "            children         babies  is_repeated_guest  \\\n",
       "count  117426.000000  117430.000000      117430.000000   \n",
       "mean        0.104508       0.007869           0.027880   \n",
       "std         0.399696       0.097168           0.164631   \n",
       "min         0.000000       0.000000           0.000000   \n",
       "25%         0.000000       0.000000           0.000000   \n",
       "50%         0.000000       0.000000           0.000000   \n",
       "75%         0.000000       0.000000           0.000000   \n",
       "max        10.000000      10.000000           1.000000   \n",
       "\n",
       "       previous_cancellations  previous_bookings_not_canceled  \\\n",
       "count           117430.000000                   117430.000000   \n",
       "mean                 0.086954                        0.125351   \n",
       "std                  0.848690                        1.446214   \n",
       "min                  0.000000                        0.000000   \n",
       "25%                  0.000000                        0.000000   \n",
       "50%                  0.000000                        0.000000   \n",
       "75%                  0.000000                        0.000000   \n",
       "max                 26.000000                       72.000000   \n",
       "\n",
       "       booking_changes  days_in_waiting_list            adr  \\\n",
       "count    117430.000000         117430.000000  117430.000000   \n",
       "mean          0.216495              2.337937     103.484779   \n",
       "std           0.633205             17.677053      46.708941   \n",
       "min           0.000000              0.000000      -6.380000   \n",
       "25%           0.000000              0.000000      70.530000   \n",
       "50%           0.000000              0.000000      95.000000   \n",
       "75%           0.000000              0.000000     126.000000   \n",
       "max          18.000000            391.000000     510.000000   \n",
       "\n",
       "       required_car_parking_spaces  total_of_special_requests  \n",
       "count                117430.000000              117430.000000  \n",
       "mean                      0.062642                   0.571038  \n",
       "std                       0.245565                   0.791655  \n",
       "min                       0.000000                   0.000000  \n",
       "25%                       0.000000                   0.000000  \n",
       "50%                       0.000000                   0.000000  \n",
       "75%                       0.000000                   1.000000  \n",
       "max                       8.000000                   5.000000  "
      ]
     },
     "execution_count": 6,
     "metadata": {},
     "output_type": "execute_result"
    }
   ],
   "source": [
    "# Descriptive Statistics \n",
    "\n",
    "df.describe()"
   ]
  },
  {
   "cell_type": "markdown",
   "metadata": {},
   "source": [
    "## Data Visualization"
   ]
  },
  {
   "cell_type": "code",
   "execution_count": 7,
   "metadata": {},
   "outputs": [
    {
     "data": {
      "text/plain": [
       "<AxesSubplot:>"
      ]
     },
     "execution_count": 7,
     "metadata": {},
     "output_type": "execute_result"
    },
    {
     "data": {
      "image/png": "[encoded data removed]",
      "text/plain": [
       "<Figure size 1008x1008 with 2 Axes>"
      ]
     },
     "metadata": {
      "needs_background": "light"
     },
     "output_type": "display_data"
    }
   ],
   "source": [
    "# heatmap\n",
    "plt.figure(figsize = (14,14))\n",
    "sns.heatmap(df.corr())"
   ]
  },
  {
   "cell_type": "code",
   "execution_count": 8,
   "metadata": {},
   "outputs": [],
   "source": [
    "df_corr = df.corr()"
   ]
  },
  {
   "cell_type": "code",
   "execution_count": 9,
   "metadata": {},
   "outputs": [
    {
     "data": {
      "text/plain": [
       "adr                               1.000000\n",
       "children                          0.353152\n",
       "adults                            0.285106\n",
       "total_of_special_requests         0.191294\n",
       "arrival_date_week_number          0.089215\n",
       "required_car_parking_spaces       0.061355\n",
       "stays_in_week_nights              0.048567\n",
       "booking_changes                   0.037216\n",
       "stays_in_weekend_nights           0.035640\n",
       "babies                            0.034102\n",
       "is_canceled                       0.030951\n",
       "days_in_waiting_list             -0.046598\n",
       "previous_bookings_not_canceled   -0.064081\n",
       "previous_cancellations           -0.071310\n",
       "lead_time                        -0.090983\n",
       "is_repeated_guest                -0.103289\n",
       "Name: adr, dtype: float64"
      ]
     },
     "execution_count": 9,
     "metadata": {},
     "output_type": "execute_result"
    }
   ],
   "source": [
    "(df_corr['adr']).sort_values(ascending = False)"
   ]
  },
  {
   "cell_type": "markdown",
   "metadata": {},
   "source": [
    "ADR has high correlation with children, adults, total_of_special_requests. Having more people (adults and children) and special orders increases daily rate. "
   ]
  },
  {
   "cell_type": "code",
   "execution_count": 10,
   "metadata": {},
   "outputs": [],
   "source": [
    "# Split the df by cancallation\n",
    "\n",
    "df_c0 = df[df['is_canceled']==0]['adr'] # not canceled\n",
    "df_c1 = df[df['is_canceled']==1]['adr'] # canceled"
   ]
  },
  {
   "cell_type": "code",
   "execution_count": 11,
   "metadata": {
    "scrolled": true
   },
   "outputs": [
    {
     "name": "stdout",
     "output_type": "stream",
     "text": [
      "No cancellation reservation: 73420\n",
      "Cancellation reservation: 44010\n",
      "37.4776462573448\n"
     ]
    }
   ],
   "source": [
    "# count booking cancelled \n",
    "\n",
    "print('No cancellation reservation:', len(df_c0))\n",
    "print('Cancellation reservation:', len(df_c1))\n",
    "\n",
    "# percentage of booking cancelled\n",
    "print ((len(df_c1)/len(df.adr))*100)"
   ]
  },
  {
   "cell_type": "code",
   "execution_count": 12,
   "metadata": {},
   "outputs": [
    {
     "data": {
      "text/plain": [
       "<AxesSubplot:xlabel='is_canceled', ylabel='count'>"
      ]
     },
     "execution_count": 12,
     "metadata": {},
     "output_type": "execute_result"
    },
    {
     "data": {
      "image/png": "[encoded data removed]",
      "text/plain": [
       "<Figure size 504x504 with 1 Axes>"
      ]
     },
     "metadata": {
      "needs_background": "light"
     },
     "output_type": "display_data"
    }
   ],
   "source": [
    "# Bar plot showing the number of cancelled vs not cancelled reservations\n",
    "\n",
    "plt.figure(figsize = (7,7))\n",
    "sns.countplot(x ='is_canceled', data = df)\n"
   ]
  },
  {
   "cell_type": "markdown",
   "metadata": {},
   "source": [
    "## Statistics Inference "
   ]
  },
  {
   "cell_type": "markdown",
   "metadata": {},
   "source": [
    "**Null Hypothesis**: The average daily rate price (ADR) booked by who has cancelled the reservation has the same rate as people who is not cancelled.\n",
    "\n",
    "**Alternative Hypothesis**: The average daily rate price (ADR) booked by who has cancelled the reservation does NOt have the same rate as people who is not cancelled."
   ]
  },
  {
   "cell_type": "code",
   "execution_count": 13,
   "metadata": {},
   "outputs": [
    {
     "data": {
      "text/plain": [
       "Text(0, 0.5, 'counts')"
      ]
     },
     "execution_count": 13,
     "metadata": {},
     "output_type": "execute_result"
    },
    {
     "data": {
      "image/png": "[encoded data removed]",
      "text/plain": [
       "<Figure size 432x288 with 1 Axes>"
      ]
     },
     "metadata": {
      "needs_background": "light"
     },
     "output_type": "display_data"
    }
   ],
   "source": [
    "# not canceled average daily rate (price) histogram\n",
    "\n",
    "plt.hist(df_c0)\n",
    "\n",
    "plt.title ('not canceled reservations')\n",
    "plt.xlabel ('average daily rate')\n",
    "plt.ylabel ('counts')"
   ]
  },
  {
   "cell_type": "code",
   "execution_count": 14,
   "metadata": {},
   "outputs": [
    {
     "data": {
      "text/plain": [
       "Text(0, 0.5, 'counts')"
      ]
     },
     "execution_count": 14,
     "metadata": {},
     "output_type": "execute_result"
    },
    {
     "data": {
      "image/png": "[encoded data removed]",
      "text/plain": [
       "<Figure size 432x288 with 1 Axes>"
      ]
     },
     "metadata": {
      "needs_background": "light"
     },
     "output_type": "display_data"
    }
   ],
   "source": [
    "# canceled average daily rate (price) histogram\n",
    "\n",
    "plt.hist(df_c1)\n",
    "\n",
    "plt.title ('canceled reservations')\n",
    "plt.xlabel ('average daily rate')\n",
    "plt.ylabel ('counts')"
   ]
  },
  {
   "cell_type": "markdown",
   "metadata": {},
   "source": [
    "compute variance of two sample for adr , whether they are equal or not, if equal set to True , False otherwise\n",
    "\n"
   ]
  },
  {
   "cell_type": "code",
   "execution_count": 15,
   "metadata": {},
   "outputs": [
    {
     "name": "stdout",
     "output_type": "stream",
     "text": [
      "not canceled reservation sample variance: 2235.3979448409814\n",
      "canceled reservation sample variance: 2086.558956823997\n",
      "The variances between two samples are not equal, therefore equal_var = False\n"
     ]
    }
   ],
   "source": [
    "# Checking variances of two samples whether they are equal or not.\n",
    "\n",
    "s0 = np.var(df_c0)\n",
    "s1 = np.var(df_c1)\n",
    "\n",
    "print('not canceled reservation sample variance:', s0)\n",
    "print('canceled reservation sample variance:', s1)\n",
    "print('The variances between two samples are not equal, therefore equal_var = False')"
   ]
  },
  {
   "cell_type": "code",
   "execution_count": 16,
   "metadata": {},
   "outputs": [
    {
     "data": {
      "text/plain": [
       "Ttest_indResult(statistic=10.703145535100406, pvalue=1.0189002913869198e-26)"
      ]
     },
     "execution_count": 16,
     "metadata": {},
     "output_type": "execute_result"
    }
   ],
   "source": [
    "ttest_ind(df_c1, df_c0, equal_var=False)"
   ]
  },
  {
   "cell_type": "markdown",
   "metadata": {},
   "source": [
    "The p-value is lower than 0.05 (standard alpha value, significance level). Therefore, we can reject the null hypothesis and accept alternative hypothesis. \n",
    "**The average daily rate (ADR) between two groups (who has cancelled and not cancelled the reservation) are different.**"
   ]
  },
  {
   "cell_type": "markdown",
   "metadata": {},
   "source": [
    "## Bootstrapping"
   ]
  },
  {
   "cell_type": "markdown",
   "metadata": {},
   "source": [
    "The shape of histogram follows normal distribution trends however, they are slightly skewed to the right. I am going to use bootstrapping method to check my t-test results."
   ]
  },
  {
   "cell_type": "markdown",
   "metadata": {},
   "source": [
    "**Null Hypothesis**: The average daily rate price (ADR) booked by who has cancelled the reservation has the same rate as people who is not cancelled.\n",
    "\n",
    "**Alternative Hypothesis**: The average daily rate price (ADR) booked by who has cancelled the reservation does NOt have the same rate as people who is not cancelled."
   ]
  },
  {
   "cell_type": "code",
   "execution_count": 17,
   "metadata": {},
   "outputs": [],
   "source": [
    "difference = list()\n",
    "\n",
    "# Now make a for loop that does the following 10,000 times:\n",
    "# 1. makes a permutation of the 'Rating' as you did above\n",
    "# 2. calculates the difference in the mean rating for apple and the mean rating for google. \n",
    "for i in range(10000):\n",
    "    permutation = np.random.permutation(df['adr'])\n",
    "    difference.append(np.mean(permutation[df['is_canceled']==0]) - np.mean(permutation[df['is_canceled']==1]))"
   ]
  },
  {
   "cell_type": "code",
   "execution_count": 18,
   "metadata": {},
   "outputs": [],
   "source": [
    "empirical_diff = abs(np.mean(df_c0)-np.mean(df_c1))"
   ]
  },
  {
   "cell_type": "code",
   "execution_count": 23,
   "metadata": {},
   "outputs": [
    {
     "name": "stdout",
     "output_type": "stream",
     "text": [
      "0\n",
      "0\n",
      "0.0\n"
     ]
    }
   ],
   "source": [
    "positiveExtremes = []\n",
    "negativeExtremes = []\n",
    "for i in range(len(difference)):\n",
    "    if (difference[i] >= empirical_diff):\n",
    "        positiveExtremes.append(difference[i])\n",
    "    elif (difference[i] <= -empirical_diff):\n",
    "        negativeExtremes.append(difference[i])\n",
    "\n",
    "print(len(positiveExtremes))\n",
    "print(len(negativeExtremes))\n",
    "\n",
    "p = (len(positiveExtremes)+len(negativeExtremes))/len(difference)\n",
    "\n",
    "print (p)"
   ]
  },
  {
   "cell_type": "markdown",
   "metadata": {},
   "source": [
    "P value = 0, very significant evidence that the prices are different between two groups."
   ]
  },
  {
   "cell_type": "code",
   "execution_count": null,
   "metadata": {},
   "outputs": [],
   "source": []
  }
 ],
 "metadata": {
  "kernelspec": {
   "display_name": "Python 3",
   "language": "python",
   "name": "python3"
  },
  "language_info": {
   "codemirror_mode": {
    "name": "ipython",
    "version": 3
   },
   "file_extension": ".py",
   "mimetype": "text/x-python",
   "name": "python",
   "nbconvert_exporter": "python",
   "pygments_lexer": "ipython3",
   "version": "3.8.5"
  }
 },
 "nbformat": 4,
 "nbformat_minor": 4
}
